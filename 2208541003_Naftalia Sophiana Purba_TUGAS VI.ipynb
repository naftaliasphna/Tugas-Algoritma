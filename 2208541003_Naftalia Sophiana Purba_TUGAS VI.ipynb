{
  "nbformat": 4,
  "nbformat_minor": 0,
  "metadata": {
    "colab": {
      "provenance": []
    },
    "kernelspec": {
      "name": "python3",
      "display_name": "Python 3"
    },
    "language_info": {
      "name": "python"
    }
  },
  "cells": [
    {
      "cell_type": "markdown",
      "source": [
        "# **5.21 Pandas**\n",
        "\n",
        "---\n",
        "\n"
      ],
      "metadata": {
        "id": "lFAefbsnJ0kr"
      }
    },
    {
      "cell_type": "markdown",
      "source": [
        "Pandas adalah salah stau library Python yang digunakan untuk melakukan analisis data. Pandas dapat digunakan untuk membaca, mengubah, dan memanipulasi data dari berbgaai bentuk data, seperti csv, excel, txt, dan sebagainya"
      ],
      "metadata": {
        "id": "63LlAfJLKDGl"
      }
    },
    {
      "cell_type": "code",
      "execution_count": 1,
      "metadata": {
        "id": "zKwbc6vlJLi0"
      },
      "outputs": [],
      "source": [
        "import pandas as pd\n",
        "# Perlu dilakukan inisialisasi 'pandas' sebagai 'pd'"
      ]
    },
    {
      "cell_type": "code",
      "source": [
        "# Sebelum menjalankan perintah kita upload terlebih dahulu data yang akan kita analisis"
      ],
      "metadata": {
        "id": "EEBC0LBcJmkL"
      },
      "execution_count": 2,
      "outputs": []
    },
    {
      "cell_type": "markdown",
      "source": [
        "# 5.21.1 Membaca File Data pada Pandas"
      ],
      "metadata": {
        "id": "gvXbx3q4tL8Y"
      }
    },
    {
      "cell_type": "code",
      "source": [
        "# Latihan Membaca File Data pada pandas\n",
        "\n",
        "# Mencetak data yang ada pada link yang diberikan\n",
        "print(\"Data dari link :\")\n",
        "data_03 = pd.read_csv(\"https://raw.githubusercontent.com/imdwipayana/DATA/main/Bunga%20Iris/bunga_iris.csv\")\n",
        "print(data_03)\n",
        "\n",
        "print(\"\\n\")\n",
        "\n",
        "# Mencetak data dari file yang diupload\n",
        "print(\"Data dari file yang diupload :\")\n",
        "data_03 = pd.read_csv(\"bunga_iris.csv\")\n",
        "print(data_03)\n",
        "# Digunakan csv karena file kita berbentuk csv\n",
        "# Jika file yang digunakan bebentuk text atau excel, maka csv diganti dengan txt atau xlsx"
      ],
      "metadata": {
        "colab": {
          "base_uri": "https://localhost:8080/"
        },
        "id": "9WTfzWF-JvPi",
        "outputId": "34311b41-6cc3-49c3-a966-0ebf81ac34bf"
      },
      "execution_count": 3,
      "outputs": [
        {
          "output_type": "stream",
          "name": "stdout",
          "text": [
            "Data dari link :\n",
            "     sepal length (cm)  sepal width (cm)  petal length (cm)  petal width (cm)\n",
            "0                  5.1               3.5                1.4               0.2\n",
            "1                  4.9               3.0                1.4               0.2\n",
            "2                  4.7               3.2                1.3               0.2\n",
            "3                  4.6               3.1                1.5               0.2\n",
            "4                  5.0               3.6                1.4               0.2\n",
            "..                 ...               ...                ...               ...\n",
            "145                6.7               3.0                5.2               2.3\n",
            "146                6.3               2.5                5.0               1.9\n",
            "147                6.5               3.0                5.2               2.0\n",
            "148                6.2               3.4                5.4               2.3\n",
            "149                5.9               3.0                5.1               1.8\n",
            "\n",
            "[150 rows x 4 columns]\n",
            "\n",
            "\n",
            "Data dari file yang diupload :\n",
            "     sepal length (cm)  sepal width (cm)  petal length (cm)  petal width (cm)\n",
            "0                  5.1               3.5                1.4               0.2\n",
            "1                  4.9               3.0                1.4               0.2\n",
            "2                  4.7               3.2                1.3               0.2\n",
            "3                  4.6               3.1                1.5               0.2\n",
            "4                  5.0               3.6                1.4               0.2\n",
            "..                 ...               ...                ...               ...\n",
            "145                6.7               3.0                5.2               2.3\n",
            "146                6.3               2.5                5.0               1.9\n",
            "147                6.5               3.0                5.2               2.0\n",
            "148                6.2               3.4                5.4               2.3\n",
            "149                5.9               3.0                5.1               1.8\n",
            "\n",
            "[150 rows x 4 columns]\n"
          ]
        }
      ]
    },
    {
      "cell_type": "markdown",
      "source": [
        "# 5.21.2 Properti pada Pandas"
      ],
      "metadata": {
        "id": "T9kvapLuKWJe"
      }
    },
    {
      "cell_type": "code",
      "source": [
        "# Latihan Properti pada Pandas\n",
        "\n",
        "# Inisialisasi Pandas\n",
        "data_03 = pd.read_csv(\"bunga_iris.csv\")\n",
        "\n",
        "# Mencetak data dari judul sampai data keenam\n",
        "print(\"Print 1 :\")\n",
        "print(data_03.head(6))\n",
        "# Ingat kembali bahwa urutan awal dimulai dari 0\n",
        "# Sehingga outputnya akan menghitung data dengan urutan awal 0\n",
        "\n",
        "print(\"\\n\")\n",
        "\n",
        "# Mencetak nama-nama dari tiap kolom\n",
        "print(\"Print 2 :\")\n",
        "print(data_03.columns)\n",
        "\n",
        "print(\"\\n\")\n",
        "\n",
        "# Mencetak nilai dari kolom 'sepal width (cm)'\n",
        "print(\"Print 3 :\")\n",
        "print(data_03[\"sepal width (cm)\"])\n",
        "\n",
        "print(\"\\n\")\n",
        "\n",
        "# Mencetak nilai dari kolom 'sepal width (cm)' pada data di baris kedua\n",
        "print(\"Print 4 :\")\n",
        "x = (data_03[\"sepal width (cm)\"][1])\n",
        "print(\"sepal width (cm) dari data di baris kedua adalah\", x)\n",
        "# Ingat kembali index dihitung dari 0, jadi jika kita memasukkan index 1, maka kita meminta di urutan kedua\n",
        "\n",
        "print(\"\\n\")\n",
        "\n",
        "# Mencetak nilai dari kolom 'petal length (cm)' di baris pertama sampai ketiga\n",
        "print(\"Print 5 :\")\n",
        "print(data_03[\"petal length (cm)\"][0:3])\n",
        "# Ingat urutan pertama adalah 0\n",
        "\n",
        "print(\"\\n\")\n",
        "\n",
        "# Mencetak data ketiga sampai data keenam dari 'petal length (cm)' dan 'petal width (cm)'\n",
        "print(\"Print 6 :\")\n",
        "print(data_03[[\"petal length (cm)\", \"petal width (cm)\"]][2:6])\n",
        "\n",
        "print(\"\\n\")\n",
        "\n",
        "# Mencetak seluruh nilai pada kolom di baris kedua\n",
        "print(\"Print 7 :\")\n",
        "print(data_03.iloc[1])\n",
        "\n",
        "print(\"\\n\")\n",
        "\n",
        "# Mencetak seluruh nilai pada kolom di baris pertama sampai ketiga\n",
        "print(\"Print 8 :\")\n",
        "print(data_03.iloc[0:3])\n",
        "\n",
        "print(\"\\n\")\n",
        "\n",
        "# Mencetak semua data yang memiliki nilai 1.4 pada kolom 'petal length (cm)'\n",
        "print(\"Print 8 :\")\n",
        "print(data_03.loc[data_03[\"petal length (cm)\"]==1.4])"
      ],
      "metadata": {
        "colab": {
          "base_uri": "https://localhost:8080/"
        },
        "id": "4DnBm4UeKMUP",
        "outputId": "071b52bf-6ff2-4d8a-f641-5f428e3c41a4"
      },
      "execution_count": 4,
      "outputs": [
        {
          "output_type": "stream",
          "name": "stdout",
          "text": [
            "Print 1 :\n",
            "   sepal length (cm)  sepal width (cm)  petal length (cm)  petal width (cm)\n",
            "0                5.1               3.5                1.4               0.2\n",
            "1                4.9               3.0                1.4               0.2\n",
            "2                4.7               3.2                1.3               0.2\n",
            "3                4.6               3.1                1.5               0.2\n",
            "4                5.0               3.6                1.4               0.2\n",
            "5                5.4               3.9                1.7               0.4\n",
            "\n",
            "\n",
            "Print 2 :\n",
            "Index(['sepal length (cm)', 'sepal width (cm)', 'petal length (cm)',\n",
            "       'petal width (cm)'],\n",
            "      dtype='object')\n",
            "\n",
            "\n",
            "Print 3 :\n",
            "0      3.5\n",
            "1      3.0\n",
            "2      3.2\n",
            "3      3.1\n",
            "4      3.6\n",
            "      ... \n",
            "145    3.0\n",
            "146    2.5\n",
            "147    3.0\n",
            "148    3.4\n",
            "149    3.0\n",
            "Name: sepal width (cm), Length: 150, dtype: float64\n",
            "\n",
            "\n",
            "Print 4 :\n",
            "sepal width (cm) dari data di baris kedua adalah 3.0\n",
            "\n",
            "\n",
            "Print 5 :\n",
            "0    1.4\n",
            "1    1.4\n",
            "2    1.3\n",
            "Name: petal length (cm), dtype: float64\n",
            "\n",
            "\n",
            "Print 6 :\n",
            "   petal length (cm)  petal width (cm)\n",
            "2                1.3               0.2\n",
            "3                1.5               0.2\n",
            "4                1.4               0.2\n",
            "5                1.7               0.4\n",
            "\n",
            "\n",
            "Print 7 :\n",
            "sepal length (cm)    4.9\n",
            "sepal width (cm)     3.0\n",
            "petal length (cm)    1.4\n",
            "petal width (cm)     0.2\n",
            "Name: 1, dtype: float64\n",
            "\n",
            "\n",
            "Print 8 :\n",
            "   sepal length (cm)  sepal width (cm)  petal length (cm)  petal width (cm)\n",
            "0                5.1               3.5                1.4               0.2\n",
            "1                4.9               3.0                1.4               0.2\n",
            "2                4.7               3.2                1.3               0.2\n",
            "\n",
            "\n",
            "Print 8 :\n",
            "    sepal length (cm)  sepal width (cm)  petal length (cm)  petal width (cm)\n",
            "0                 5.1               3.5                1.4               0.2\n",
            "1                 4.9               3.0                1.4               0.2\n",
            "4                 5.0               3.6                1.4               0.2\n",
            "6                 4.6               3.4                1.4               0.3\n",
            "8                 4.4               2.9                1.4               0.2\n",
            "12                4.8               3.0                1.4               0.1\n",
            "17                5.1               3.5                1.4               0.3\n",
            "28                5.2               3.4                1.4               0.2\n",
            "33                5.5               4.2                1.4               0.2\n",
            "37                4.9               3.6                1.4               0.1\n",
            "45                4.8               3.0                1.4               0.3\n",
            "47                4.6               3.2                1.4               0.2\n",
            "49                5.0               3.3                1.4               0.2\n"
          ]
        }
      ]
    },
    {
      "cell_type": "markdown",
      "source": [
        "# 5.21.3 Mengurutkan Data pada Pandas"
      ],
      "metadata": {
        "id": "XEL6jGFTKlN-"
      }
    },
    {
      "cell_type": "code",
      "source": [
        "# Latihan 1 mengurutkan data pada pandas\n",
        "\n",
        "# Mengurutkan data pada kolom 'petal length (cm)'\n",
        "print(\"Print 1 :\")\n",
        "print(data_03.sort_values(\"petal length (cm)\"))\n",
        "# Karena data berisikan angka, maka akan diurutkan dari angka terkecil ke terbesar "
      ],
      "metadata": {
        "colab": {
          "base_uri": "https://localhost:8080/"
        },
        "id": "mZXMyyeGKhQ_",
        "outputId": "28d3b8a0-02d0-40f3-d6fd-cef25c3d14c6"
      },
      "execution_count": 5,
      "outputs": [
        {
          "output_type": "stream",
          "name": "stdout",
          "text": [
            "Print 1 :\n",
            "     sepal length (cm)  sepal width (cm)  petal length (cm)  petal width (cm)\n",
            "22                 4.6               3.6                1.0               0.2\n",
            "13                 4.3               3.0                1.1               0.1\n",
            "14                 5.8               4.0                1.2               0.2\n",
            "35                 5.0               3.2                1.2               0.2\n",
            "36                 5.5               3.5                1.3               0.2\n",
            "..                 ...               ...                ...               ...\n",
            "131                7.9               3.8                6.4               2.0\n",
            "105                7.6               3.0                6.6               2.1\n",
            "117                7.7               3.8                6.7               2.2\n",
            "122                7.7               2.8                6.7               2.0\n",
            "118                7.7               2.6                6.9               2.3\n",
            "\n",
            "[150 rows x 4 columns]\n"
          ]
        }
      ]
    },
    {
      "cell_type": "code",
      "source": [
        "# Latihan 2 mengurutkan data pada pandas\n",
        "\n",
        "# Mencetak data dengan kolom 'petal length (cm)' yang diurutkan dari nilai terbesar ke terkecil\n",
        "# Sebab ascending=False artinya meminta kebalikan dari perintah\n",
        "print(\"Berikut data ketika ascending bernilai False :\")\n",
        "x = data_03.sort_values(\"petal length (cm)\", ascending=False)\n",
        "print(x)\n",
        "\n",
        "print(\"\\n\")\n",
        "\n",
        "# Mencetak data dengan kolom 'petal length (cm)' yang diurutkan dari nilai terkecil ke terbesar\n",
        "print(\"Berikut data ketika ascending bernilai True :\")\n",
        "y = data_03.sort_values(\"petal length (cm)\", ascending=True)\n",
        "print(y)\n",
        "\n",
        "# Dapat dilihat bahwa ascending jika bernilai False maka data akan diurutkan dari nilai terbesar ke terkecil (menurun)\n",
        "# Sementara jika ascending bernilai True, maka data akan diurutkan dari terkecil ke terbesar (menaik)"
      ],
      "metadata": {
        "colab": {
          "base_uri": "https://localhost:8080/"
        },
        "id": "FimM5S0CKyUc",
        "outputId": "e311dd2f-7f57-4480-857a-e46e05a1e2f8"
      },
      "execution_count": 6,
      "outputs": [
        {
          "output_type": "stream",
          "name": "stdout",
          "text": [
            "Berikut data ketika ascending bernilai False :\n",
            "     sepal length (cm)  sepal width (cm)  petal length (cm)  petal width (cm)\n",
            "118                7.7               2.6                6.9               2.3\n",
            "122                7.7               2.8                6.7               2.0\n",
            "117                7.7               3.8                6.7               2.2\n",
            "105                7.6               3.0                6.6               2.1\n",
            "131                7.9               3.8                6.4               2.0\n",
            "..                 ...               ...                ...               ...\n",
            "16                 5.4               3.9                1.3               0.4\n",
            "35                 5.0               3.2                1.2               0.2\n",
            "14                 5.8               4.0                1.2               0.2\n",
            "13                 4.3               3.0                1.1               0.1\n",
            "22                 4.6               3.6                1.0               0.2\n",
            "\n",
            "[150 rows x 4 columns]\n",
            "\n",
            "\n",
            "Berikut data ketika ascending bernilai True :\n",
            "     sepal length (cm)  sepal width (cm)  petal length (cm)  petal width (cm)\n",
            "22                 4.6               3.6                1.0               0.2\n",
            "13                 4.3               3.0                1.1               0.1\n",
            "14                 5.8               4.0                1.2               0.2\n",
            "35                 5.0               3.2                1.2               0.2\n",
            "36                 5.5               3.5                1.3               0.2\n",
            "..                 ...               ...                ...               ...\n",
            "131                7.9               3.8                6.4               2.0\n",
            "105                7.6               3.0                6.6               2.1\n",
            "117                7.7               3.8                6.7               2.2\n",
            "122                7.7               2.8                6.7               2.0\n",
            "118                7.7               2.6                6.9               2.3\n",
            "\n",
            "[150 rows x 4 columns]\n"
          ]
        }
      ]
    },
    {
      "cell_type": "code",
      "source": [
        "# Latihan 3 mengurutkan data pada pandas\n",
        "\n",
        "# Mencetak urutan data dari nilai terkecil sampai terbesar pada 'sepal length (cm) dan 'petal length (cm)'\n",
        "data_03.sort_values([\"sepal length (cm)\",\"petal length (cm)\"])"
      ],
      "metadata": {
        "colab": {
          "base_uri": "https://localhost:8080/",
          "height": 423
        },
        "id": "CTKm25j9tjqe",
        "outputId": "39998280-dbbc-4cc5-fcc9-5f25c067cd38"
      },
      "execution_count": 7,
      "outputs": [
        {
          "output_type": "execute_result",
          "data": {
            "text/plain": [
              "     sepal length (cm)  sepal width (cm)  petal length (cm)  petal width (cm)\n",
              "13                 4.3               3.0                1.1               0.1\n",
              "38                 4.4               3.0                1.3               0.2\n",
              "42                 4.4               3.2                1.3               0.2\n",
              "8                  4.4               2.9                1.4               0.2\n",
              "41                 4.5               2.3                1.3               0.3\n",
              "..                 ...               ...                ...               ...\n",
              "135                7.7               3.0                6.1               2.3\n",
              "117                7.7               3.8                6.7               2.2\n",
              "122                7.7               2.8                6.7               2.0\n",
              "118                7.7               2.6                6.9               2.3\n",
              "131                7.9               3.8                6.4               2.0\n",
              "\n",
              "[150 rows x 4 columns]"
            ],
            "text/html": [
              "\n",
              "  <div id=\"df-3503d92f-422e-42a7-9b22-c9430bf2a826\">\n",
              "    <div class=\"colab-df-container\">\n",
              "      <div>\n",
              "<style scoped>\n",
              "    .dataframe tbody tr th:only-of-type {\n",
              "        vertical-align: middle;\n",
              "    }\n",
              "\n",
              "    .dataframe tbody tr th {\n",
              "        vertical-align: top;\n",
              "    }\n",
              "\n",
              "    .dataframe thead th {\n",
              "        text-align: right;\n",
              "    }\n",
              "</style>\n",
              "<table border=\"1\" class=\"dataframe\">\n",
              "  <thead>\n",
              "    <tr style=\"text-align: right;\">\n",
              "      <th></th>\n",
              "      <th>sepal length (cm)</th>\n",
              "      <th>sepal width (cm)</th>\n",
              "      <th>petal length (cm)</th>\n",
              "      <th>petal width (cm)</th>\n",
              "    </tr>\n",
              "  </thead>\n",
              "  <tbody>\n",
              "    <tr>\n",
              "      <th>13</th>\n",
              "      <td>4.3</td>\n",
              "      <td>3.0</td>\n",
              "      <td>1.1</td>\n",
              "      <td>0.1</td>\n",
              "    </tr>\n",
              "    <tr>\n",
              "      <th>38</th>\n",
              "      <td>4.4</td>\n",
              "      <td>3.0</td>\n",
              "      <td>1.3</td>\n",
              "      <td>0.2</td>\n",
              "    </tr>\n",
              "    <tr>\n",
              "      <th>42</th>\n",
              "      <td>4.4</td>\n",
              "      <td>3.2</td>\n",
              "      <td>1.3</td>\n",
              "      <td>0.2</td>\n",
              "    </tr>\n",
              "    <tr>\n",
              "      <th>8</th>\n",
              "      <td>4.4</td>\n",
              "      <td>2.9</td>\n",
              "      <td>1.4</td>\n",
              "      <td>0.2</td>\n",
              "    </tr>\n",
              "    <tr>\n",
              "      <th>41</th>\n",
              "      <td>4.5</td>\n",
              "      <td>2.3</td>\n",
              "      <td>1.3</td>\n",
              "      <td>0.3</td>\n",
              "    </tr>\n",
              "    <tr>\n",
              "      <th>...</th>\n",
              "      <td>...</td>\n",
              "      <td>...</td>\n",
              "      <td>...</td>\n",
              "      <td>...</td>\n",
              "    </tr>\n",
              "    <tr>\n",
              "      <th>135</th>\n",
              "      <td>7.7</td>\n",
              "      <td>3.0</td>\n",
              "      <td>6.1</td>\n",
              "      <td>2.3</td>\n",
              "    </tr>\n",
              "    <tr>\n",
              "      <th>117</th>\n",
              "      <td>7.7</td>\n",
              "      <td>3.8</td>\n",
              "      <td>6.7</td>\n",
              "      <td>2.2</td>\n",
              "    </tr>\n",
              "    <tr>\n",
              "      <th>122</th>\n",
              "      <td>7.7</td>\n",
              "      <td>2.8</td>\n",
              "      <td>6.7</td>\n",
              "      <td>2.0</td>\n",
              "    </tr>\n",
              "    <tr>\n",
              "      <th>118</th>\n",
              "      <td>7.7</td>\n",
              "      <td>2.6</td>\n",
              "      <td>6.9</td>\n",
              "      <td>2.3</td>\n",
              "    </tr>\n",
              "    <tr>\n",
              "      <th>131</th>\n",
              "      <td>7.9</td>\n",
              "      <td>3.8</td>\n",
              "      <td>6.4</td>\n",
              "      <td>2.0</td>\n",
              "    </tr>\n",
              "  </tbody>\n",
              "</table>\n",
              "<p>150 rows × 4 columns</p>\n",
              "</div>\n",
              "      <button class=\"colab-df-convert\" onclick=\"convertToInteractive('df-3503d92f-422e-42a7-9b22-c9430bf2a826')\"\n",
              "              title=\"Convert this dataframe to an interactive table.\"\n",
              "              style=\"display:none;\">\n",
              "        \n",
              "  <svg xmlns=\"http://www.w3.org/2000/svg\" height=\"24px\"viewBox=\"0 0 24 24\"\n",
              "       width=\"24px\">\n",
              "    <path d=\"M0 0h24v24H0V0z\" fill=\"none\"/>\n",
              "    <path d=\"M18.56 5.44l.94 2.06.94-2.06 2.06-.94-2.06-.94-.94-2.06-.94 2.06-2.06.94zm-11 1L8.5 8.5l.94-2.06 2.06-.94-2.06-.94L8.5 2.5l-.94 2.06-2.06.94zm10 10l.94 2.06.94-2.06 2.06-.94-2.06-.94-.94-2.06-.94 2.06-2.06.94z\"/><path d=\"M17.41 7.96l-1.37-1.37c-.4-.4-.92-.59-1.43-.59-.52 0-1.04.2-1.43.59L10.3 9.45l-7.72 7.72c-.78.78-.78 2.05 0 2.83L4 21.41c.39.39.9.59 1.41.59.51 0 1.02-.2 1.41-.59l7.78-7.78 2.81-2.81c.8-.78.8-2.07 0-2.86zM5.41 20L4 18.59l7.72-7.72 1.47 1.35L5.41 20z\"/>\n",
              "  </svg>\n",
              "      </button>\n",
              "      \n",
              "  <style>\n",
              "    .colab-df-container {\n",
              "      display:flex;\n",
              "      flex-wrap:wrap;\n",
              "      gap: 12px;\n",
              "    }\n",
              "\n",
              "    .colab-df-convert {\n",
              "      background-color: #E8F0FE;\n",
              "      border: none;\n",
              "      border-radius: 50%;\n",
              "      cursor: pointer;\n",
              "      display: none;\n",
              "      fill: #1967D2;\n",
              "      height: 32px;\n",
              "      padding: 0 0 0 0;\n",
              "      width: 32px;\n",
              "    }\n",
              "\n",
              "    .colab-df-convert:hover {\n",
              "      background-color: #E2EBFA;\n",
              "      box-shadow: 0px 1px 2px rgba(60, 64, 67, 0.3), 0px 1px 3px 1px rgba(60, 64, 67, 0.15);\n",
              "      fill: #174EA6;\n",
              "    }\n",
              "\n",
              "    [theme=dark] .colab-df-convert {\n",
              "      background-color: #3B4455;\n",
              "      fill: #D2E3FC;\n",
              "    }\n",
              "\n",
              "    [theme=dark] .colab-df-convert:hover {\n",
              "      background-color: #434B5C;\n",
              "      box-shadow: 0px 1px 3px 1px rgba(0, 0, 0, 0.15);\n",
              "      filter: drop-shadow(0px 1px 2px rgba(0, 0, 0, 0.3));\n",
              "      fill: #FFFFFF;\n",
              "    }\n",
              "  </style>\n",
              "\n",
              "      <script>\n",
              "        const buttonEl =\n",
              "          document.querySelector('#df-3503d92f-422e-42a7-9b22-c9430bf2a826 button.colab-df-convert');\n",
              "        buttonEl.style.display =\n",
              "          google.colab.kernel.accessAllowed ? 'block' : 'none';\n",
              "\n",
              "        async function convertToInteractive(key) {\n",
              "          const element = document.querySelector('#df-3503d92f-422e-42a7-9b22-c9430bf2a826');\n",
              "          const dataTable =\n",
              "            await google.colab.kernel.invokeFunction('convertToInteractive',\n",
              "                                                     [key], {});\n",
              "          if (!dataTable) return;\n",
              "\n",
              "          const docLinkHtml = 'Like what you see? Visit the ' +\n",
              "            '<a target=\"_blank\" href=https://colab.research.google.com/notebooks/data_table.ipynb>data table notebook</a>'\n",
              "            + ' to learn more about interactive tables.';\n",
              "          element.innerHTML = '';\n",
              "          dataTable['output_type'] = 'display_data';\n",
              "          await google.colab.output.renderOutput(dataTable, element);\n",
              "          const docLink = document.createElement('div');\n",
              "          docLink.innerHTML = docLinkHtml;\n",
              "          element.appendChild(docLink);\n",
              "        }\n",
              "      </script>\n",
              "    </div>\n",
              "  </div>\n",
              "  "
            ]
          },
          "metadata": {},
          "execution_count": 7
        }
      ]
    },
    {
      "cell_type": "markdown",
      "source": [
        "# 5.21.4 Mengubah Data pada Pandas"
      ],
      "metadata": {
        "id": "C5GDI7hEL6Lm"
      }
    },
    {
      "cell_type": "code",
      "source": [
        "# Inisialisasi pandas sebagai pd\n",
        "import pandas as pd\n",
        "data_03 = pd.read_csv(\"bunga_iris.csv\")"
      ],
      "metadata": {
        "id": "acS4DcWfL7rY"
      },
      "execution_count": 8,
      "outputs": []
    },
    {
      "cell_type": "code",
      "source": [
        "# Latihan 1 Mengubah Data pada Pandas\n",
        "\n",
        "# Mencetak isi kolom 'petal width (cm)' dengan menggunakan suatu operasi fungsi\n",
        "# Sehingga hasil operasi fungsi tadi akan menjadi data yang baru yang akan diolah kemudian\n",
        "print(\"Print 1 :\")\n",
        "data_03[\"empat kali petal width (cm)\"] = 4*data_03[\"petal width (cm)\"]\n",
        "print(data_03)"
      ],
      "metadata": {
        "colab": {
          "base_uri": "https://localhost:8080/"
        },
        "id": "Z8AYCRQ6L_IR",
        "outputId": "ea860f88-4e3f-4ccd-fccc-49a295e30466"
      },
      "execution_count": 9,
      "outputs": [
        {
          "output_type": "stream",
          "name": "stdout",
          "text": [
            "Print 1 :\n",
            "     sepal length (cm)  sepal width (cm)  petal length (cm)  petal width (cm)  \\\n",
            "0                  5.1               3.5                1.4               0.2   \n",
            "1                  4.9               3.0                1.4               0.2   \n",
            "2                  4.7               3.2                1.3               0.2   \n",
            "3                  4.6               3.1                1.5               0.2   \n",
            "4                  5.0               3.6                1.4               0.2   \n",
            "..                 ...               ...                ...               ...   \n",
            "145                6.7               3.0                5.2               2.3   \n",
            "146                6.3               2.5                5.0               1.9   \n",
            "147                6.5               3.0                5.2               2.0   \n",
            "148                6.2               3.4                5.4               2.3   \n",
            "149                5.9               3.0                5.1               1.8   \n",
            "\n",
            "     empat kali petal width (cm)  \n",
            "0                            0.8  \n",
            "1                            0.8  \n",
            "2                            0.8  \n",
            "3                            0.8  \n",
            "4                            0.8  \n",
            "..                           ...  \n",
            "145                          9.2  \n",
            "146                          7.6  \n",
            "147                          8.0  \n",
            "148                          9.2  \n",
            "149                          7.2  \n",
            "\n",
            "[150 rows x 5 columns]\n"
          ]
        }
      ]
    },
    {
      "cell_type": "code",
      "source": [
        "# Latihan 2 Mengubah Data pada Pandas\n",
        "\n",
        "# Menghapus data yang ada pada kolom 'empat kali petal width (cm)' dengan fungsi drop()\n",
        "data_03 = data_03.drop(columns=[\"empat kali petal width (cm)\"])\n",
        "print(data_03)"
      ],
      "metadata": {
        "colab": {
          "base_uri": "https://localhost:8080/"
        },
        "id": "eoPOFbz-MBQV",
        "outputId": "f314905f-e612-49fd-a6a2-43c0d93f6cd6"
      },
      "execution_count": 10,
      "outputs": [
        {
          "output_type": "stream",
          "name": "stdout",
          "text": [
            "     sepal length (cm)  sepal width (cm)  petal length (cm)  petal width (cm)\n",
            "0                  5.1               3.5                1.4               0.2\n",
            "1                  4.9               3.0                1.4               0.2\n",
            "2                  4.7               3.2                1.3               0.2\n",
            "3                  4.6               3.1                1.5               0.2\n",
            "4                  5.0               3.6                1.4               0.2\n",
            "..                 ...               ...                ...               ...\n",
            "145                6.7               3.0                5.2               2.3\n",
            "146                6.3               2.5                5.0               1.9\n",
            "147                6.5               3.0                5.2               2.0\n",
            "148                6.2               3.4                5.4               2.3\n",
            "149                5.9               3.0                5.1               1.8\n",
            "\n",
            "[150 rows x 4 columns]\n"
          ]
        }
      ]
    },
    {
      "cell_type": "code",
      "source": [
        "# Latihan 3 Mengubah Data pada Pandas\n",
        "\n",
        "# Menambahkan suatu operasi fungsi yang diinginkan di dalam data\n",
        "data_03[\"misalkan luas sepal\"] = data_03[\"sepal length (cm)\"] * data_03[\"sepal width (cm)\"]\n",
        "print(data_03)"
      ],
      "metadata": {
        "colab": {
          "base_uri": "https://localhost:8080/"
        },
        "id": "gnJbAnWjME2t",
        "outputId": "4b96a3c4-d798-469c-fb40-6399e187386c"
      },
      "execution_count": 11,
      "outputs": [
        {
          "output_type": "stream",
          "name": "stdout",
          "text": [
            "     sepal length (cm)  sepal width (cm)  petal length (cm)  petal width (cm)  \\\n",
            "0                  5.1               3.5                1.4               0.2   \n",
            "1                  4.9               3.0                1.4               0.2   \n",
            "2                  4.7               3.2                1.3               0.2   \n",
            "3                  4.6               3.1                1.5               0.2   \n",
            "4                  5.0               3.6                1.4               0.2   \n",
            "..                 ...               ...                ...               ...   \n",
            "145                6.7               3.0                5.2               2.3   \n",
            "146                6.3               2.5                5.0               1.9   \n",
            "147                6.5               3.0                5.2               2.0   \n",
            "148                6.2               3.4                5.4               2.3   \n",
            "149                5.9               3.0                5.1               1.8   \n",
            "\n",
            "     misalkan luas sepal  \n",
            "0                  17.85  \n",
            "1                  14.70  \n",
            "2                  15.04  \n",
            "3                  14.26  \n",
            "4                  18.00  \n",
            "..                   ...  \n",
            "145                20.10  \n",
            "146                15.75  \n",
            "147                19.50  \n",
            "148                21.08  \n",
            "149                17.70  \n",
            "\n",
            "[150 rows x 5 columns]\n"
          ]
        }
      ]
    },
    {
      "cell_type": "code",
      "source": [
        "# Latihan 4 Mengubah Data pada Pandas\n",
        "\n",
        "# Menghapus data yang merupakan hasil dari operasi fungsi di atas dengan fungsi 'drop()'\n",
        "data_03 = data_03.drop(columns=[\"misalkan luas sepal\"])\n",
        "print(data_03)"
      ],
      "metadata": {
        "colab": {
          "base_uri": "https://localhost:8080/"
        },
        "id": "RM0yvu9aMPUf",
        "outputId": "f8588b21-908a-42d8-88a3-f8a357483d23"
      },
      "execution_count": 12,
      "outputs": [
        {
          "output_type": "stream",
          "name": "stdout",
          "text": [
            "     sepal length (cm)  sepal width (cm)  petal length (cm)  petal width (cm)\n",
            "0                  5.1               3.5                1.4               0.2\n",
            "1                  4.9               3.0                1.4               0.2\n",
            "2                  4.7               3.2                1.3               0.2\n",
            "3                  4.6               3.1                1.5               0.2\n",
            "4                  5.0               3.6                1.4               0.2\n",
            "..                 ...               ...                ...               ...\n",
            "145                6.7               3.0                5.2               2.3\n",
            "146                6.3               2.5                5.0               1.9\n",
            "147                6.5               3.0                5.2               2.0\n",
            "148                6.2               3.4                5.4               2.3\n",
            "149                5.9               3.0                5.1               1.8\n",
            "\n",
            "[150 rows x 4 columns]\n"
          ]
        }
      ]
    },
    {
      "cell_type": "code",
      "source": [
        "# Latihan 5 Mengubah Data pada Pandas\n",
        "\n",
        "# fungsi 'iloc' digunakan untuk mengetahui index baris dari data string\n",
        "# fungsi 'sum(axis=1)' digunakan untuk operasi penjumlahan kolom\n",
        "data_03[\"misalkan luas sepal\"] = data_03.iloc[:,1:3].sum(axis=1)\n",
        "print(data_03)"
      ],
      "metadata": {
        "colab": {
          "base_uri": "https://localhost:8080/"
        },
        "id": "EMcBF7_WMSe8",
        "outputId": "e02d0e6a-ffd6-4af2-e482-46372bd69c8f"
      },
      "execution_count": 13,
      "outputs": [
        {
          "output_type": "stream",
          "name": "stdout",
          "text": [
            "     sepal length (cm)  sepal width (cm)  petal length (cm)  petal width (cm)  \\\n",
            "0                  5.1               3.5                1.4               0.2   \n",
            "1                  4.9               3.0                1.4               0.2   \n",
            "2                  4.7               3.2                1.3               0.2   \n",
            "3                  4.6               3.1                1.5               0.2   \n",
            "4                  5.0               3.6                1.4               0.2   \n",
            "..                 ...               ...                ...               ...   \n",
            "145                6.7               3.0                5.2               2.3   \n",
            "146                6.3               2.5                5.0               1.9   \n",
            "147                6.5               3.0                5.2               2.0   \n",
            "148                6.2               3.4                5.4               2.3   \n",
            "149                5.9               3.0                5.1               1.8   \n",
            "\n",
            "     misalkan luas sepal  \n",
            "0                    4.9  \n",
            "1                    4.4  \n",
            "2                    4.5  \n",
            "3                    4.6  \n",
            "4                    5.0  \n",
            "..                   ...  \n",
            "145                  8.2  \n",
            "146                  7.5  \n",
            "147                  8.2  \n",
            "148                  8.8  \n",
            "149                  8.1  \n",
            "\n",
            "[150 rows x 5 columns]\n"
          ]
        }
      ]
    },
    {
      "cell_type": "code",
      "source": [
        "# Latihan 6 Mengubah Data pada Pandas\n",
        "data_03[\"sepal width (cm)\"] = data_03[\"sepal width (cm)\"].replace([\"None\"],2.08)\n",
        "print(data_03)"
      ],
      "metadata": {
        "colab": {
          "base_uri": "https://localhost:8080/"
        },
        "id": "vfLFe2bYMTCS",
        "outputId": "7370dd55-ab54-4a47-d8b0-475c2036c59b"
      },
      "execution_count": 14,
      "outputs": [
        {
          "output_type": "stream",
          "name": "stdout",
          "text": [
            "     sepal length (cm)  sepal width (cm)  petal length (cm)  petal width (cm)  \\\n",
            "0                  5.1               3.5                1.4               0.2   \n",
            "1                  4.9               3.0                1.4               0.2   \n",
            "2                  4.7               3.2                1.3               0.2   \n",
            "3                  4.6               3.1                1.5               0.2   \n",
            "4                  5.0               3.6                1.4               0.2   \n",
            "..                 ...               ...                ...               ...   \n",
            "145                6.7               3.0                5.2               2.3   \n",
            "146                6.3               2.5                5.0               1.9   \n",
            "147                6.5               3.0                5.2               2.0   \n",
            "148                6.2               3.4                5.4               2.3   \n",
            "149                5.9               3.0                5.1               1.8   \n",
            "\n",
            "     misalkan luas sepal  \n",
            "0                    4.9  \n",
            "1                    4.4  \n",
            "2                    4.5  \n",
            "3                    4.6  \n",
            "4                    5.0  \n",
            "..                   ...  \n",
            "145                  8.2  \n",
            "146                  7.5  \n",
            "147                  8.2  \n",
            "148                  8.8  \n",
            "149                  8.1  \n",
            "\n",
            "[150 rows x 5 columns]\n"
          ]
        }
      ]
    },
    {
      "cell_type": "markdown",
      "source": [
        "# 5.21.5 Menyimpan Data Menggunakan Pandas"
      ],
      "metadata": {
        "id": "Q5PhDJLKMf0w"
      }
    },
    {
      "cell_type": "code",
      "source": [
        "# Latihan 1 Menyimpan Data Menggunakan Pandas\n",
        "\n",
        "# Inisialisasi pandas sebagai pd\n",
        "import pandas as pd\n",
        "data_03 = pd.read_csv(\"bunga_iris.csv\")\n",
        "\n",
        "# Menyimpan data csv\n",
        "data_03.to_csv(\"bunga_iris.csv\" , index=False , sep = \"\\t\")\n",
        "print(data_03)\n",
        "# \"index=False\" digunakan untuk menunjukkan data ke csv tanpa index baris\n",
        "\n",
        "print(\"\\n\")\n",
        "\n",
        "# Menyimpan data csv\n",
        "data_03.to_csv(\"bunga_iris.csv\" , index=False)\n",
        "print(data_03)\n",
        "# \"index=False\" digunakan untuk menunjukkan data ke csv tanpa index baris\n",
        "\n",
        "print(\"\\n\")\n",
        "\n",
        "# Menyimpan data excel\n",
        "data_03.to_excel(\"bunga_iris.xlsx\" ,  index=False)\n",
        "print(data_03)\n",
        "# \"index=False\" digunakan untuk menunjukkan data ke excel tanpa index baris"
      ],
      "metadata": {
        "id": "_OO1Zwlzuj8o"
      },
      "execution_count": null,
      "outputs": []
    },
    {
      "cell_type": "code",
      "source": [
        "# Latihan 2 Menyimpan Data menggunakan Pandas\n",
        "\n",
        "import pandas as pd\n",
        "data_03 = pd.read_csv(\"bunga_iris.csv\")\n",
        "\n",
        "# Mencetak data csv pada file yang di upload\n",
        "data_03 = pd.read_csv(\"bunga_iris.csv\")\n",
        "print(data_03)"
      ],
      "metadata": {
        "colab": {
          "base_uri": "https://localhost:8080/"
        },
        "id": "gGLhquuJMj4y",
        "outputId": "27858e8f-2ddf-46ba-e990-fe9a38bfee91"
      },
      "execution_count": 15,
      "outputs": [
        {
          "output_type": "stream",
          "name": "stdout",
          "text": [
            "     sepal length (cm)  sepal width (cm)  petal length (cm)  petal width (cm)\n",
            "0                  5.1               3.5                1.4               0.2\n",
            "1                  4.9               3.0                1.4               0.2\n",
            "2                  4.7               3.2                1.3               0.2\n",
            "3                  4.6               3.1                1.5               0.2\n",
            "4                  5.0               3.6                1.4               0.2\n",
            "..                 ...               ...                ...               ...\n",
            "145                6.7               3.0                5.2               2.3\n",
            "146                6.3               2.5                5.0               1.9\n",
            "147                6.5               3.0                5.2               2.0\n",
            "148                6.2               3.4                5.4               2.3\n",
            "149                5.9               3.0                5.1               1.8\n",
            "\n",
            "[150 rows x 4 columns]\n"
          ]
        }
      ]
    },
    {
      "cell_type": "markdown",
      "source": [
        "# 5.21.6 Menyaring Data Menggunakan Pandas"
      ],
      "metadata": {
        "id": "cKtfr60zMvT2"
      }
    },
    {
      "cell_type": "code",
      "source": [
        "# Latihan 1 Menyaring Data menggunakan Pandas\n",
        "\n",
        "import pandas as pd\n",
        "data_03 = pd.read_csv(\"bunga_iris.csv\")\n",
        "\n",
        "print(\"Print 1 :\")\n",
        "# Mencetak semua data yang memiliki nilai 3.0 pada kolom 'petal width (cm)'\n",
        "print(data_03.loc[data_03[\"petal width (cm)\"] == 3.0])\n",
        "\n",
        "print(\"\\n\")\n",
        "\n",
        "print(\"Print 2 :\")\n",
        "print(data_03.loc[(data_03[\"sepal length (cm)\"] == 3.0) &\n",
        "                 (data_03[\"petal length (cm)\"] == 1.6) & \n",
        "                 (data_03[\"sepal width (cm)\"] > 4.0)])"
      ],
      "metadata": {
        "colab": {
          "base_uri": "https://localhost:8080/"
        },
        "id": "gjpjO4g_M0Fl",
        "outputId": "03676c77-b6ab-4c4e-f1fd-362c6be2e3f7"
      },
      "execution_count": 16,
      "outputs": [
        {
          "output_type": "stream",
          "name": "stdout",
          "text": [
            "Print 1 :\n",
            "Empty DataFrame\n",
            "Columns: [sepal length (cm), sepal width (cm), petal length (cm), petal width (cm)]\n",
            "Index: []\n",
            "\n",
            "\n",
            "Print 2 :\n",
            "Empty DataFrame\n",
            "Columns: [sepal length (cm), sepal width (cm), petal length (cm), petal width (cm)]\n",
            "Index: []\n"
          ]
        }
      ]
    },
    {
      "cell_type": "code",
      "source": [
        "import pandas as pd\n",
        "data_03 = pd.read_csv(\"bunga_iris.csv\")\n",
        "\n",
        "data_03.loc[data_03[\"sepal length (cm)\"].str.contains (5.1)]\n",
        "             \n",
        "# Terjadi error"
      ],
      "metadata": {
        "colab": {
          "base_uri": "https://localhost:8080/",
          "height": 399
        },
        "id": "A8QtyLPUvDpy",
        "outputId": "59241379-e8f6-4ccc-8a2d-0212c8a38752"
      },
      "execution_count": 18,
      "outputs": [
        {
          "output_type": "error",
          "ename": "AttributeError",
          "evalue": "ignored",
          "traceback": [
            "\u001b[0;31m---------------------------------------------------------------------------\u001b[0m",
            "\u001b[0;31mAttributeError\u001b[0m                            Traceback (most recent call last)",
            "\u001b[0;32m<ipython-input-18-aefafa2eb2e2>\u001b[0m in \u001b[0;36m<cell line: 4>\u001b[0;34m()\u001b[0m\n\u001b[1;32m      2\u001b[0m \u001b[0mdata_03\u001b[0m \u001b[0;34m=\u001b[0m \u001b[0mpd\u001b[0m\u001b[0;34m.\u001b[0m\u001b[0mread_csv\u001b[0m\u001b[0;34m(\u001b[0m\u001b[0;34m\"bunga_iris.csv\"\u001b[0m\u001b[0;34m)\u001b[0m\u001b[0;34m\u001b[0m\u001b[0;34m\u001b[0m\u001b[0m\n\u001b[1;32m      3\u001b[0m \u001b[0;34m\u001b[0m\u001b[0m\n\u001b[0;32m----> 4\u001b[0;31m \u001b[0mdata_03\u001b[0m\u001b[0;34m.\u001b[0m\u001b[0mloc\u001b[0m\u001b[0;34m[\u001b[0m\u001b[0mdata_03\u001b[0m\u001b[0;34m[\u001b[0m\u001b[0;34m\"sepal length (cm)\"\u001b[0m\u001b[0;34m]\u001b[0m\u001b[0;34m.\u001b[0m\u001b[0mstr\u001b[0m\u001b[0;34m.\u001b[0m\u001b[0mcontains\u001b[0m \u001b[0;34m(\u001b[0m\u001b[0;36m5.1\u001b[0m\u001b[0;34m)\u001b[0m\u001b[0;34m]\u001b[0m\u001b[0;34m\u001b[0m\u001b[0;34m\u001b[0m\u001b[0m\n\u001b[0m\u001b[1;32m      5\u001b[0m \u001b[0;34m\u001b[0m\u001b[0m\n\u001b[1;32m      6\u001b[0m \u001b[0;31m# Terjadi error\u001b[0m\u001b[0;34m\u001b[0m\u001b[0;34m\u001b[0m\u001b[0m\n",
            "\u001b[0;32m/usr/local/lib/python3.9/dist-packages/pandas/core/generic.py\u001b[0m in \u001b[0;36m__getattr__\u001b[0;34m(self, name)\u001b[0m\n\u001b[1;32m   5900\u001b[0m         ):\n\u001b[1;32m   5901\u001b[0m             \u001b[0;32mreturn\u001b[0m \u001b[0mself\u001b[0m\u001b[0;34m[\u001b[0m\u001b[0mname\u001b[0m\u001b[0;34m]\u001b[0m\u001b[0;34m\u001b[0m\u001b[0;34m\u001b[0m\u001b[0m\n\u001b[0;32m-> 5902\u001b[0;31m         \u001b[0;32mreturn\u001b[0m \u001b[0mobject\u001b[0m\u001b[0;34m.\u001b[0m\u001b[0m__getattribute__\u001b[0m\u001b[0;34m(\u001b[0m\u001b[0mself\u001b[0m\u001b[0;34m,\u001b[0m \u001b[0mname\u001b[0m\u001b[0;34m)\u001b[0m\u001b[0;34m\u001b[0m\u001b[0;34m\u001b[0m\u001b[0m\n\u001b[0m\u001b[1;32m   5903\u001b[0m \u001b[0;34m\u001b[0m\u001b[0m\n\u001b[1;32m   5904\u001b[0m     \u001b[0;32mdef\u001b[0m \u001b[0m__setattr__\u001b[0m\u001b[0;34m(\u001b[0m\u001b[0mself\u001b[0m\u001b[0;34m,\u001b[0m \u001b[0mname\u001b[0m\u001b[0;34m:\u001b[0m \u001b[0mstr\u001b[0m\u001b[0;34m,\u001b[0m \u001b[0mvalue\u001b[0m\u001b[0;34m)\u001b[0m \u001b[0;34m->\u001b[0m \u001b[0;32mNone\u001b[0m\u001b[0;34m:\u001b[0m\u001b[0;34m\u001b[0m\u001b[0;34m\u001b[0m\u001b[0m\n",
            "\u001b[0;32m/usr/local/lib/python3.9/dist-packages/pandas/core/accessor.py\u001b[0m in \u001b[0;36m__get__\u001b[0;34m(self, obj, cls)\u001b[0m\n\u001b[1;32m    180\u001b[0m             \u001b[0;31m# we're accessing the attribute of the class, i.e., Dataset.geo\u001b[0m\u001b[0;34m\u001b[0m\u001b[0;34m\u001b[0m\u001b[0m\n\u001b[1;32m    181\u001b[0m             \u001b[0;32mreturn\u001b[0m \u001b[0mself\u001b[0m\u001b[0;34m.\u001b[0m\u001b[0m_accessor\u001b[0m\u001b[0;34m\u001b[0m\u001b[0;34m\u001b[0m\u001b[0m\n\u001b[0;32m--> 182\u001b[0;31m         \u001b[0maccessor_obj\u001b[0m \u001b[0;34m=\u001b[0m \u001b[0mself\u001b[0m\u001b[0;34m.\u001b[0m\u001b[0m_accessor\u001b[0m\u001b[0;34m(\u001b[0m\u001b[0mobj\u001b[0m\u001b[0;34m)\u001b[0m\u001b[0;34m\u001b[0m\u001b[0;34m\u001b[0m\u001b[0m\n\u001b[0m\u001b[1;32m    183\u001b[0m         \u001b[0;31m# Replace the property with the accessor object. Inspired by:\u001b[0m\u001b[0;34m\u001b[0m\u001b[0;34m\u001b[0m\u001b[0m\n\u001b[1;32m    184\u001b[0m         \u001b[0;31m# https://www.pydanny.com/cached-property.html\u001b[0m\u001b[0;34m\u001b[0m\u001b[0;34m\u001b[0m\u001b[0m\n",
            "\u001b[0;32m/usr/local/lib/python3.9/dist-packages/pandas/core/strings/accessor.py\u001b[0m in \u001b[0;36m__init__\u001b[0;34m(self, data)\u001b[0m\n\u001b[1;32m    179\u001b[0m         \u001b[0;32mfrom\u001b[0m \u001b[0mpandas\u001b[0m\u001b[0;34m.\u001b[0m\u001b[0mcore\u001b[0m\u001b[0;34m.\u001b[0m\u001b[0marrays\u001b[0m\u001b[0;34m.\u001b[0m\u001b[0mstring_\u001b[0m \u001b[0;32mimport\u001b[0m \u001b[0mStringDtype\u001b[0m\u001b[0;34m\u001b[0m\u001b[0;34m\u001b[0m\u001b[0m\n\u001b[1;32m    180\u001b[0m \u001b[0;34m\u001b[0m\u001b[0m\n\u001b[0;32m--> 181\u001b[0;31m         \u001b[0mself\u001b[0m\u001b[0;34m.\u001b[0m\u001b[0m_inferred_dtype\u001b[0m \u001b[0;34m=\u001b[0m \u001b[0mself\u001b[0m\u001b[0;34m.\u001b[0m\u001b[0m_validate\u001b[0m\u001b[0;34m(\u001b[0m\u001b[0mdata\u001b[0m\u001b[0;34m)\u001b[0m\u001b[0;34m\u001b[0m\u001b[0;34m\u001b[0m\u001b[0m\n\u001b[0m\u001b[1;32m    182\u001b[0m         \u001b[0mself\u001b[0m\u001b[0;34m.\u001b[0m\u001b[0m_is_categorical\u001b[0m \u001b[0;34m=\u001b[0m \u001b[0mis_categorical_dtype\u001b[0m\u001b[0;34m(\u001b[0m\u001b[0mdata\u001b[0m\u001b[0;34m.\u001b[0m\u001b[0mdtype\u001b[0m\u001b[0;34m)\u001b[0m\u001b[0;34m\u001b[0m\u001b[0;34m\u001b[0m\u001b[0m\n\u001b[1;32m    183\u001b[0m         \u001b[0mself\u001b[0m\u001b[0;34m.\u001b[0m\u001b[0m_is_string\u001b[0m \u001b[0;34m=\u001b[0m \u001b[0misinstance\u001b[0m\u001b[0;34m(\u001b[0m\u001b[0mdata\u001b[0m\u001b[0;34m.\u001b[0m\u001b[0mdtype\u001b[0m\u001b[0;34m,\u001b[0m \u001b[0mStringDtype\u001b[0m\u001b[0;34m)\u001b[0m\u001b[0;34m\u001b[0m\u001b[0;34m\u001b[0m\u001b[0m\n",
            "\u001b[0;32m/usr/local/lib/python3.9/dist-packages/pandas/core/strings/accessor.py\u001b[0m in \u001b[0;36m_validate\u001b[0;34m(data)\u001b[0m\n\u001b[1;32m    233\u001b[0m \u001b[0;34m\u001b[0m\u001b[0m\n\u001b[1;32m    234\u001b[0m         \u001b[0;32mif\u001b[0m \u001b[0minferred_dtype\u001b[0m \u001b[0;32mnot\u001b[0m \u001b[0;32min\u001b[0m \u001b[0mallowed_types\u001b[0m\u001b[0;34m:\u001b[0m\u001b[0;34m\u001b[0m\u001b[0;34m\u001b[0m\u001b[0m\n\u001b[0;32m--> 235\u001b[0;31m             \u001b[0;32mraise\u001b[0m \u001b[0mAttributeError\u001b[0m\u001b[0;34m(\u001b[0m\u001b[0;34m\"Can only use .str accessor with string values!\"\u001b[0m\u001b[0;34m)\u001b[0m\u001b[0;34m\u001b[0m\u001b[0;34m\u001b[0m\u001b[0m\n\u001b[0m\u001b[1;32m    236\u001b[0m         \u001b[0;32mreturn\u001b[0m \u001b[0minferred_dtype\u001b[0m\u001b[0;34m\u001b[0m\u001b[0;34m\u001b[0m\u001b[0m\n\u001b[1;32m    237\u001b[0m \u001b[0;34m\u001b[0m\u001b[0m\n",
            "\u001b[0;31mAttributeError\u001b[0m: Can only use .str accessor with string values!"
          ]
        }
      ]
    },
    {
      "cell_type": "markdown",
      "source": [
        "#5.21.7 Pengelompokan Data menggunakan Pandas"
      ],
      "metadata": {
        "id": "maa9oPaEhQM1"
      }
    },
    {
      "cell_type": "code",
      "source": [
        "import pandas as pd\n",
        "data_03 = pd.read_csv(\"bunga_iris.csv\")\n",
        "\n",
        "# Mencetak nilai rata-rata dari kolom 'petal width (cm)' dengan fungsi 'mean()'\n",
        "print(\"Print 1 :\")\n",
        "x = data_03.groupby([\"petal width (cm)\"]).mean()\n",
        "print(x)\n",
        "print(\"\\n\")\n",
        "\n",
        "# Mengurutkan berdasarkan nilai terkecil ke terbesar dari kolom 'petal width (cm)' sebab ascending=True\n",
        "print(\"Print 2 :\")\n",
        "y = data_03.groupby([\"petal width (cm)\"]).mean().sort_values(\"sepal width (cm)\", ascending=True)\n",
        "print(y)\n",
        "print(\"\\n\")\n",
        "\n",
        "# Mencetak jumlah dari sebuah kolom  dengan fungsi 'sum()'\n",
        "print(\"Print 3 :\")\n",
        "z = data_03.groupby([\"petal width (cm)\"]).sum()\n",
        "print(z)\n",
        "print(\"\\n\")\n",
        "\n",
        "# Mencetak jumlah kolom dan baris dari 'petal width (cm)' dengan fungsi 'count()'\n",
        "print(\"Print 4 :\")\n",
        "t = data_03.groupby([\"petal width (cm)\"]).count()\n",
        "print(z)"
      ],
      "metadata": {
        "colab": {
          "base_uri": "https://localhost:8080/"
        },
        "id": "SYDZIx0WhNHO",
        "outputId": "22526480-b3f5-45e4-f048-1665e4b3df19"
      },
      "execution_count": 19,
      "outputs": [
        {
          "output_type": "stream",
          "name": "stdout",
          "text": [
            "Print 1 :\n",
            "                  sepal length (cm)  sepal width (cm)  petal length (cm)\n",
            "petal width (cm)                                                        \n",
            "0.1                        4.820000          3.360000           1.380000\n",
            "0.2                        4.972414          3.379310           1.444828\n",
            "0.3                        4.971429          3.328571           1.428571\n",
            "0.4                        5.300000          3.785714           1.571429\n",
            "0.5                        5.100000          3.300000           1.700000\n",
            "0.6                        5.000000          3.500000           1.600000\n",
            "1.0                        5.414286          2.371429           3.628571\n",
            "1.1                        5.400000          2.466667           3.566667\n",
            "1.2                        5.780000          2.740000           4.240000\n",
            "1.3                        5.884615          2.746154           4.176923\n",
            "1.4                        6.325000          2.912500           4.637500\n",
            "1.5                        6.183333          2.816667           4.658333\n",
            "1.6                        6.375000          3.100000           5.025000\n",
            "1.7                        5.800000          2.750000           4.750000\n",
            "1.8                        6.400000          2.941667           5.333333\n",
            "1.9                        6.340000          2.680000           5.320000\n",
            "2.0                        6.650000          3.016667           5.550000\n",
            "2.1                        6.916667          3.033333           5.783333\n",
            "2.2                        6.866667          3.200000           6.033333\n",
            "2.3                        6.912500          3.087500           5.700000\n",
            "2.4                        6.266667          3.100000           5.433333\n",
            "2.5                        6.733333          3.400000           5.933333\n",
            "\n",
            "\n",
            "Print 2 :\n",
            "                  sepal length (cm)  sepal width (cm)  petal length (cm)\n",
            "petal width (cm)                                                        \n",
            "1.0                        5.414286          2.371429           3.628571\n",
            "1.1                        5.400000          2.466667           3.566667\n",
            "1.9                        6.340000          2.680000           5.320000\n",
            "1.2                        5.780000          2.740000           4.240000\n",
            "1.3                        5.884615          2.746154           4.176923\n",
            "1.7                        5.800000          2.750000           4.750000\n",
            "1.5                        6.183333          2.816667           4.658333\n",
            "1.4                        6.325000          2.912500           4.637500\n",
            "1.8                        6.400000          2.941667           5.333333\n",
            "2.0                        6.650000          3.016667           5.550000\n",
            "2.1                        6.916667          3.033333           5.783333\n",
            "2.3                        6.912500          3.087500           5.700000\n",
            "2.4                        6.266667          3.100000           5.433333\n",
            "1.6                        6.375000          3.100000           5.025000\n",
            "2.2                        6.866667          3.200000           6.033333\n",
            "0.5                        5.100000          3.300000           1.700000\n",
            "0.3                        4.971429          3.328571           1.428571\n",
            "0.1                        4.820000          3.360000           1.380000\n",
            "0.2                        4.972414          3.379310           1.444828\n",
            "2.5                        6.733333          3.400000           5.933333\n",
            "0.6                        5.000000          3.500000           1.600000\n",
            "0.4                        5.300000          3.785714           1.571429\n",
            "\n",
            "\n",
            "Print 3 :\n",
            "                  sepal length (cm)  sepal width (cm)  petal length (cm)\n",
            "petal width (cm)                                                        \n",
            "0.1                            24.1              16.8                6.9\n",
            "0.2                           144.2              98.0               41.9\n",
            "0.3                            34.8              23.3               10.0\n",
            "0.4                            37.1              26.5               11.0\n",
            "0.5                             5.1               3.3                1.7\n",
            "0.6                             5.0               3.5                1.6\n",
            "1.0                            37.9              16.6               25.4\n",
            "1.1                            16.2               7.4               10.7\n",
            "1.2                            28.9              13.7               21.2\n",
            "1.3                            76.5              35.7               54.3\n",
            "1.4                            50.6              23.3               37.1\n",
            "1.5                            74.2              33.8               55.9\n",
            "1.6                            25.5              12.4               20.1\n",
            "1.7                            11.6               5.5                9.5\n",
            "1.8                            76.8              35.3               64.0\n",
            "1.9                            31.7              13.4               26.6\n",
            "2.0                            39.9              18.1               33.3\n",
            "2.1                            41.5              18.2               34.7\n",
            "2.2                            20.6               9.6               18.1\n",
            "2.3                            55.3              24.7               45.6\n",
            "2.4                            18.8               9.3               16.3\n",
            "2.5                            20.2              10.2               17.8\n",
            "\n",
            "\n",
            "Print 4 :\n",
            "                  sepal length (cm)  sepal width (cm)  petal length (cm)\n",
            "petal width (cm)                                                        \n",
            "0.1                            24.1              16.8                6.9\n",
            "0.2                           144.2              98.0               41.9\n",
            "0.3                            34.8              23.3               10.0\n",
            "0.4                            37.1              26.5               11.0\n",
            "0.5                             5.1               3.3                1.7\n",
            "0.6                             5.0               3.5                1.6\n",
            "1.0                            37.9              16.6               25.4\n",
            "1.1                            16.2               7.4               10.7\n",
            "1.2                            28.9              13.7               21.2\n",
            "1.3                            76.5              35.7               54.3\n",
            "1.4                            50.6              23.3               37.1\n",
            "1.5                            74.2              33.8               55.9\n",
            "1.6                            25.5              12.4               20.1\n",
            "1.7                            11.6               5.5                9.5\n",
            "1.8                            76.8              35.3               64.0\n",
            "1.9                            31.7              13.4               26.6\n",
            "2.0                            39.9              18.1               33.3\n",
            "2.1                            41.5              18.2               34.7\n",
            "2.2                            20.6               9.6               18.1\n",
            "2.3                            55.3              24.7               45.6\n",
            "2.4                            18.8               9.3               16.3\n",
            "2.5                            20.2              10.2               17.8\n"
          ]
        }
      ]
    },
    {
      "cell_type": "markdown",
      "source": [
        "# **5.22 Matplotib**\n",
        "\n",
        "---\n",
        "\n"
      ],
      "metadata": {
        "id": "Y5x0hWbQPAY8"
      }
    },
    {
      "cell_type": "markdown",
      "source": [
        "Matplotib merupakan salah satu library pada Python yang digunakan dalam hal menggambar gambar grafik, histogram dan lainnya."
      ],
      "metadata": {
        "id": "3klhdlQNPFi8"
      }
    },
    {
      "cell_type": "markdown",
      "source": [
        "# 5.22.1 Grafik Sederhana dengan Matplotib"
      ],
      "metadata": {
        "id": "pQiycxodPkn1"
      }
    },
    {
      "cell_type": "code",
      "source": [
        "# Latihan grafik sederhana dengan matplotib\n",
        "\n",
        "import numpy as np\n",
        "import pandas as pd\n",
        "import matplotlib.pyplot as plt\n",
        "\n",
        "data_03 = pd.read_csv(\"bunga_iris.csv\")\n",
        "x = data_03[\"petal width (cm)\"]\n",
        "y = data_03[\"sepal width (cm)\"]\n",
        "\n",
        "print(\"Grafik petal dan sepal\")\n",
        "plt.plot(x,y)\n",
        "# Fungsi 'plot' digunakan untuk menampilkan data koordinat ke garis koordinat\n",
        "\n",
        "plt.title(\"Grafik petal dan sepal\")\n",
        "# Fungsi 'title' digunakan untuk menandakan/memberi nama koordinat\n",
        "\n",
        "plt.xlabel(\"X\")\n",
        "plt.ylabel(\"Y\")\n",
        "# fungsi 'label' digunakan untuk menamai sumbu"
      ],
      "metadata": {
        "colab": {
          "base_uri": "https://localhost:8080/",
          "height": 509
        },
        "id": "UQJnXoK7N2iz",
        "outputId": "27530e66-0bda-421c-ac35-63cc786bbb57"
      },
      "execution_count": 20,
      "outputs": [
        {
          "output_type": "stream",
          "name": "stdout",
          "text": [
            "Grafik petal dan sepal\n"
          ]
        },
        {
          "output_type": "execute_result",
          "data": {
            "text/plain": [
              "Text(0, 0.5, 'Y')"
            ]
          },
          "metadata": {},
          "execution_count": 20
        },
        {
          "output_type": "display_data",
          "data": {
            "text/plain": [
              "<Figure size 640x480 with 1 Axes>"
            ],
            "image/png": "[encoded data removed]"
          },
          "metadata": {}
        }
      ]
    },
    {
      "cell_type": "markdown",
      "source": [
        "# 5.22.2 Properti Pembuatan Grafik dengan Matplotib"
      ],
      "metadata": {
        "id": "u5DERlGzmBkK"
      }
    },
    {
      "cell_type": "code",
      "source": [
        "# Latihan 1 Properti pembuatan grafik dengan matplotib\n",
        "\n",
        "import numpy as np\n",
        "import pandas as pd\n",
        "import matplotlib.pyplot as plt\n",
        "\n",
        "data_03 = pd.read_csv(\"bunga_iris.csv\")\n",
        "x = data_03[\"petal width (cm)\"]\n",
        "y = data_03[\"sepal width (cm)\"]\n",
        "x1 = data_03[\"petal length (cm)\"]\n",
        "y1 = data_03[\"sepal length (cm)\"]\n",
        "\n",
        "plt.figure(figsize=(2,2), dpi=200)\n",
        "\n",
        "plt.plot(x,y,label=\"grafik width\", color=\"red\",linewidth=3, marker='.',markersize=10,markeredgecolor=\"green\",linestyle='-')\n",
        "plt.plot(x1,y1,label=\"grafik length\", color=\"yellow\",marker=\".\",markersize=10,markeredgecolor=\"blue\")\n",
        "\n",
        "# Menamakan grafik dengan fungsi 'title()'\n",
        "plt.title(\"grafik bunga_iris_03\", fontdict={\"fontname\":\"Arial\",\"fontsize\":15})\n",
        "\n",
        "plt.xlabel(\"X\", fontdict={\"fontname\":\"Arial\",\"fontsize\":15})\n",
        "plt.ylabel(\"Y\", fontdict={\"fontname\":\"Arial\",\"fontsize\":15})\n",
        "\n",
        "# Mmebentuk output label x dan y\n",
        "plt.xticks(data_03[\"petal width (cm)\"])\n",
        "plt.yticks(data_03[\"sepal width (cm)\"])\n",
        "plt.legend()\n",
        "\n",
        "# Membentuk output label x1 dan y1\n",
        "plt.xticks(data_03[\"petal length (cm)\"])\n",
        "plt.yticks(data_03[\"sepal length (cm)\"])\n",
        "plt.legend()\n",
        "\n",
        "plt.savefig(\"grafik.png\",dpi=200)\n",
        "\n",
        "# Menampilkan output\n",
        "plt.show() "
      ],
      "metadata": {
        "colab": {
          "base_uri": "https://localhost:8080/",
          "height": 829
        },
        "id": "8Kt_SYP9SOeO",
        "outputId": "6f852c4d-a7e5-43dd-efa3-6b1e085a7976"
      },
      "execution_count": 21,
      "outputs": [
        {
          "output_type": "stream",
          "name": "stderr",
          "text": [
            "WARNING:matplotlib.font_manager:findfont: Font family 'Arial' not found.\n",
            "WARNING:matplotlib.font_manager:findfont: Font family 'Arial' not found.\n",
            "WARNING:matplotlib.font_manager:findfont: Font family 'Arial' not found.\n",
            "WARNING:matplotlib.font_manager:findfont: Font family 'Arial' not found.\n",
            "WARNING:matplotlib.font_manager:findfont: Font family 'Arial' not found.\n",
            "WARNING:matplotlib.font_manager:findfont: Font family 'Arial' not found.\n",
            "WARNING:matplotlib.font_manager:findfont: Font family 'Arial' not found.\n",
            "WARNING:matplotlib.font_manager:findfont: Font family 'Arial' not found.\n",
            "WARNING:matplotlib.font_manager:findfont: Font family 'Arial' not found.\n",
            "WARNING:matplotlib.font_manager:findfont: Font family 'Arial' not found.\n",
            "WARNING:matplotlib.font_manager:findfont: Font family 'Arial' not found.\n",
            "WARNING:matplotlib.font_manager:findfont: Font family 'Arial' not found.\n",
            "WARNING:matplotlib.font_manager:findfont: Font family 'Arial' not found.\n",
            "WARNING:matplotlib.font_manager:findfont: Font family 'Arial' not found.\n",
            "WARNING:matplotlib.font_manager:findfont: Font family 'Arial' not found.\n",
            "WARNING:matplotlib.font_manager:findfont: Font family 'Arial' not found.\n",
            "WARNING:matplotlib.font_manager:findfont: Font family 'Arial' not found.\n"
          ]
        },
        {
          "output_type": "display_data",
          "data": {
            "text/plain": [
              "<Figure size 400x400 with 1 Axes>"
            ],
            "image/png": "[encoded data removed]"
          },
          "metadata": {}
        }
      ]
    },
    {
      "cell_type": "markdown",
      "source": [
        "# 5.22.3 Histogram Sederhana dengan Matplotib"
      ],
      "metadata": {
        "id": "7XazHXlSYg70"
      }
    },
    {
      "cell_type": "code",
      "source": [
        "# Latihan membuat histogram sederhana \n",
        "\n",
        "import numpy as np\n",
        "import pandas as pd\n",
        "import matplotlib.pyplot as plt\n",
        "data_03 = pd.read_csv(\"bunga_iris.csv\")\n",
        "\n",
        "# Inisialisasi variabel yang berisikan integer\n",
        "a_03 = [-1,-2,-3,7,10]\n",
        "b_03 = [8,2,9,15,2]\n",
        "\n",
        "# Inisialisasi sumbu x dan y\n",
        "plt.xlabel(\"X\")\n",
        "plt.ylabel(\"Y\")\n",
        "\n",
        "print(plt.bar(a_03,b_03))"
      ],
      "metadata": {
        "colab": {
          "base_uri": "https://localhost:8080/",
          "height": 467
        },
        "id": "7HcdU482Yl0a",
        "outputId": "5eb97239-3624-4006-9691-9da3f81e5273"
      },
      "execution_count": 22,
      "outputs": [
        {
          "output_type": "stream",
          "name": "stdout",
          "text": [
            "<BarContainer object of 5 artists>\n"
          ]
        },
        {
          "output_type": "display_data",
          "data": {
            "text/plain": [
              "<Figure size 640x480 with 1 Axes>"
            ],
            "image/png": "[encoded data removed]"
          },
          "metadata": {}
        }
      ]
    },
    {
      "cell_type": "code",
      "source": [
        "# Latihan membuat histogram sederhana data bunga_iris\n",
        "import numpy as np\n",
        "import pandas as pd\n",
        "import matplotlib.pyplot as plt\n",
        "data_03 = pd.read_csv(\"bunga_iris.csv\")\n",
        "\n",
        "petal_03 = data_03[\"petal width (cm)\"]\n",
        "sepal_03 = data_03[\"sepal width (cm)\"]\n",
        "\n",
        "# Menginput perbandingan\n",
        "petal_003 = data_03['petal length (cm)']\n",
        "sepal_003 = data_03['sepal length (cm)']\n",
        "\n",
        "# Inisialisasi sumbu x dan y\n",
        "plt.xlabel(\"sepal\")\n",
        "plt.ylabel(\"petal\")\n",
        "\n",
        "# Mencetak histogram dnegan menggunakan fungsi 'bar()'\n",
        "print(plt.bar(petal_03,petal_003))\n",
        "print(plt.bar(sepal_03,sepal_003))"
      ],
      "metadata": {
        "colab": {
          "base_uri": "https://localhost:8080/",
          "height": 486
        },
        "id": "jolM2OgjkgZs",
        "outputId": "8d8ca4ee-1801-4b5f-c568-b2d51af4c627"
      },
      "execution_count": null,
      "outputs": [
        {
          "output_type": "stream",
          "name": "stdout",
          "text": [
            "<BarContainer object of 150 artists>\n",
            "<BarContainer object of 150 artists>\n"
          ]
        },
        {
          "output_type": "display_data",
          "data": {
            "text/plain": [
              "<Figure size 640x480 with 1 Axes>"
            ],
            "image/png": "[encoded data removed]"
          },
          "metadata": {}
        }
      ]
    },
    {
      "cell_type": "markdown",
      "source": [
        "# 5.22.4 Properti Pembuatan Histogram dengan Matplotib"
      ],
      "metadata": {
        "id": "KFaTL1LoaVbp"
      }
    },
    {
      "cell_type": "code",
      "source": [
        "import numpy as np\n",
        "import pandas as pd\n",
        "import matplotlib.pyplot as plt\n",
        "data_03 = pd.read_csv(\"bunga_iris.csv\")"
      ],
      "metadata": {
        "id": "VtR1dcDcaeZR"
      },
      "execution_count": null,
      "outputs": []
    },
    {
      "cell_type": "code",
      "source": [
        "# Latihan 1 pembuatan histogram dengan matplotib\n",
        "\n",
        "# Inisialisasi variabel yang berisikan integer\n",
        "a = [-1,-25,-3,4,12]\n",
        "b = [2,2,10,15,2]\n",
        "\n",
        "plt.figure(figsize=(7,5))\n",
        "hist = plt.bar(a,b,color='green')\n",
        "pola = [\"x\",\"x\",\"x\",\"x\",\"o\",\"o\",\"o\",\"o\"]\n",
        "for bar in hist :\n",
        "    bar.set_hatch(pola.pop(0))\n",
        "\n",
        "# Menampilkan output \n",
        "plt.show()\n"
      ],
      "metadata": {
        "colab": {
          "base_uri": "https://localhost:8080/",
          "height": 445
        },
        "id": "-0kBoMivb-QG",
        "outputId": "12d3de21-ede7-41b3-b730-54cad121fc99"
      },
      "execution_count": null,
      "outputs": [
        {
          "output_type": "display_data",
          "data": {
            "text/plain": [
              "<Figure size 700x500 with 1 Axes>"
            ],
            "image/png": "[encoded data removed]"
          },
          "metadata": {}
        }
      ]
    }
  ]
}