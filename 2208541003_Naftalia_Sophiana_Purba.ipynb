{
  "nbformat": 4,
  "nbformat_minor": 0,
  "metadata": {
    "colab": {
      "provenance": []
    },
    "kernelspec": {
      "name": "python3",
      "display_name": "Python 3"
    },
    "language_info": {
      "name": "python"
    }
  },
  "cells": [
    {
      "cell_type": "code",
      "execution_count": null,
      "metadata": {
        "id": "qcuMATU4Etol"
      },
      "outputs": [],
      "source": [
        "# Tugas Minggu ke 3"
      ]
    },
    {
      "cell_type": "code",
      "source": [
        "# Strings index 1\n",
        "\n",
        "# String adalah tipe data di dalam pemrograman yang digunakan untuk mempresentasikan teks atau karakter\n",
        "# Index adalah nomor yang digunakan untuk mencari posisi suatu karakter dalam urutan\n",
        "# Jadi, strings index digunakan untuk menunjukkan posisi suatu karakter dalam string\n",
        "# Setiap karakter string index akan dimulai dari bilangan bulat 0 jika dihitung dari depan\n",
        "# Namun, jika dihitung dari belakang string index akan dimulai dari bilangan bulat -1\n",
        "\n",
        "# Mendefinisikan sebuah string \n",
        "judul = \"Welcome to Udayana!\"\n",
        "\n",
        "# Mengakses karakter individu dengan index positif\n",
        "print(judul[3])\n",
        "# Karena karakter pertama dimulai dari 0 sehingga perintah print di atas artinya kita mengakses karakter ke 4 dari depan dalam string\n",
        "# Hasilnya akan menampilkan karakter \"c\" karena \"c\" terletak diurutan ke 4 dari depan\n",
        "\n",
        "# Mengakses karakter individu dengan index negatif\n",
        "print(judul[-2])\n",
        "# Artinya kita mengakses karakter kedua dari belakang dalam string\n",
        "# Hasilnya akan menampilkan karakter \"a\" karena \"a\" terletak di urutan kedua dari belakang\n",
        "\n",
        "# String index juga menghitung tanda baca dan spasi"
      ],
      "metadata": {
        "colab": {
          "base_uri": "https://localhost:8080/"
        },
        "id": "sfdQ1ejrFjBY",
        "outputId": "52c7df01-c1c0-44e2-c4a6-a41415287612"
      },
      "execution_count": 1,
      "outputs": [
        {
          "output_type": "stream",
          "name": "stdout",
          "text": [
            "c\n",
            "a\n"
          ]
        }
      ]
    },
    {
      "cell_type": "code",
      "source": [
        "# Strings index 2\n",
        "\n",
        "# Setiap karakter string index akan dimulai dari bilangan bulat 0 jika dihitung dari depan\n",
        "# Mendefinisikan sebuah string\n",
        "nama = \"Naftalia Sophiana Purba\"\n",
        "\n",
        "# Jika kita menginginkan print dengan index tertentu, maka outputnya akan berupa karakter sesuai index namun akan dikurangi 1 karakter dari belakang\n",
        "\n",
        "# Menampilkan potongan karakter dari string dengan index\n",
        "print(nama[3:15])\n",
        "# String index juga menghitung spasi\n",
        "# Seharusnya jika kita hitung secara manual index 3 sampai 15 ada pada karakter \"talia Sophian\" \n",
        "# tetapi karena dikurangi satu karakter dari belakang, maka outputnya menjadi \"talia Sophia\""
      ],
      "metadata": {
        "colab": {
          "base_uri": "https://localhost:8080/"
        },
        "id": "hzxsLrsVFrD5",
        "outputId": "9554f1f9-3ceb-4617-8433-cd1995dbce2f"
      },
      "execution_count": 2,
      "outputs": [
        {
          "output_type": "stream",
          "name": "stdout",
          "text": [
            "talia Sophia\n"
          ]
        }
      ]
    },
    {
      "cell_type": "code",
      "source": [
        "# String index 3\n",
        "\n",
        "aktivitas = \"saya sedang mengerjakan tugas algoritma\"\n",
        "\n",
        "# Menampilkan potongan karakter dari string dengan index\n",
        "print(aktivitas[23:5])\n",
        "print(aktivitas[-16:-34])\n",
        "# Kedua perintah print di atas bukanlah error, namun outputnya tidak ada\n",
        "# Karena output hanya akan ada jika kita meminta/memasukkan index dari angka yang lebih kecil ke angka yang lebih besar\n",
        "# Dengan catatan kedua nilai dalam index sama-sama bilangan bulat negatif atau sama-sama bilangan bulat positif\n",
        "\n",
        "print(aktivitas[-16:5])\n",
        "# Perintah di atas outputnya pasti tidak ada\n",
        "# Karena jika ingin mencampurkan bilangan negatif dan positif pada index, maka agar outputnya ada, karakter harus dihitung dari depan terlebih dahulu baru belakang\n",
        "# Artinya index harus dari bilangan positif ke negatif"
      ],
      "metadata": {
        "colab": {
          "base_uri": "https://localhost:8080/"
        },
        "id": "Se4gFK9DFrpX",
        "outputId": "4769d159-f728-4d66-e856-20b8ed5eba38"
      },
      "execution_count": 3,
      "outputs": [
        {
          "output_type": "stream",
          "name": "stdout",
          "text": [
            "\n",
            "\n",
            "\n"
          ]
        }
      ]
    },
    {
      "cell_type": "code",
      "source": [
        "# Kita akan ubah index nya\n",
        "print(aktivitas[5:23])\n",
        "print(aktivitas[-34:-16])\n",
        "print(aktivitas[5:-16])\n",
        "# Perintah ini pasti memiliki output karena indexnya dari angka yang lebih kecil ke angka yang lebih besar dan dari depan ke belakang\n",
        "\n",
        "# Kita bisa lihat ketiga perintah print juga memiliki output yang sama, karena dihitung dari depan dan dari belakang"
      ],
      "metadata": {
        "colab": {
          "base_uri": "https://localhost:8080/"
        },
        "id": "YnAFKZeEFy1U",
        "outputId": "d86aabdf-2827-4429-bf66-9502d5afb2f3"
      },
      "execution_count": 4,
      "outputs": [
        {
          "output_type": "stream",
          "name": "stdout",
          "text": [
            "sedang mengerjakan\n",
            "sedang mengerjakan\n",
            "sedang mengerjakan\n"
          ]
        }
      ]
    },
    {
      "cell_type": "code",
      "source": [
        "# Strings index 4\n",
        "\n",
        "# Mendefinisikan sebuah string\n",
        "sapaan = \"Hello, nice to meet you!\"\n",
        "\n",
        "# Menampilkan potongan karakter dari string dengan index\n",
        "print(sapaan[:-2])\n",
        "# Perintah tersebut memiliki arti kita meminta untuk karakter pada index awal sampai -2\n",
        "\n",
        "# Menampilkan potongan karakter dari string dengan index\n",
        "print(sapaan[1:])\n",
        "# Perintah tersebut memiliki arti kita meminta untuk karakter pada index 1 sampai akhir\n",
        "\n",
        "# Kesimpulan : jika index disebelah kanan tanda \":\" kosong artinya kita meminta dari karakter akhir \n",
        "# sementara jika index sebelah kiri tanda \":\" kosong artinya kita meminta dari karakter awal"
      ],
      "metadata": {
        "colab": {
          "base_uri": "https://localhost:8080/"
        },
        "id": "uS0Eou1fGIgb",
        "outputId": "ea9d534c-c68c-4c29-c234-92a92a4f2d0d"
      },
      "execution_count": 5,
      "outputs": [
        {
          "output_type": "stream",
          "name": "stdout",
          "text": [
            "Hello, nice to meet yo\n",
            "ello, nice to meet you!\n"
          ]
        }
      ]
    },
    {
      "cell_type": "code",
      "source": [
        "# Strings index 5\n",
        "\n",
        "# Mendefinisikan sebuah string\n",
        "pertanyaan = \"What's your favorite color?\"\n",
        "\n",
        "# Strings index menggunakan urutan yang dimulai dari bilangan bulat 0 jika dihitung dari depan\n",
        "# Sehingga jika kita menginginkan output dengan seluruh karakter pada string maka digunakan perintah print dibawah ini\n",
        "print(pertanyaan[0:])\n",
        "# Perintah ini artinya kite meminta karakter pertama sampai karakter akhir\n",
        "# Ingat! karakter pertama dihitung dari 0\n",
        "\n",
        "# atau\n",
        "\n",
        "print(pertanyaan[:])\n",
        "# Kedua index pada sisi kiri dan kanan tanda \":\" kosong artinya kita meminta dari karakter awal ke akhir\n",
        "\n",
        "# Kedua perintah print di atas akan menghasilkan output yang sama\n",
        "\n",
        "# Kenapa tidak menggunakan index 0 sampai -1 untuk menampilkan seluruh karakter, bukannya -1 ada di akhir?\n",
        "# karena, Ingat! jika kita menginginkan print dengan index tertentu, maka outputnya akan berupa karakter sesuai index namun akan dikurangi 1 karakter dari belakang\n",
        "# Sehingga jika menggunakan index 0 sampai -1 maka outputnya akan menjadi \"What's your favorite color\"\n",
        "print(pertanyaan[0:-1])"
      ],
      "metadata": {
        "colab": {
          "base_uri": "https://localhost:8080/"
        },
        "id": "gI3Wayz0F2pP",
        "outputId": "538d813e-64eb-4bba-838f-90bcbcff1a95"
      },
      "execution_count": 6,
      "outputs": [
        {
          "output_type": "stream",
          "name": "stdout",
          "text": [
            "What's your favorite color?\n",
            "What's your favorite color?\n",
            "What's your favorite color\n"
          ]
        }
      ]
    },
    {
      "cell_type": "code",
      "source": [
        "# String index 6\n",
        "\n",
        "# Mendefinisikan sebuah string\n",
        "benda = \"penghapus\"\n",
        "\n",
        "# Menampilkan potongan karakter dari string dengan index\n",
        "print(benda[1:-2:4])"
      ],
      "metadata": {
        "colab": {
          "base_uri": "https://localhost:8080/"
        },
        "id": "z54yqtyOGUnZ",
        "outputId": "2ce51a9c-3dcd-4841-dd6e-cbdfe952a3d3"
      },
      "execution_count": 7,
      "outputs": [
        {
          "output_type": "stream",
          "name": "stdout",
          "text": [
            "ea\n"
          ]
        }
      ]
    },
    {
      "cell_type": "code",
      "source": [
        "# Strings methods 1\n",
        "# String methods adalah metode yang digunakan untuk mengubah, memeriksa, dan memanipulasi string\n",
        "\n",
        "# Mendefinisikan sebuah string\n",
        "pertanyaan = \"How are you?\"\n",
        "\n",
        "# Kita akan menggunakan fungsi len() untuk mengetahui jumlah karakter pada string\n",
        "print(len(pertanyaan))\n",
        "\n",
        "# Fungsi len() juga akan menghitung spasi dan tanda baca"
      ],
      "metadata": {
        "colab": {
          "base_uri": "https://localhost:8080/"
        },
        "id": "76ojbyNqGntP",
        "outputId": "5d565b25-0687-410f-a2c2-7a06f7cc9f7f"
      },
      "execution_count": 9,
      "outputs": [
        {
          "output_type": "stream",
          "name": "stdout",
          "text": [
            "12\n"
          ]
        }
      ]
    },
    {
      "cell_type": "code",
      "source": [
        "# Strings methods 2\n",
        "\n",
        "# Upper digunakan untuk mengubah seluruh karakter pada string menjadi huruf kapital\n",
        "\n",
        "# Mendefinisikan sebuah string\n",
        "ucapan = \"Happy New Year!\"\n",
        "\n",
        "# Mengubah karakter dalam string\n",
        "ucapan.upper()\n",
        "\n",
        "# Lower digunakan untuk mengubah seluruh karakter pada string menjadi huruf kecil\n",
        "\n",
        "# Mendefinisikan sebuah string\n",
        "ucapan = \"Happy New Year!\"\n",
        "\n",
        "# Mengubah karakter dalam string\n",
        "ucapan.lower()\n",
        "\n",
        "# Pada output hanya ada hasil dari ucapan.lower() karena dia adalah perintah terakhir\n",
        "# Ini terjadi karena bukan menggunakan perintah print\n",
        "# Artinya kita tidak bisa menggabungkan strings methods yang bukan perintah print"
      ],
      "metadata": {
        "colab": {
          "base_uri": "https://localhost:8080/",
          "height": 35
        },
        "id": "2V1-N3K4GqyR",
        "outputId": "5bc35a4f-ab26-4210-e783-f96dd9e5e8f9"
      },
      "execution_count": 10,
      "outputs": [
        {
          "output_type": "execute_result",
          "data": {
            "text/plain": [
              "'happy new year!'"
            ],
            "application/vnd.google.colaboratory.intrinsic+json": {
              "type": "string"
            }
          },
          "metadata": {},
          "execution_count": 10
        }
      ]
    },
    {
      "cell_type": "code",
      "source": [
        "# Kita buat code baru untuk upper\n",
        "\n",
        "# Mendefinisikan sebuah string\n",
        "ucapan = \"Happy New Year!\"\n",
        "\n",
        "# Mengubah karakter dalam string\n",
        "ucapan.upper()"
      ],
      "metadata": {
        "colab": {
          "base_uri": "https://localhost:8080/",
          "height": 35
        },
        "id": "CpITlUabGu40",
        "outputId": "ae2e6d48-7445-4b18-bfbb-9ce0f40dbaf4"
      },
      "execution_count": 11,
      "outputs": [
        {
          "output_type": "execute_result",
          "data": {
            "text/plain": [
              "'HAPPY NEW YEAR!'"
            ],
            "application/vnd.google.colaboratory.intrinsic+json": {
              "type": "string"
            }
          },
          "metadata": {},
          "execution_count": 11
        }
      ]
    },
    {
      "cell_type": "code",
      "source": [
        "# Strings methods 3\n",
        "\n",
        "# Find digunakan untuk menemukan posisi karakter atau kata yang kita cari\n",
        "# Jika yang kita cari berbentuk kata, maka ia akan mencari posisi karakter paling depan dari kata yang dicari\n",
        "# Jika yang dicari berbentuk karakter, maka ia akan menampilkan posisi pertama dimana karakter tersebut dimuat\n",
        "\n",
        "# Mendefinisikan sebuah string\n",
        "pekerjaan = \"Dian adalah seorang arsitek\"\n",
        "\n",
        "# Menemukan posisi suatu karakter dalam string\n",
        "pekerjaan.find(\"r\")\n",
        "# Karakter \"r\" jika kita lihat ada 2 yaitu pada karakter ke 15 dan 21\n",
        "# Tetapi find hanya akan menampilkan satu posisi, yaitu posisi pertama dimana karakter tersebut berada"
      ],
      "metadata": {
        "colab": {
          "base_uri": "https://localhost:8080/"
        },
        "id": "qIVTsaBTGyGh",
        "outputId": "2fbf511d-d446-406b-ee65-b5a8073b5109"
      },
      "execution_count": 12,
      "outputs": [
        {
          "output_type": "execute_result",
          "data": {
            "text/plain": [
              "15"
            ]
          },
          "metadata": {},
          "execution_count": 12
        }
      ]
    },
    {
      "cell_type": "code",
      "source": [
        "# Menemukan posisi suatu kata dalam string\n",
        "pekerjaan.find(\"arsitek\")\n",
        "# Find akan mencari posisi karakter paling depan dari kata yang dicari\n",
        "# Pada perintah kata yang dicari adalah \"arsitek\" dimana yang akan menjadi output adalah posisi karakter \"a\" dalam kata \"arsitek\""
      ],
      "metadata": {
        "colab": {
          "base_uri": "https://localhost:8080/"
        },
        "id": "t7ZfJZibGyzr",
        "outputId": "aa66275e-99d0-43a2-9042-4d1186cfb938"
      },
      "execution_count": 13,
      "outputs": [
        {
          "output_type": "execute_result",
          "data": {
            "text/plain": [
              "20"
            ]
          },
          "metadata": {},
          "execution_count": 13
        }
      ]
    },
    {
      "cell_type": "code",
      "source": [
        "# String methods 4\n",
        "\n",
        "# Mendefinisikan sebuah string\n",
        "string = \"kata sandi anda salah\"\n",
        "\n",
        "# Mencari apakah suatu kata terdaoat di dalam string\n",
        "print(\"sandi\" in string)\n",
        "print(\"Sandi\" in string)\n",
        "# Kita dapat melihat perbedaan dari \"sandi\" dan \"Sandi\". Pada string yang dapat ditemui adalah \"sandi\" bukan \"Sandi\" \n",
        "# sehingga perintah pertama pasti true dan perintah kedua false\n",
        "# Ini berarti python sensitif terhadap penggunaan huruf kapital dan huruf kecil ---- Perlu diiingat!"
      ],
      "metadata": {
        "colab": {
          "base_uri": "https://localhost:8080/"
        },
        "id": "XzJWmYHhG6zu",
        "outputId": "43b217b4-8d46-4629-a3da-35f2135661b6"
      },
      "execution_count": 14,
      "outputs": [
        {
          "output_type": "stream",
          "name": "stdout",
          "text": [
            "True\n",
            "False\n"
          ]
        }
      ]
    },
    {
      "cell_type": "code",
      "source": [
        "# Ingat! bahwa python sensitif terhadap penggunaan huruf kapital dan huruf kecil\n",
        "\n",
        "# Menemukan posisi suatu kata \n",
        "pekerjaan.find(\"Arsitek\")\n",
        "\n",
        "# Ini akan bernilai -1 karena kata \"Arsitek\" dengan karakter \"A\" tidak ditemukan di dalam string"
      ],
      "metadata": {
        "colab": {
          "base_uri": "https://localhost:8080/"
        },
        "id": "J6rDxvktHBI3",
        "outputId": "4f61dad1-a0c7-4973-c686-9aa42bbce851"
      },
      "execution_count": 15,
      "outputs": [
        {
          "output_type": "execute_result",
          "data": {
            "text/plain": [
              "-1"
            ]
          },
          "metadata": {},
          "execution_count": 15
        }
      ]
    },
    {
      "cell_type": "code",
      "source": [
        "# Strings methods 5\n",
        "\n",
        "# Replace digunakan untuk menggantikan kata dalam string\n",
        "\n",
        "# Mendefinisikan sebuah string \n",
        "string = \"kata sandi anda salah\"\n",
        "\n",
        "# Menggantikan kata\n",
        "string.replace(\"salah\", \"benar\")"
      ],
      "metadata": {
        "colab": {
          "base_uri": "https://localhost:8080/",
          "height": 35
        },
        "id": "zH2neZpGHD18",
        "outputId": "3da5cf3e-f3d0-43d5-b847-11572841168a"
      },
      "execution_count": 16,
      "outputs": [
        {
          "output_type": "execute_result",
          "data": {
            "text/plain": [
              "'kata sandi anda benar'"
            ],
            "application/vnd.google.colaboratory.intrinsic+json": {
              "type": "string"
            }
          },
          "metadata": {},
          "execution_count": 16
        }
      ]
    },
    {
      "cell_type": "code",
      "source": [
        "# Menggantikan kata\n",
        "string.replace(\"benar\", \"salah\")\n",
        "\n",
        "# Notes : jangan terbalik saat memasukkan kata yang akan diubah dengan kata pengubahnya karena replace tidak bersifat bolak-balik\n",
        "# Akan tetap memiliki output tapi tidak mengubah bentuk awal"
      ],
      "metadata": {
        "colab": {
          "base_uri": "https://localhost:8080/",
          "height": 35
        },
        "id": "-V6irVLuHE08",
        "outputId": "a1aac61f-d00a-476f-e3e7-f35cf53afaea"
      },
      "execution_count": 17,
      "outputs": [
        {
          "output_type": "execute_result",
          "data": {
            "text/plain": [
              "'kata sandi anda salah'"
            ],
            "application/vnd.google.colaboratory.intrinsic+json": {
              "type": "string"
            }
          },
          "metadata": {},
          "execution_count": 17
        }
      ]
    },
    {
      "cell_type": "code",
      "source": [
        "# Ingat kembali! python sensitif terhadap penggunaan huruf kapital dan huruf kecil\n",
        "# Menggantikan kata\n",
        "string.replace(\"Salah\", \"benar\")\n",
        "# Hasilnya tidak akan berubah karena pada string tidak ditemukan \"Salah\" melainkan \"salah\""
      ],
      "metadata": {
        "colab": {
          "base_uri": "https://localhost:8080/",
          "height": 35
        },
        "id": "keu8KrvTHKPj",
        "outputId": "25b324f5-f1c5-46cd-fdf9-4729871d88b1"
      },
      "execution_count": 18,
      "outputs": [
        {
          "output_type": "execute_result",
          "data": {
            "text/plain": [
              "'kata sandi anda salah'"
            ],
            "application/vnd.google.colaboratory.intrinsic+json": {
              "type": "string"
            }
          },
          "metadata": {},
          "execution_count": 18
        }
      ]
    },
    {
      "cell_type": "code",
      "source": [
        "# Operasi matematika di Python\n",
        "# Operasi matematika menggunakan perintah print dan tanda operasi matematika\n",
        "\n",
        "# Penjumlahan\n",
        "print(15+9)\n",
        "\n",
        "# Pengurangan\n",
        "print(9-15)\n",
        "\n",
        "# Perkalian\n",
        "print(9*15)\n",
        "\n",
        "# Pemangkatan\n",
        "print(4**3)\n",
        "#Notes : tanda ** dibaca \n",
        "\n",
        "# Pembagian\n",
        "print(15/9)\n",
        "\n",
        "# Pembulatan pembagian\n",
        "print(15//9)\n",
        "\n",
        "# Modulo (Sisa hasil pembagian)\n",
        "print(15%9)\n",
        "# Artinya sisa bagi dari 15 dibagi 9"
      ],
      "metadata": {
        "colab": {
          "base_uri": "https://localhost:8080/"
        },
        "id": "4JuPXf0RHNKd",
        "outputId": "f853e3e7-c09e-407d-c78a-cc02271f4061"
      },
      "execution_count": 19,
      "outputs": [
        {
          "output_type": "stream",
          "name": "stdout",
          "text": [
            "24\n",
            "-6\n",
            "135\n",
            "64\n",
            "1.6666666666666667\n",
            "1\n",
            "6\n"
          ]
        }
      ]
    },
    {
      "cell_type": "code",
      "source": [
        "# Operasi matematika 2\n",
        "# Operasi matematika menggunakan perintah print dan pendefinisian variabel\n",
        "\n",
        "# Mendefinisikan variabel\n",
        "x = 4\n",
        "y = 8\n",
        "\n",
        "# Penjumlahan\n",
        "print(x+y)\n",
        "\n",
        "# Pengurangan\n",
        "print(x-y)\n",
        "\n",
        "# Perkalian\n",
        "print(y*x)\n",
        "\n",
        "# Pemangkatan\n",
        "print(y**x)\n",
        "#Notes : tanda ** dibaca \n",
        "\n",
        "# Pembagian\n",
        "print(x/y)\n",
        "\n",
        "# Pembulatan pembagian\n",
        "print(x//y)\n",
        "# Jika kita lihat pembulatan pembagian yang dilakukan adalah pembulatan ke bawah\n",
        "\n",
        "# Modulo (Sisa hasil pembagian)\n",
        "print(y/x)\n",
        "# Artinya sisa bagi dari y dibagi x"
      ],
      "metadata": {
        "colab": {
          "base_uri": "https://localhost:8080/"
        },
        "id": "i4T68PiKHQwY",
        "outputId": "58b796d2-b683-42ff-d6be-baa52186698c"
      },
      "execution_count": 20,
      "outputs": [
        {
          "output_type": "stream",
          "name": "stdout",
          "text": [
            "12\n",
            "-4\n",
            "32\n",
            "4096\n",
            "0.5\n",
            "0\n",
            "2.0\n"
          ]
        }
      ]
    },
    {
      "cell_type": "code",
      "source": [
        "# Operasi matematika 3\n",
        "# Augmented operator adalah operator yang digunakan untuk menetapkan beberapa nilai ke variabel\n",
        "# Operasi yang dilakukan adalah operasi biner yang kemudian menetapkan hasil kembali ke salah satu operan\n",
        "\n",
        "# Mendefinisikan sebuah variabel\n",
        "x=5\n",
        "\n",
        "x+=6\n",
        "print(x)\n",
        "# Disini akan dihitung nilai 5 ditambahkan dengan 6\n",
        "# Hasil dari 5+6 akan menggantikan 5 pada variabel x\n",
        "# 11 menggantikan 5, maka x = 11\n",
        "\n",
        "x-=25\n",
        "print(x)\n",
        "# Disini akan dihitung nilai x = 11 dikurangi dengan 25\n",
        "# Hasil dari operasi ini akan menggantikan nilai pada variabel x sebelumnya\n",
        "# -14 menggantikan 11, maka x = -14\n",
        "\n",
        "x*=4\n",
        "print(x)\n",
        "# Disini akan dihitung nilai x = -14 dikali dengan 4\n",
        "# Hasil dari operasi ini akan menggantikan nilai pada variabel x sebelumnya\n",
        "# -56 menggantikan -14, maka x = -56\n",
        "\n",
        "x/=-5\n",
        "print(x)\n",
        "# Disini akan dihitung nilai x = -56 dibagi dengan -5\n",
        "# Hasil dari operasi ini akan menggantikan nilai pada variabel x sebelumnya\n",
        "# 11.2 menggantikan -56, maka x = 11.2\n",
        "\n",
        "x%=3\n",
        "print(x)\n",
        "# Disini akan dihitung nilai x = 11.2 atau sisa hasil dari x bila dibagi 3\n",
        "# Hasil dari operasi ini akan menggantikan nilai pada variabel x sebelumnya\n",
        "# 2.1999999999999993 menggantikan 11.2, maka x = 2.1999999999999993\n",
        "\n",
        "# Karena operasi berhenti di x = 2.1999999999999993, maka 2.1999999999999993 adalah hasil akhir"
      ],
      "metadata": {
        "colab": {
          "base_uri": "https://localhost:8080/"
        },
        "id": "FE6sQEG7HVEX",
        "outputId": "64172a48-a52a-475b-adc1-8dd926127ce2"
      },
      "execution_count": 21,
      "outputs": [
        {
          "output_type": "stream",
          "name": "stdout",
          "text": [
            "11\n",
            "-14\n",
            "-56\n",
            "11.2\n",
            "2.1999999999999993\n"
          ]
        }
      ]
    },
    {
      "cell_type": "code",
      "source": [
        "# Operator perbandingan di python\n",
        "\n",
        "# \"==\" (sama dengan) akan menghasilkan \"True\" jika nilai kedua operan sama dan \"False\" jika nilai kedua operan berbeda\n",
        "x = 12 == 12\n",
        "print(x)\n",
        "# Karena 12 sama dengan 12 ,maka hasilnya pasti \"True\"\n",
        "\n",
        "# \"!=\" (tidak sama dengan) akan menghasilkan \"True\" jika nilai kedua operan berbeda dan \"False\" jika nilai kedua operan sama\n",
        "x = 17 != 1\n",
        "print(x)\n",
        "# Karena 17 tidak sama dengan 1, maka hasilnya pasti \"True\"\n",
        "\n",
        "# \"<\" (kurang dari)\n",
        "# \"True\" jika nilai operan kiri kurang dari nilai operan kanan\n",
        "# \"False\" jika nilai operan kiri lebih dari nilai operan kanan\n",
        "x = 1105 < 1104\n",
        "print(x)\n",
        "# Karena 1105 tidak lebih kecil dari 1104, maka hasilnya pasti \"False\"\n",
        "\n",
        "# \">\" (lebih dari)\n",
        "# \"True\" jika nilai operan kiri lebih dari nilai operan kanan\n",
        "# \"False\" jika nilai operan kiri kurang dari nilai operan kanan\n",
        "x = 227 > 123\n",
        "print(x)\n",
        "# Karena 227 lebih besar dari 123, maka hasilnya pasti \"True\"\n",
        "\n",
        "# \"<=\" (kurang dari atau sama dengan)\n",
        "# \"True\" jika nilai operan kiri kurang dari atau sama dengan nilai operan kanan\n",
        "# \"False\" jika nilai operan kiri lebih dari atau tidak sama dengan nilai operan kanan\n",
        "x = 10 <= 7\n",
        "print(x)\n",
        "# Karena 10 lebih besar dan tidak sama dengan 7, maka hasilnya pasti \"False\"\n",
        "\n",
        "# \">=\" (kurang dari atau sama dengan)\n",
        "# \"True\" jika nilai operan kiri lebih dari atau sama dengan nilai operan kanan\n",
        "# \"False\" jika nilai operan kiri kurang dari atau tidak sama dengan nilai operan kanan\n",
        "x = 35 >= 35\n",
        "print(x)\n",
        "# Meskipun 35 tidak lebih besar dari 35 tapi 35 sama dengan 35, maka hasilnya pasti \"True\""
      ],
      "metadata": {
        "colab": {
          "base_uri": "https://localhost:8080/"
        },
        "id": "PosqsUa1HafT",
        "outputId": "c9ad8c9e-6f8c-441a-adef-1d95b970f53a"
      },
      "execution_count": 22,
      "outputs": [
        {
          "output_type": "stream",
          "name": "stdout",
          "text": [
            "True\n",
            "True\n",
            "False\n",
            "True\n",
            "False\n",
            "True\n"
          ]
        }
      ]
    },
    {
      "cell_type": "code",
      "source": [
        "# Operator logika di Python\n",
        "\n",
        "# Mendefinisikan variabel\n",
        "a = 13\n",
        "b = 8\n",
        "c = 13\n",
        "\n",
        "# Logika \"And\" menghasilkan \"True\" jika kedua operan bernilai \"True\"\n",
        "# Logika \"And\" menghasilkan \"False\" jika salah satu dari operan bernilai \"False\"\n",
        "print(a > c and c < b)\n",
        "# a > c = 13 > 13 bernilai \"False\" ; c < b = 13 < 8 bernilai \"False\" sehingga akan menghasilkan \"False\"\n",
        "\n",
        "# Logika \"Or\" menghasilkan \"True\" jika salah satu atau kedua operan bernilai \"True\"\n",
        "# Logika \"Or\" menghasilkan \"False\" jika kedua operan bernilai \"False\"\n",
        "print(c > b or a == b)\n",
        "# c > b = 13 > 8 bernilai \"True\" ; a == b = 13 == 8 bernilai \"False\" sehingga akan menghasilkan nilai \"True\"\n",
        "\n",
        "# Logika \"Not\" menghasilkan kebalikan dari nilai awal\n",
        "print(not(c > b or a == b))\n",
        "# c > b = 13 > 8 bernilai \"True\" ; a==b = 13==8 bernilai \"False\" sehingga akan menghasilkan nilai \"True\"\n",
        "# Namun karena digunakan logika \"not\" maka akan menghasilkan kebalikan dari \"True\", yaitu \"False\"\n",
        "\n",
        "# Menggabungkan logika \"and\" dan \"or\"\n",
        "print(a == c and b > a or a > b)\n",
        "# Pengerjaan dilakukan berurut, nilai logika \"and\" dicari terlebih dahulu \n",
        "# a == c = 13 == 13 bernilai \"True\" ; b > a = 8 > 13 berniilai \"False\" sehingga logika \"and\" menghasilkan \"False\"\n",
        "# Kemudian logika \"or\". a > b = 13 > 8 bernilai \"True\" \n",
        "# Digabungkan \"False\" or \"True\" hasilnya \"True\""
      ],
      "metadata": {
        "colab": {
          "base_uri": "https://localhost:8080/"
        },
        "id": "qsTiZYK8HfEQ",
        "outputId": "b810229f-6a5b-4b29-b122-e930d269a072"
      },
      "execution_count": 23,
      "outputs": [
        {
          "output_type": "stream",
          "name": "stdout",
          "text": [
            "False\n",
            "True\n",
            "False\n",
            "True\n"
          ]
        }
      ]
    },
    {
      "cell_type": "code",
      "source": [
        "# Operator if 1\n",
        "\n",
        "# Operator if adalah operator kondisional yang digunakan untuk mengambil keputusan berdasarkan suatu kondisi\n",
        "# Operator if akan dijalankan apabila nilai variabel yang dijalankan adalah \"True\", namun jika nilainya adalah \"False\", maka tidak dijalankan\n",
        "\n",
        "# Mendefinisikan suatu varabel\n",
        "x = 123\n",
        "\n",
        "# Menjalankan operator if\n",
        "if x % 2 != 0:\n",
        "  print(\"ganjil\")\n",
        "\n",
        "if x % 2 == 0:\n",
        "  print(\"genap\")\n",
        "\n",
        "# 123 jika dibagi 2 pasti akan memiliki sisa sehingga outputnya akan menampilkan \"ganjil\""
      ],
      "metadata": {
        "colab": {
          "base_uri": "https://localhost:8080/"
        },
        "id": "lJBcJW4cHmAt",
        "outputId": "64d274f4-8aba-4069-806d-56153fcaf9b3"
      },
      "execution_count": 24,
      "outputs": [
        {
          "output_type": "stream",
          "name": "stdout",
          "text": [
            "ganjil\n"
          ]
        }
      ]
    },
    {
      "cell_type": "code",
      "source": [
        "# Operator if 2\n",
        "\n",
        "# Mendefinisikan suatu variabel\n",
        "x = -5\n",
        "\n",
        "# Menjalankan operator if\n",
        "if x >= 0:\n",
        "  print(\"bilangan positif\")\n",
        "\n",
        "# Menggunakan else untuk keputusan selain yang ada pada operator if\n",
        "else:\n",
        "  print(\"bilangan negatif\")\n",
        "\n",
        "# x = -5 dimana -5 kurang dari 0, maka outputnya pasti menampilkan \"bilangan negatif\" "
      ],
      "metadata": {
        "colab": {
          "base_uri": "https://localhost:8080/"
        },
        "id": "9fbm5b_QHqeR",
        "outputId": "889177f7-f91e-4a4c-da13-c88313becfe3"
      },
      "execution_count": 25,
      "outputs": [
        {
          "output_type": "stream",
          "name": "stdout",
          "text": [
            "bilangan negatif\n"
          ]
        }
      ]
    },
    {
      "cell_type": "code",
      "source": [
        "# Operator if 3\n",
        "\n",
        "# Misalkan gol suatu pertandingan sepakbola\n",
        "# Lawan telah mencetak sebanyak 2 gol\n",
        "\n",
        "# Mendefinisikan variabel menggunakan input\n",
        "gol_anda = float(input(\"Gol anda sebanyak \"))\n",
        "\n",
        "if gol_anda > 2:\n",
        "   print(\"Ayooo sebentar lagi anda menang\")\n",
        "   print(\"Jangan kasih celah\")\n",
        "\n",
        "if gol_anda >= 0 and gol_anda < 2:\n",
        "  print(\"Semangat! Kejar terus ketertinggalan anda!\")\n",
        "\n",
        "if gol_anda == 2:\n",
        "  print(\"Seri!\")\n",
        "\n",
        "if gol_anda < 0:  \n",
        "  print(\"banyak cetakan gol tidak mungkin minus\")\n",
        "# Banyak cetakan gol tidak mungkin bernilai minus "
      ],
      "metadata": {
        "colab": {
          "base_uri": "https://localhost:8080/"
        },
        "id": "YS1stt9jHrd3",
        "outputId": "3de7bd8e-647f-4bdb-94e8-d83f3060dc9e"
      },
      "execution_count": 26,
      "outputs": [
        {
          "output_type": "stream",
          "name": "stdout",
          "text": [
            "Gol anda sebanyak 1\n",
            "Semangat! Kejar terus ketertinggalan anda!\n"
          ]
        }
      ]
    },
    {
      "cell_type": "code",
      "source": [
        "# # Operator if 4\n",
        "\n",
        "# Menggunakan elif\n",
        "# Elif adalah singkatan dari else-if\n",
        "# Pada Python, elif digunakan untuk mengevaluasi suatu kondisi yang berbeda dari kondisi sebelumnya yang telah diuji dengan menggunakan if\n",
        "# Jika kondisi pada if tidak terpenuhi, maka Python akan mengevaluasi kondisi pada elif. \n",
        "# Jika kondisi pada elif terpenuhi, maka blok kode pada elif akan dijalankan\n",
        "\n",
        "# Mendefinisikan variabel menggunakan input\n",
        "gol_anda = float(input(\"Gol anda sebanyak \"))\n",
        "\n",
        "if gol_anda > 2:\n",
        "   print(\"Ayooo sebentar lagi anda menang\")\n",
        "   print(\"Jangan kasih celah\")\n",
        "\n",
        "elif gol_anda >= 0:\n",
        "  print(\"Semangat! Kejar terus ketertinggalan anda!\")\n",
        "# Kondisi gol_anda < 2 tidak perlu dituliskan kembali karena akan dijalankan pada else\n",
        "# Else akan embaca untuk angka dimana x < 2 yang juga < 0\n",
        "\n",
        "elif gol_anda == 2:\n",
        "  print(\"Seri!\")\n",
        "\n",
        "else :\n",
        "  print(\"banyak cetakan gol tidak mungkin minus\")\n",
        "# Banyak cetakan gol tidak mungkin bernilai minus "
      ],
      "metadata": {
        "colab": {
          "base_uri": "https://localhost:8080/"
        },
        "id": "KLclZtWEH5Um",
        "outputId": "1277a5ff-9b2c-471f-eb6e-c7fb273f2c3c"
      },
      "execution_count": 27,
      "outputs": [
        {
          "output_type": "stream",
          "name": "stdout",
          "text": [
            "Gol anda sebanyak -1\n",
            "banyak cetakan gol tidak mungkin minus\n"
          ]
        }
      ]
    },
    {
      "cell_type": "code",
      "source": [
        "# Operator if 5\n",
        "\n",
        "# Mendefinisikan suatu variabel dengan input\n",
        "jarak = float(input(\"Berapakah jarak dari rumah mu ke taman? \"))\n",
        "# Digunakan tipe data float agar bilangan bulat maupun desimal dapat terdefinisi\n",
        "# Karena Python secara otomatis akan mengkonversi tipe data int menjadi float sebelum operasi dilakukan\n",
        "\n",
        "print(\"Jaraknya dalam km atau m?\")\n",
        "print(\"1. km\")\n",
        "print(\"2. m\")\n",
        "jawaban = input(str(\"Masukkan pilihan (1/2) \"))\n",
        "\n",
        "if jawaban == \"1\" :\n",
        "  jarak = jarak * 1000\n",
        "  print(\"Oh berarti jika diubah ke m jarak rumah mu ke taman adalah \" + str(jarak) + \" m\")\n",
        "# Digunakan spasi di dalam tanda petik agar ada jarak antar kalimat\n",
        "\n",
        "elif jawaban == \"2\" :\n",
        "  jarak = jarak / 1000\n",
        "  print(\"Oh berarti jika diubah ke km jarak rumah mu ke taman adalah \" + str(jarak) + \" km\")\n",
        "# Digunakan spasi dalam tanda petik agar ada jarak antar kalimat"
      ],
      "metadata": {
        "colab": {
          "base_uri": "https://localhost:8080/"
        },
        "id": "ErbZLFyeH90p",
        "outputId": "218e0144-9691-45f1-8b05-9b66bbbe937f"
      },
      "execution_count": 28,
      "outputs": [
        {
          "output_type": "stream",
          "name": "stdout",
          "text": [
            "Berapakah jarak dari rumah mu ke taman? 1290\n",
            "Jaraknya dalam km atau m?\n",
            "1. km\n",
            "2. m\n",
            "Masukkan pilihan (1/2) 2\n",
            "Oh berarti jika diubah ke km jarak rumah mu ke taman adalah 1.29 km\n"
          ]
        }
      ]
    }
  ]
}