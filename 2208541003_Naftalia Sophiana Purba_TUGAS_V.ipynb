{
  "nbformat": 4,
  "nbformat_minor": 0,
  "metadata": {
    "colab": {
      "provenance": []
    },
    "kernelspec": {
      "name": "python3",
      "display_name": "Python 3"
    },
    "language_info": {
      "name": "python"
    }
  },
  "cells": [
    {
      "cell_type": "markdown",
      "source": [
        "**Tugas Minggu Ke-5**"
      ],
      "metadata": {
        "id": "O0mWFSvsBt56"
      }
    },
    {
      "cell_type": "markdown",
      "source": [
        "# **5.16 List 2 Dimensi**\n",
        "\n",
        "---"
      ],
      "metadata": {
        "id": "AeFrm6RUBzjX"
      }
    },
    {
      "cell_type": "markdown",
      "source": [
        "List 2 dimensi adalah sebuah struktur data yang terdiri dari daftar elemen yang terorganisir dalam baris dan kolom \n",
        "(memiliki 2 indeks, yaitu indeks baris dan indeks kolom). Elemen di dalam list 2 dimensi biasanya memiliki tipe data yang sama.\n",
        "List 2 dimensi umumnya menempatka sebuah list di dalam list. Penggambarannya seperti sebuah matriks. "
      ],
      "metadata": {
        "id": "H6o068CBDZeW"
      }
    },
    {
      "cell_type": "code",
      "source": [
        "# Latihan 1 List 2 Dimensi\n",
        "\n",
        "# Mendefinisikan variabel\n",
        "angka_03 = [\n",
        "    [2,4,6,8],\n",
        "    [1,3,5,7],\n",
        "    [2,3,5],\n",
        "    [1,1,3]\n",
        "]\n",
        "print(angka_03)\n",
        "\n",
        "# Pada saat kita definisikan variabel dan isinya, kita buat urutan matriksnya berurut kebawah (vertikal)\n",
        "# Namun, dapat dilihat outputnya akan menghasilkan urutan angka_03 secara mendatar (horizontal)\n",
        "# Dapat dilihat bahwa panjang list sebagai elemen tidak harus sama"
      ],
      "metadata": {
        "colab": {
          "base_uri": "https://localhost:8080/"
        },
        "id": "SMojn6DkDbjJ",
        "outputId": "acdd0dd6-6e87-4562-b830-c4b8e5985503"
      },
      "execution_count": 1,
      "outputs": [
        {
          "output_type": "stream",
          "name": "stdout",
          "text": [
            "[[2, 4, 6, 8], [1, 3, 5, 7], [2, 3, 5], [1, 1, 3]]\n"
          ]
        }
      ]
    },
    {
      "cell_type": "code",
      "source": [
        "# Latihan 2 List 2 Dimensi\n",
        "\n",
        "# Mendefinisikan variabel\n",
        "angka_03 = \n",
        "    [2,4,6,8],\n",
        "    [1,3,5,7],\n",
        "    [2,3,5],\n",
        "    [1,1,3]\n",
        "\n",
        "print(angka_03)\n",
        "\n",
        "# Disini akan error karena tidak ada tanda kurung siku \"[]\" di awal dan akhir dari isi variabel angka_03\n",
        "# Sehingga invalid syntax karena disebelah tanda \"=\" tidak terdefinisi nilai apapun untuk variabel"
      ],
      "metadata": {
        "colab": {
          "base_uri": "https://localhost:8080/",
          "height": 135
        },
        "id": "hU2VkeTFH499",
        "outputId": "dd0c2e4b-b34a-451f-af17-5bf465ae5cfc"
      },
      "execution_count": 2,
      "outputs": [
        {
          "output_type": "error",
          "ename": "SyntaxError",
          "evalue": "ignored",
          "traceback": [
            "\u001b[0;36m  File \u001b[0;32m\"<ipython-input-2-b04388432880>\"\u001b[0;36m, line \u001b[0;32m4\u001b[0m\n\u001b[0;31m    angka_03 =\u001b[0m\n\u001b[0m               ^\u001b[0m\n\u001b[0;31mSyntaxError\u001b[0m\u001b[0;31m:\u001b[0m invalid syntax\n"
          ]
        }
      ]
    },
    {
      "cell_type": "code",
      "source": [
        "# Latihan 3 List 2 Dimensi\n",
        "\n",
        "# Mendefinisikan variabel\n",
        "angka_03 = 2,4,6,8\n",
        "          1,3,5,7\n",
        "          2,3,5\n",
        "          1,1,3\n",
        "\n",
        "print(angka_03)\n",
        "\n",
        "# Disini juga akan error karena tidak ada tand kurung siku \"[]\" di awal dan akhir elemen list 2 dimensi\n",
        "# Tanda kurung siku \"[]\" pada list 2 dimensi digunakan untuk menunjukkan bahwa struktur data adalah sebuah array multidimensi\n",
        "# Outputnya akan error karena ketika tidak menggunakan tanda kurung siku \"[]\" pada list 2 dimensi, \n",
        "# maka struktur datanya tidak dikenali sebagai array multidimensi, melainkan hanya sebagai objek biasa. "
      ],
      "metadata": {
        "colab": {
          "base_uri": "https://localhost:8080/",
          "height": 135
        },
        "id": "rtexJieiJGEE",
        "outputId": "bea7192c-a702-4690-a968-ede4e4ea5a1c"
      },
      "execution_count": 3,
      "outputs": [
        {
          "output_type": "error",
          "ename": "IndentationError",
          "evalue": "ignored",
          "traceback": [
            "\u001b[0;36m  File \u001b[0;32m\"<ipython-input-3-62b7529c90a2>\"\u001b[0;36m, line \u001b[0;32m5\u001b[0m\n\u001b[0;31m    1,3,5,7\u001b[0m\n\u001b[0m    ^\u001b[0m\n\u001b[0;31mIndentationError\u001b[0m\u001b[0;31m:\u001b[0m unexpected indent\n"
          ]
        }
      ]
    },
    {
      "cell_type": "code",
      "source": [
        "# Latihan 4 List 2 Dimensi\n",
        "\n",
        "# Mencetak elemen list 2 dimensi dari index tertentu\n",
        "angka_03[3]\n",
        "\n",
        "# Disini outputnya akan berupa elemen dalam urutan data ke-4, yaitu [1,1,3]\n",
        "# Ingat kembali index! Bahwa jika dihitung dari depan maka dimulai dari 0"
      ],
      "metadata": {
        "colab": {
          "base_uri": "https://localhost:8080/"
        },
        "id": "zeFrxbj1Erak",
        "outputId": "7d59a081-53d3-40f8-9261-8e9ff5436034"
      },
      "execution_count": 4,
      "outputs": [
        {
          "output_type": "execute_result",
          "data": {
            "text/plain": [
              "[1, 1, 3]"
            ]
          },
          "metadata": {},
          "execution_count": 4
        }
      ]
    },
    {
      "cell_type": "code",
      "source": [
        "# Latihan 5 List 2 Dimensi\n",
        "\n",
        "# Mencetak elemen list 2 dimensi dengan index tertentu\n",
        "angka_03[-2]\n",
        "\n",
        "# Disini outputnya akan berupa elemen dalam urutan data ke 2 dari belakang, karena indexnya bernilai negatif\n",
        "# Ingat kembali! Pada index jika bernilai negatif artinya dihitung dari belakang dan dimulai dari -1\n",
        "# Maka outputnya pastilah [2,3,5]"
      ],
      "metadata": {
        "colab": {
          "base_uri": "https://localhost:8080/"
        },
        "id": "irhJk2mmEB8H",
        "outputId": "b5c423cc-f3f3-4373-f5ae-ed39108455f6"
      },
      "execution_count": 5,
      "outputs": [
        {
          "output_type": "execute_result",
          "data": {
            "text/plain": [
              "[2, 3, 5]"
            ]
          },
          "metadata": {},
          "execution_count": 5
        }
      ]
    },
    {
      "cell_type": "code",
      "source": [
        "# Latihan 6 List 2 Dimensi\n",
        "\n",
        "# Mencetak elemen list 2 dimensi dengan index tertentu\n",
        "angka_03[0][2]\n",
        "\n",
        "# [0] diatas menunjukkan pada list pertama dalam list \"angka_03\", maka artinya ada di [2,4,6,8]\n",
        "# [2] diatas merujuk pada elemen ketiga dalam list\n",
        "# Atau dapat disimpulkan jika ada perintah angka_03[a][b], maka [a] disana menyatakan baris dan [b] menyatakan kolom\n",
        "# Artinya kita meminta elemen yang terletak di baris pertama dan kolom ketiga\n",
        "# Karena baris pertama adalah [2,4,6,8] dan kolom ketiga pada baris itu adalah itu adalah 6, maka outputnya pasti 6"
      ],
      "metadata": {
        "colab": {
          "base_uri": "https://localhost:8080/"
        },
        "id": "9glvbSQPG4Yq",
        "outputId": "8e924020-e597-4a20-a3f1-85682e8d1800"
      },
      "execution_count": 6,
      "outputs": [
        {
          "output_type": "execute_result",
          "data": {
            "text/plain": [
              "6"
            ]
          },
          "metadata": {},
          "execution_count": 6
        }
      ]
    },
    {
      "cell_type": "code",
      "source": [
        "# Latihan 7 List 2 Dimensi\n",
        "\n",
        "# Mengubah elemen list 2 dimensi di index tertentu\n",
        "angka_03[0][3]=75            # Disini kita meminta untuk mengubah/mengganti baris pertama kolom ke empat dengan 4\n",
        "print(angka_03[0][3])\n",
        "\n",
        "angka_03\n",
        "# Terlihat di output bahwa sebelumnya elemen di baris pertama kolom ke empat adalah 8, namun sekarang telah berubah menjadi 75"
      ],
      "metadata": {
        "colab": {
          "base_uri": "https://localhost:8080/"
        },
        "id": "HO5fmvu1HjPo",
        "outputId": "b87f153b-0c8d-42f0-e261-62abff072d40"
      },
      "execution_count": 7,
      "outputs": [
        {
          "output_type": "stream",
          "name": "stdout",
          "text": [
            "75\n"
          ]
        },
        {
          "output_type": "execute_result",
          "data": {
            "text/plain": [
              "[[2, 4, 6, 75], [1, 3, 5, 7], [2, 3, 5], [1, 1, 3]]"
            ]
          },
          "metadata": {},
          "execution_count": 7
        }
      ]
    },
    {
      "cell_type": "code",
      "source": [
        "# Latihan 8 List 2 Dimensi\n",
        "\n",
        "# Mengubah elemen list 2 dimensi di index tertentu\n",
        "angka_03[-2][2]=12         # Disini kita meminta untuk mengubah baris kedua terakhir dan kolom ketiganya dengan 5\n",
        "print(angka_03[-1][2])\n",
        "\n",
        "angka_03\n",
        "# Terlihat di output bahwa sebelumnya elemen di baris kedua terakhir kolom ketiganya adalah 5, namun sekarang telah berubah menjadi 12"
      ],
      "metadata": {
        "colab": {
          "base_uri": "https://localhost:8080/"
        },
        "id": "nQwZ2C6NNx8m",
        "outputId": "73cd15fa-e504-4852-e44d-9854c006ee7e"
      },
      "execution_count": 8,
      "outputs": [
        {
          "output_type": "stream",
          "name": "stdout",
          "text": [
            "3\n"
          ]
        },
        {
          "output_type": "execute_result",
          "data": {
            "text/plain": [
              "[[2, 4, 6, 75], [1, 3, 5, 7], [2, 3, 12], [1, 1, 3]]"
            ]
          },
          "metadata": {},
          "execution_count": 8
        }
      ]
    },
    {
      "cell_type": "code",
      "source": [
        "# Latihan 9 List 2 Dimensi\n",
        "\n",
        "# Mengubah elemen list 2 dimensi di index tertentu\n",
        "angka_03[2][3]= 250            # Disini kita meminta untuk mengubah baris ketiga kolom ke empat dengan 4\n",
        "print(angka_03[2][3])\n",
        "\n",
        "angka_03\n",
        "\n",
        "# Akan terjadi error karena index yang kita minta tidak berada di dalam range \n",
        "# Baris ketiga hanya sampai 3 kolom, sementara kita meminta untuk mengubah elemen di kolom ke empat"
      ],
      "metadata": {
        "colab": {
          "base_uri": "https://localhost:8080/",
          "height": 246
        },
        "id": "ePWgqUXmL-Ka",
        "outputId": "bc6bd100-cbfb-4fb8-b941-164b336322aa"
      },
      "execution_count": 9,
      "outputs": [
        {
          "output_type": "error",
          "ename": "IndexError",
          "evalue": "ignored",
          "traceback": [
            "\u001b[0;31m---------------------------------------------------------------------------\u001b[0m",
            "\u001b[0;31mIndexError\u001b[0m                                Traceback (most recent call last)",
            "\u001b[0;32m<ipython-input-9-fcaabfe48b36>\u001b[0m in \u001b[0;36m<cell line: 4>\u001b[0;34m()\u001b[0m\n\u001b[1;32m      2\u001b[0m \u001b[0;34m\u001b[0m\u001b[0m\n\u001b[1;32m      3\u001b[0m \u001b[0;31m# Mengubah elemen list 2 dimensi di index tertentu\u001b[0m\u001b[0;34m\u001b[0m\u001b[0;34m\u001b[0m\u001b[0m\n\u001b[0;32m----> 4\u001b[0;31m \u001b[0mangka_03\u001b[0m\u001b[0;34m[\u001b[0m\u001b[0;36m2\u001b[0m\u001b[0;34m]\u001b[0m\u001b[0;34m[\u001b[0m\u001b[0;36m3\u001b[0m\u001b[0;34m]\u001b[0m\u001b[0;34m=\u001b[0m \u001b[0;36m250\u001b[0m            \u001b[0;31m# Disini kita meminta untuk mengubah baris ketiga kolom ke empat dengan 4\u001b[0m\u001b[0;34m\u001b[0m\u001b[0;34m\u001b[0m\u001b[0m\n\u001b[0m\u001b[1;32m      5\u001b[0m \u001b[0mprint\u001b[0m\u001b[0;34m(\u001b[0m\u001b[0mangka_03\u001b[0m\u001b[0;34m[\u001b[0m\u001b[0;36m2\u001b[0m\u001b[0;34m]\u001b[0m\u001b[0;34m[\u001b[0m\u001b[0;36m3\u001b[0m\u001b[0;34m]\u001b[0m\u001b[0;34m)\u001b[0m\u001b[0;34m\u001b[0m\u001b[0;34m\u001b[0m\u001b[0m\n\u001b[1;32m      6\u001b[0m \u001b[0;34m\u001b[0m\u001b[0m\n",
            "\u001b[0;31mIndexError\u001b[0m: list assignment index out of range"
          ]
        }
      ]
    },
    {
      "cell_type": "markdown",
      "source": [
        "# **5.17 Tuples**\n",
        "\n",
        "---"
      ],
      "metadata": {
        "id": "rNgWVbmoOQU2"
      }
    },
    {
      "cell_type": "markdown",
      "source": [
        "Tuples adalah tipe data dalam Python yang mirip dengan List. Namun, tuples bersifat immutabel, yaitu tidak dapat diubah setelah dibuat."
      ],
      "metadata": {
        "id": "mv6DXHpqOl9k"
      }
    },
    {
      "cell_type": "code",
      "source": [
        "# Latihan 1 Tuples\n",
        "# Mendefinisikan sebuah variabel pada tuples\n",
        "buah_03 = (\"apel\", \"anggur\", \"ceri\", \"duku\", \"durian\", \"stroberi\")\n",
        "\n",
        "# Jika elemen dari tuples adalah sebuah karakter/kata maka harus digunakan tanda petik baik petik dua ataupun petik satu\n",
        "# Karena jika tidak, maka tidak terdefinisikan\n",
        "# Sebab Python menganggap bahwa karakter/kata yang ditulis tanpa tanda petik adalah keyword dari bahasa pemrograman"
      ],
      "metadata": {
        "id": "vLWZSbokUUel"
      },
      "execution_count": 10,
      "outputs": []
    },
    {
      "cell_type": "code",
      "source": [
        "# Kita coba\n",
        "buah_03 = (apel, anggur, ceri, duku, durian, stroberi)\n",
        "\n",
        "# Benar hasilnya error"
      ],
      "metadata": {
        "colab": {
          "base_uri": "https://localhost:8080/",
          "height": 227
        },
        "id": "bSF6wo5yaYV6",
        "outputId": "c4d80057-2218-4384-92ba-ceca37be53f8"
      },
      "execution_count": 11,
      "outputs": [
        {
          "output_type": "error",
          "ename": "NameError",
          "evalue": "ignored",
          "traceback": [
            "\u001b[0;31m---------------------------------------------------------------------------\u001b[0m",
            "\u001b[0;31mNameError\u001b[0m                                 Traceback (most recent call last)",
            "\u001b[0;32m<ipython-input-11-f6bbcee0507c>\u001b[0m in \u001b[0;36m<cell line: 2>\u001b[0;34m()\u001b[0m\n\u001b[1;32m      1\u001b[0m \u001b[0;31m# Kita coba\u001b[0m\u001b[0;34m\u001b[0m\u001b[0;34m\u001b[0m\u001b[0m\n\u001b[0;32m----> 2\u001b[0;31m \u001b[0mbuah_03\u001b[0m \u001b[0;34m=\u001b[0m \u001b[0;34m(\u001b[0m\u001b[0mapel\u001b[0m\u001b[0;34m,\u001b[0m \u001b[0manggur\u001b[0m\u001b[0;34m,\u001b[0m \u001b[0mceri\u001b[0m\u001b[0;34m,\u001b[0m \u001b[0mduku\u001b[0m\u001b[0;34m,\u001b[0m \u001b[0mdurian\u001b[0m\u001b[0;34m,\u001b[0m \u001b[0mstroberi\u001b[0m\u001b[0;34m)\u001b[0m\u001b[0;34m\u001b[0m\u001b[0;34m\u001b[0m\u001b[0m\n\u001b[0m\u001b[1;32m      3\u001b[0m \u001b[0;34m\u001b[0m\u001b[0m\n\u001b[1;32m      4\u001b[0m \u001b[0;31m# Benar hasilnya error\u001b[0m\u001b[0;34m\u001b[0m\u001b[0;34m\u001b[0m\u001b[0m\n",
            "\u001b[0;31mNameError\u001b[0m: name 'apel' is not defined"
          ]
        }
      ]
    },
    {
      "cell_type": "code",
      "source": [
        "# Bandingkan dengan ini\n",
        "angka_03 = (1,4,7,10,13,16)\n",
        "\n",
        "# Jika elemennya berupa bilangan/angka, tidak diperlukan tanda petik karena Python sudah membacanya sebagai konstanta numerik"
      ],
      "metadata": {
        "id": "PZ0WoTPmaiGO"
      },
      "execution_count": 12,
      "outputs": []
    },
    {
      "cell_type": "code",
      "source": [
        "# Latihan 2 Tuples\n",
        "\n",
        "# Mencetak elemen tuples dengan index tertentu\n",
        "print(buah_03[3])         \n",
        "\n",
        "# Disini kita meminta index[3] artinya kita meminta elemen yang terletak di urutan ke empat\n",
        "# Ingat kembali urutan menghitung dalam index!"
      ],
      "metadata": {
        "colab": {
          "base_uri": "https://localhost:8080/"
        },
        "id": "DXzLcwmrUren",
        "outputId": "c9609bf9-9e84-4559-ae02-0cdda090ff15"
      },
      "execution_count": 13,
      "outputs": [
        {
          "output_type": "stream",
          "name": "stdout",
          "text": [
            "duku\n"
          ]
        }
      ]
    },
    {
      "cell_type": "code",
      "source": [
        "# Latihan 3 Tuples\n",
        "\n",
        "# Mencetak elemen tuples dengan index tertentu\n",
        "print(buah_03[1:3])           \n",
        "# Disini kita meminta untuk mencetak elemen yang terletak di urutan kedua sampai keempat\n",
        "# Ingat kembali bahwa pada index jika ada perintah print(x[a:b]) maka elemen yang diminta ada di urutan a+1 dan (b+1)-1\n",
        "# Secara singkatnya elemen terakhir dari interval index tidak ikut ditampilkan\n",
        "# Pada perintah di atas kita meminta elemen di urutan kedua sampai urutan keempat\n",
        "# namun outputnya hanya akan elemen urutan kedua sampai ketiga, yaitu \"anggur\" dan \"ceri\"\n",
        "\n",
        "print(\"\\n Bandingkan dengan output dibawah ini \\n\")\n",
        "\n",
        "# Mencetak elemen tuples dengan index tertentu\n",
        "print(buah_03[1:2])\n",
        "# Disini kita meminta untuk mencetak elemen yang terletak di urutan kedua sampai ketiga\n",
        "# Namun, yang akan menjadi output hanya elemen di urutan kedua saja karena ketiga tidak ikut ditampilkan\n",
        "# Maka outputnya adalah \"anggur\" dan kosong"
      ],
      "metadata": {
        "colab": {
          "base_uri": "https://localhost:8080/"
        },
        "id": "mnmm9f4rVuuI",
        "outputId": "7630c667-01b7-4164-83b1-674b2e3c6a3e"
      },
      "execution_count": 14,
      "outputs": [
        {
          "output_type": "stream",
          "name": "stdout",
          "text": [
            "('anggur', 'ceri')\n",
            "\n",
            " Bandingkan dengan output dibawah ini \n",
            "\n",
            "('anggur',)\n"
          ]
        }
      ]
    },
    {
      "cell_type": "code",
      "source": [
        "# Latihan 4 Tuples\n",
        "\n",
        "for isi in buah_03[0:3]:\n",
        "  print(isi)\n",
        "\n",
        "# Kita meminta elemen di urutan pertama sampai keempat\n",
        "# Namun outputnya hanya akan mencetak elemen urutan pertama sampai ketiga\n",
        "# Dapat dilihat output disini berbeda dengan output di atas, disini outputnya berurut ke bawah (vertikal)"
      ],
      "metadata": {
        "colab": {
          "base_uri": "https://localhost:8080/"
        },
        "id": "suQT3paNU7ll",
        "outputId": "75db91a4-6b74-464b-dcc9-568da0d1aa0a"
      },
      "execution_count": 15,
      "outputs": [
        {
          "output_type": "stream",
          "name": "stdout",
          "text": [
            "apel\n",
            "anggur\n",
            "ceri\n"
          ]
        }
      ]
    },
    {
      "cell_type": "code",
      "source": [
        "# Latihan 5 Tuples\n",
        "\n",
        "# Mencetak elemen dari tuples dengan index tertentu\n",
        "buah_03[2]        # Disini kita meninta index[2] artinya elemen di urutan ketiga, maka outputnya pasti \"ceri\"\n",
        "buah_03[-3]       # Disini kita meminta index[-3] artinya elemen ketiga terakhir, maka outputnya pasti \"duku\"\n",
        "\n",
        "# Ingat! jika index dihitung dari depan maka urutan awalnya dimulai dari 0\n",
        "# Jika dari belakang maka menggunakan bilangan negatif dimulai dari -1\n",
        "\n",
        "# Hasilnya hanya output dari perintah buah_03[-3]\n",
        "# Hal ini terjadi karena tidak ada perintah print, sehingga python menjalankan perintah terakhir yang diminta"
      ],
      "metadata": {
        "colab": {
          "base_uri": "https://localhost:8080/",
          "height": 36
        },
        "id": "EhA5jlVRYJ4G",
        "outputId": "3fcca4a3-2d52-4ade-91e8-94687c96ebe1"
      },
      "execution_count": 16,
      "outputs": [
        {
          "output_type": "execute_result",
          "data": {
            "text/plain": [
              "'duku'"
            ],
            "application/vnd.google.colaboratory.intrinsic+json": {
              "type": "string"
            }
          },
          "metadata": {},
          "execution_count": 16
        }
      ]
    },
    {
      "cell_type": "code",
      "source": [
        "# Akan kita pisahkan\n",
        "buah_03[2]\n",
        "\n",
        "# Outputnya pasti adalah \"ceri\""
      ],
      "metadata": {
        "colab": {
          "base_uri": "https://localhost:8080/",
          "height": 36
        },
        "id": "MKD8GFQDZZq_",
        "outputId": "3cca0afa-fd91-4e5e-e4ee-8d1894de1d77"
      },
      "execution_count": 17,
      "outputs": [
        {
          "output_type": "execute_result",
          "data": {
            "text/plain": [
              "'ceri'"
            ],
            "application/vnd.google.colaboratory.intrinsic+json": {
              "type": "string"
            }
          },
          "metadata": {},
          "execution_count": 17
        }
      ]
    },
    {
      "cell_type": "code",
      "source": [
        "# Latihan 6 Tuples\n",
        "\n",
        "# Mencetak elemen tuples dengan index tertentu\n",
        "buah_03[6]\n",
        "\n",
        "# Outputnya akan error karena kita meminta elemen di urutan ke 7, sementara data kita hanya sebanyak 6\n",
        "# Index keluar dari range!"
      ],
      "metadata": {
        "colab": {
          "base_uri": "https://localhost:8080/",
          "height": 246
        },
        "id": "NLlrlwzRZzaR",
        "outputId": "e64d9fcb-dc86-4639-82f8-4a636e76301e"
      },
      "execution_count": 18,
      "outputs": [
        {
          "output_type": "error",
          "ename": "IndexError",
          "evalue": "ignored",
          "traceback": [
            "\u001b[0;31m---------------------------------------------------------------------------\u001b[0m",
            "\u001b[0;31mIndexError\u001b[0m                                Traceback (most recent call last)",
            "\u001b[0;32m<ipython-input-18-1711aaff9bef>\u001b[0m in \u001b[0;36m<cell line: 4>\u001b[0;34m()\u001b[0m\n\u001b[1;32m      2\u001b[0m \u001b[0;34m\u001b[0m\u001b[0m\n\u001b[1;32m      3\u001b[0m \u001b[0;31m# Mencetak elemen tuples dengan index tertentu\u001b[0m\u001b[0;34m\u001b[0m\u001b[0;34m\u001b[0m\u001b[0m\n\u001b[0;32m----> 4\u001b[0;31m \u001b[0mbuah_03\u001b[0m\u001b[0;34m[\u001b[0m\u001b[0;36m6\u001b[0m\u001b[0;34m]\u001b[0m\u001b[0;34m\u001b[0m\u001b[0;34m\u001b[0m\u001b[0m\n\u001b[0m\u001b[1;32m      5\u001b[0m \u001b[0;34m\u001b[0m\u001b[0m\n\u001b[1;32m      6\u001b[0m \u001b[0;31m# Outputnya akan error karena kita meminta elemen di urutan ke 7, sementara data kita hanya sebanyak 6\u001b[0m\u001b[0;34m\u001b[0m\u001b[0;34m\u001b[0m\u001b[0m\n",
            "\u001b[0;31mIndexError\u001b[0m: tuple index out of range"
          ]
        }
      ]
    },
    {
      "cell_type": "code",
      "source": [
        "# Latihan 7 Tuples\n",
        "\n",
        "# Menambahkan suatu elemen di urutan paling belakang/akhir di tuples\n",
        "buah_03.append(\"semangka\")\n",
        "\n",
        "# Terjadi error!\n",
        "# Karena tuples adalah tipe data yang tidak dapat diubah ketika sudah dibuat"
      ],
      "metadata": {
        "colab": {
          "base_uri": "https://localhost:8080/",
          "height": 246
        },
        "id": "3E2XhBnYYeVi",
        "outputId": "5bc2ab29-f2d8-4fa4-a5ef-0fc0c9100d2a"
      },
      "execution_count": 19,
      "outputs": [
        {
          "output_type": "error",
          "ename": "AttributeError",
          "evalue": "ignored",
          "traceback": [
            "\u001b[0;31m---------------------------------------------------------------------------\u001b[0m",
            "\u001b[0;31mAttributeError\u001b[0m                            Traceback (most recent call last)",
            "\u001b[0;32m<ipython-input-19-b173253ad2f5>\u001b[0m in \u001b[0;36m<cell line: 4>\u001b[0;34m()\u001b[0m\n\u001b[1;32m      2\u001b[0m \u001b[0;34m\u001b[0m\u001b[0m\n\u001b[1;32m      3\u001b[0m \u001b[0;31m# Menambahkan suatu elemen di urutan paling belakang/akhir di tuples\u001b[0m\u001b[0;34m\u001b[0m\u001b[0;34m\u001b[0m\u001b[0m\n\u001b[0;32m----> 4\u001b[0;31m \u001b[0mbuah_03\u001b[0m\u001b[0;34m.\u001b[0m\u001b[0mappend\u001b[0m\u001b[0;34m(\u001b[0m\u001b[0;34m\"semangka\"\u001b[0m\u001b[0;34m)\u001b[0m\u001b[0;34m\u001b[0m\u001b[0;34m\u001b[0m\u001b[0m\n\u001b[0m\u001b[1;32m      5\u001b[0m \u001b[0;34m\u001b[0m\u001b[0m\n\u001b[1;32m      6\u001b[0m \u001b[0;31m# Terjadi error!\u001b[0m\u001b[0;34m\u001b[0m\u001b[0;34m\u001b[0m\u001b[0m\n",
            "\u001b[0;31mAttributeError\u001b[0m: 'tuple' object has no attribute 'append'"
          ]
        }
      ]
    },
    {
      "cell_type": "code",
      "source": [
        "# Latihan 8 Tuples\n",
        "\n",
        "# Menghapus suatu elemen dari tuples\n",
        "buah_03.remove(\"anggur\")\n",
        "\n",
        "# Terjadi error!\n",
        "# Karena tuples adalah tipe data yang tidak dapat diubah ketika sudah dibuat"
      ],
      "metadata": {
        "colab": {
          "base_uri": "https://localhost:8080/",
          "height": 246
        },
        "id": "0K1XylyaYiqr",
        "outputId": "4cf016c3-5ae3-444b-b526-bfe4889dabf6"
      },
      "execution_count": 20,
      "outputs": [
        {
          "output_type": "error",
          "ename": "AttributeError",
          "evalue": "ignored",
          "traceback": [
            "\u001b[0;31m---------------------------------------------------------------------------\u001b[0m",
            "\u001b[0;31mAttributeError\u001b[0m                            Traceback (most recent call last)",
            "\u001b[0;32m<ipython-input-20-eb1a844c4393>\u001b[0m in \u001b[0;36m<cell line: 4>\u001b[0;34m()\u001b[0m\n\u001b[1;32m      2\u001b[0m \u001b[0;34m\u001b[0m\u001b[0m\n\u001b[1;32m      3\u001b[0m \u001b[0;31m# Menghapus suatu elemen dari tuples\u001b[0m\u001b[0;34m\u001b[0m\u001b[0;34m\u001b[0m\u001b[0m\n\u001b[0;32m----> 4\u001b[0;31m \u001b[0mbuah_03\u001b[0m\u001b[0;34m.\u001b[0m\u001b[0mremove\u001b[0m\u001b[0;34m(\u001b[0m\u001b[0;34m\"anggur\"\u001b[0m\u001b[0;34m)\u001b[0m\u001b[0;34m\u001b[0m\u001b[0;34m\u001b[0m\u001b[0m\n\u001b[0m\u001b[1;32m      5\u001b[0m \u001b[0;34m\u001b[0m\u001b[0m\n\u001b[1;32m      6\u001b[0m \u001b[0;31m# Terjadi error!\u001b[0m\u001b[0;34m\u001b[0m\u001b[0;34m\u001b[0m\u001b[0m\n",
            "\u001b[0;31mAttributeError\u001b[0m: 'tuple' object has no attribute 'remove'"
          ]
        }
      ]
    },
    {
      "cell_type": "code",
      "source": [
        "# Latihan 9 Tuples\n",
        "\n",
        "# Menghitung banyak suatu elemen tuple\n",
        "buah_03.count(\"duku\")\n",
        "\n",
        "# Outputnya pasti 1 karena \"duku\" pada tuple hanya ada 1"
      ],
      "metadata": {
        "colab": {
          "base_uri": "https://localhost:8080/"
        },
        "id": "6HPwDi3Ibvm6",
        "outputId": "8d136382-44c2-4670-d8bb-81d28b8c2c0c"
      },
      "execution_count": 21,
      "outputs": [
        {
          "output_type": "execute_result",
          "data": {
            "text/plain": [
              "1"
            ]
          },
          "metadata": {},
          "execution_count": 21
        }
      ]
    },
    {
      "cell_type": "code",
      "source": [
        "# Latihan 10 Tuples\n",
        "\n",
        "# Mencari letak atau posisi (index) suatu elemen tuples\n",
        "buah_03.index(\"stroberi\")     # Kita mencari index \"stroberi\" pada tuples, maka outputnya pasti 5, karena \"stroberi\" terletak di urutan ke enam"
      ],
      "metadata": {
        "colab": {
          "base_uri": "https://localhost:8080/"
        },
        "id": "_X_gszkMcFIY",
        "outputId": "7c9af4cf-037d-4fd9-f353-7e1f5a44af98"
      },
      "execution_count": 22,
      "outputs": [
        {
          "output_type": "execute_result",
          "data": {
            "text/plain": [
              "5"
            ]
          },
          "metadata": {},
          "execution_count": 22
        }
      ]
    },
    {
      "cell_type": "markdown",
      "source": [
        "# **5.18 Dictionaries**\n",
        "\n",
        "---"
      ],
      "metadata": {
        "id": "5LAisel9it4J"
      }
    },
    {
      "cell_type": "markdown",
      "source": [
        "Dictionaries adlaah struktur data yang memungkinkan pengguna untuk menyimpan dan mengakses data dalam bentuk pasangan \"key-value\" (terikat satu sama lain)"
      ],
      "metadata": {
        "id": "AHEizj75jsYr"
      }
    },
    {
      "cell_type": "code",
      "source": [
        "# Latihan 1 Dictionaries\n",
        "\n",
        "# Mendefinisikan sebuah variabel\n",
        "data_orang_03 = {\n",
        "    \"nama_03\"         : \"Naftalia\",\n",
        "    \"nim_03\"          : \"2208541003\",\n",
        "    \"kelas_03\"        : \"A\",\n",
        "    \"mata_kuliah_03\"  : \"Algoritma dan Struktur Data\",\n",
        "    \"apakah_mahasiswa\": True\n",
        "}"
      ],
      "metadata": {
        "id": "nzB6a9xCjrwe"
      },
      "execution_count": 23,
      "outputs": []
    },
    {
      "cell_type": "code",
      "source": [
        "# Latihan 1 Dictionaries\n",
        "\n",
        "# Mendefinisikan sebuah variabel\n",
        "data_orang_03 = \n",
        "    \"nama_03\"         : \"Naftalia\",\n",
        "    \"nim_03\"          : \"2208541003\",\n",
        "    \"kelas_03\"        : \"A\",\n",
        "    \"mata_kuliah_03\"  : \"Algoritma dan Struktur Data\",\n",
        "    \"apakah_mahasiswa\": True\n",
        "\n",
        "# Mengapa error ya?\n",
        "# Sama seperti list 2 dimensi\n",
        "# Tanda kurung kurawal \"{}\" pada dictionaries digunakan untuk menunjukkan bahwa elemen didalamnya adalah key-value atau saling terikat\n",
        "# Outputnya akan error ketika tidak menggunakan tanda kurung kurawal \"{}\" pada dictionaries\n",
        "# Karena struktur datanya tidak dikenali sebagai key-value, melainkan hanya sebagai objek biasa\n",
        "# Sehingga invalid syntax karena disebelah tanda \"=\" tidak terdefinisi nilai apapun untuk variabel"
      ],
      "metadata": {
        "colab": {
          "base_uri": "https://localhost:8080/",
          "height": 135
        },
        "id": "G1yGXPBik5nk",
        "outputId": "0771c983-5374-46d9-d980-aee8c459f147"
      },
      "execution_count": 24,
      "outputs": [
        {
          "output_type": "error",
          "ename": "SyntaxError",
          "evalue": "ignored",
          "traceback": [
            "\u001b[0;36m  File \u001b[0;32m\"<ipython-input-24-1dd6bde5f496>\"\u001b[0;36m, line \u001b[0;32m4\u001b[0m\n\u001b[0;31m    data_orang_03 =\u001b[0m\n\u001b[0m                    ^\u001b[0m\n\u001b[0;31mSyntaxError\u001b[0m\u001b[0;31m:\u001b[0m invalid syntax\n"
          ]
        }
      ]
    },
    {
      "cell_type": "code",
      "source": [
        "# Mendefinisikan sebuah variabel\n",
        "data_orang_03 = {\n",
        "    \"nama_03\"         : \"Naftalia\"\n",
        "    \"nim_03\"          : \"2208541003\"\n",
        "    \"kelas_03\"        : \"A\"\n",
        "    \"mata_kuliah_03\"  : \"Algoritma dan Struktur Data\"\n",
        "    \"apakah_mahasiswa\": True\n",
        "}\n",
        "\n",
        "# Error lagi\n",
        "# Ini terjadi karena tidak ada tanda koma \",\" yang memisahkan setiap pasangan key-value\n",
        "# Padahal key-value harus dipisahkan agar program dapat membedakan antara satu pasnagan dengan yang lainnya\n",
        "# Jika tidak ada koma, maka program menganggap semua elemen dalam dictionaries adalah satu kesatuan sehingga akan menghasilkan error\n",
        "\n",
        "# Jadi jangan lupa untuk menggunakan tanda kurung kurawal \"{}\" dan tanda koma \",\""
      ],
      "metadata": {
        "colab": {
          "base_uri": "https://localhost:8080/",
          "height": 135
        },
        "id": "zGxR0J4llPJR",
        "outputId": "3d7381a7-498c-4867-db53-3f35ccb281f3"
      },
      "execution_count": 25,
      "outputs": [
        {
          "output_type": "error",
          "ename": "SyntaxError",
          "evalue": "ignored",
          "traceback": [
            "\u001b[0;36m  File \u001b[0;32m\"<ipython-input-25-2ca4393a2f5a>\"\u001b[0;36m, line \u001b[0;32m4\u001b[0m\n\u001b[0;31m    \"nim_03\"          : \"2208541003\"\u001b[0m\n\u001b[0m                      ^\u001b[0m\n\u001b[0;31mSyntaxError\u001b[0m\u001b[0;31m:\u001b[0m invalid syntax\n"
          ]
        }
      ]
    },
    {
      "cell_type": "code",
      "source": [
        "# Latihan 2 Dictionaries\n",
        "\n",
        "# Mencetak value dari sebuah key\n",
        "print(data_orang_03[\"nim_03\"])    # Disini kita meminta untuk mencetak nilai dari nim_03"
      ],
      "metadata": {
        "colab": {
          "base_uri": "https://localhost:8080/"
        },
        "id": "n6_iaP65m5Ry",
        "outputId": "643bc0df-bfff-4c6a-c896-18a458afce29"
      },
      "execution_count": 26,
      "outputs": [
        {
          "output_type": "stream",
          "name": "stdout",
          "text": [
            "2208541003\n"
          ]
        }
      ]
    },
    {
      "cell_type": "code",
      "source": [
        "# Latihan 3 Dictionaries\n",
        "\n",
        "# Mencetak value dari sebuah key\n",
        "print(data_orang_03[\"NIM_03\"])\n",
        "\n",
        "# Outputnya akan error karena Python sensitif terhadap penggunaan huruf kapital dan huruf kecil\n",
        "# Pada dictionaries tidak ada \"NIM_03\" yang ada ialah \"nim_03\"    (perhatikan penggunaan huruf kapitaldan huruf kecil)"
      ],
      "metadata": {
        "colab": {
          "base_uri": "https://localhost:8080/",
          "height": 246
        },
        "id": "0-NPzF9CmLwA",
        "outputId": "09ecab12-8f92-45e3-c229-2b2338442ac5"
      },
      "execution_count": 29,
      "outputs": [
        {
          "output_type": "error",
          "ename": "KeyError",
          "evalue": "ignored",
          "traceback": [
            "\u001b[0;31m---------------------------------------------------------------------------\u001b[0m",
            "\u001b[0;31mKeyError\u001b[0m                                  Traceback (most recent call last)",
            "\u001b[0;32m<ipython-input-29-6435c243d9e2>\u001b[0m in \u001b[0;36m<cell line: 4>\u001b[0;34m()\u001b[0m\n\u001b[1;32m      2\u001b[0m \u001b[0;34m\u001b[0m\u001b[0m\n\u001b[1;32m      3\u001b[0m \u001b[0;31m# Mencetak value dari sebuah key\u001b[0m\u001b[0;34m\u001b[0m\u001b[0;34m\u001b[0m\u001b[0m\n\u001b[0;32m----> 4\u001b[0;31m \u001b[0mprint\u001b[0m\u001b[0;34m(\u001b[0m\u001b[0mdata_orang_03\u001b[0m\u001b[0;34m[\u001b[0m\u001b[0;34m\"NIM_03\"\u001b[0m\u001b[0;34m]\u001b[0m\u001b[0;34m)\u001b[0m\u001b[0;34m\u001b[0m\u001b[0;34m\u001b[0m\u001b[0m\n\u001b[0m\u001b[1;32m      5\u001b[0m \u001b[0;34m\u001b[0m\u001b[0m\n\u001b[1;32m      6\u001b[0m \u001b[0;31m# Outputnya akan error karena Python sensitif terhadap penggunaan huruf kapital dan huruf kecil\u001b[0m\u001b[0;34m\u001b[0m\u001b[0;34m\u001b[0m\u001b[0m\n",
            "\u001b[0;31mKeyError\u001b[0m: 'NIM_03'"
          ]
        }
      ]
    },
    {
      "cell_type": "code",
      "source": [
        "# Latihan 4 Dictionaries\n",
        "\n",
        "# Menggunakan dictionaries.get(x) untuk mnencetak nilai(value) dari sebuah key\n",
        "\n",
        "print(data_orang_03.get(\"Nama_03\"))\n",
        "# Disini \"Nama\" tidak ada dalam dictionaries, maka hasilnya akan \"None\"\n",
        "\n",
        "print(data_orang_03.get(\"nama_03\"))\n",
        "# \"nama_03\" akan terdefinisi, karena berada di dictionaries. Maka outputnya pasti \"Naftalia\" karena nilai dari \"nama_03\" adalah \"Naftalia\"\n",
        "\n",
        "\n",
        "# Ingat kesensitifan Python terhadap huruf kapital dan huruf kecil"
      ],
      "metadata": {
        "colab": {
          "base_uri": "https://localhost:8080/"
        },
        "id": "Q2JGU1iRn9P4",
        "outputId": "014bf6fc-dc71-4f75-b7a6-2e109e7b0674"
      },
      "execution_count": 30,
      "outputs": [
        {
          "output_type": "stream",
          "name": "stdout",
          "text": [
            "None\n",
            "Naftalia\n"
          ]
        }
      ]
    },
    {
      "cell_type": "code",
      "source": [
        "# Latihan 5 Dictionaries\n",
        "\n",
        "# Mencetak nilai(value) dari suatu key pada dictionaries\n",
        "print(data_orang_03.get(\"kelas_03\"))"
      ],
      "metadata": {
        "colab": {
          "base_uri": "https://localhost:8080/"
        },
        "id": "qTmm0EAspFog",
        "outputId": "91e1e653-bacd-4f10-cde6-f0c9c56029c4"
      },
      "execution_count": 31,
      "outputs": [
        {
          "output_type": "stream",
          "name": "stdout",
          "text": [
            "A\n"
          ]
        }
      ]
    },
    {
      "cell_type": "code",
      "source": [
        "# Latihan 6 Dictionaries\n",
        "\n",
        "# Mencetak nilai(value) dari suatu key pada dictionaries\n",
        "print(data_orang_03.get(\"kelas_03\", \"C\"))\n",
        "\n",
        "# Tidak akan terjadi perubahan apa-apa, karena perintah print(dictionaries.get(x)) hanya mencetak nilai (value) dari \"kelas_03\" atau \"C\"\n",
        "# \"C\" bukanlah key pada dictionaries, sehingga nilai(value) dari \"C\" tidak ada, maka yang dicetak hanyalah value dari \"kelas_03\""
      ],
      "metadata": {
        "colab": {
          "base_uri": "https://localhost:8080/"
        },
        "id": "C-eZEdTonjfD",
        "outputId": "0df1323c-c862-42de-cf06-d271682f77d1"
      },
      "execution_count": 32,
      "outputs": [
        {
          "output_type": "stream",
          "name": "stdout",
          "text": [
            "A\n"
          ]
        }
      ]
    },
    {
      "cell_type": "code",
      "source": [
        "# Latihan 7 Dictionaries\n",
        "\n",
        "# Mencetak seluruh dictionaries\n",
        "print(data_orang_03)"
      ],
      "metadata": {
        "colab": {
          "base_uri": "https://localhost:8080/"
        },
        "id": "Qs-R9N8jp4Jm",
        "outputId": "7e390717-bfa1-4ca0-831e-243b474fc8d4"
      },
      "execution_count": 33,
      "outputs": [
        {
          "output_type": "stream",
          "name": "stdout",
          "text": [
            "{'nama_03': 'Naftalia', 'nim_03': '2208541003', 'kelas_03': 'A', 'mata_kuliah_03': 'Algoritma dan Struktur Data', 'apakah_mahasiswa': True}\n"
          ]
        }
      ]
    },
    {
      "cell_type": "code",
      "source": [
        "# Latihan 8 Dictionaries\n",
        "\n",
        "# Mencetak nilai(value) dari suatu key pada dictionaries\n",
        "print(data_orang_03[\"nama_03\"])\n",
        "print(data_orang_03[\"nim_03\"])\n",
        "\n",
        "# Ketika memiliki output, outputnya memang akan sama dengan output dari \n",
        "# perintah print(data_orang_03.get(\"nama_03)) dan print(data_orang_03.get(\"nim_03\"))\n",
        "\n",
        "print(\"\\n\")\n",
        "\n",
        "print(data_orang_03[\"Nama_03\"])\n",
        "# Namun, ketika \"Nama_03\" tidak berada dalam dictionaries hasilnya bukanlah \"None\" seperti pada perintah print(data_orang_03.get(\"Nama_03))\n",
        "# Melainkan outputnya error"
      ],
      "metadata": {
        "colab": {
          "base_uri": "https://localhost:8080/",
          "height": 320
        },
        "id": "rKlAxyjjqB3L",
        "outputId": "cafa64a2-e182-41b7-a45c-affe4a043f35"
      },
      "execution_count": 34,
      "outputs": [
        {
          "output_type": "stream",
          "name": "stdout",
          "text": [
            "Naftalia\n",
            "2208541003\n",
            "\n",
            "\n"
          ]
        },
        {
          "output_type": "error",
          "ename": "KeyError",
          "evalue": "ignored",
          "traceback": [
            "\u001b[0;31m---------------------------------------------------------------------------\u001b[0m",
            "\u001b[0;31mKeyError\u001b[0m                                  Traceback (most recent call last)",
            "\u001b[0;32m<ipython-input-34-f5806a25badf>\u001b[0m in \u001b[0;36m<cell line: 12>\u001b[0;34m()\u001b[0m\n\u001b[1;32m     10\u001b[0m \u001b[0mprint\u001b[0m\u001b[0;34m(\u001b[0m\u001b[0;34m\"\\n\"\u001b[0m\u001b[0;34m)\u001b[0m\u001b[0;34m\u001b[0m\u001b[0;34m\u001b[0m\u001b[0m\n\u001b[1;32m     11\u001b[0m \u001b[0;34m\u001b[0m\u001b[0m\n\u001b[0;32m---> 12\u001b[0;31m \u001b[0mprint\u001b[0m\u001b[0;34m(\u001b[0m\u001b[0mdata_orang_03\u001b[0m\u001b[0;34m[\u001b[0m\u001b[0;34m\"Nama_03\"\u001b[0m\u001b[0;34m]\u001b[0m\u001b[0;34m)\u001b[0m\u001b[0;34m\u001b[0m\u001b[0;34m\u001b[0m\u001b[0m\n\u001b[0m\u001b[1;32m     13\u001b[0m \u001b[0;31m# Namun, ketika \"Nama_03\" tidak berada dalam dictionaries hasilnya bukanlah \"None\" seperti pada perintah print(data_orang_03.get(\"Nama_03))\u001b[0m\u001b[0;34m\u001b[0m\u001b[0;34m\u001b[0m\u001b[0m\n\u001b[1;32m     14\u001b[0m \u001b[0;31m# Melainkan outputnya error\u001b[0m\u001b[0;34m\u001b[0m\u001b[0;34m\u001b[0m\u001b[0m\n",
            "\u001b[0;31mKeyError\u001b[0m: 'Nama_03'"
          ]
        }
      ]
    },
    {
      "cell_type": "code",
      "source": [
        "# Latihan 9 Dictionaries\n",
        "\n",
        "# Menambahkan key dalam dictionaries\n",
        "data_orang_03[\"email_03\"] = \"naftaliasophiana@gmail.com\""
      ],
      "metadata": {
        "id": "Tv9MCqEr3_-A"
      },
      "execution_count": 35,
      "outputs": []
    },
    {
      "cell_type": "code",
      "source": [
        "# Latihan 10 Dictionaries \n",
        "\n",
        "# Mencetak nilai(value) dari key pada dictionary\n",
        "print(data_orang_03[\"email_03\"])"
      ],
      "metadata": {
        "colab": {
          "base_uri": "https://localhost:8080/"
        },
        "id": "a2m4NQyS5n0A",
        "outputId": "f724ac02-7251-4729-bb47-40cc36b22ab8"
      },
      "execution_count": 36,
      "outputs": [
        {
          "output_type": "stream",
          "name": "stdout",
          "text": [
            "naftaliasophiana@gmail.com\n"
          ]
        }
      ]
    },
    {
      "cell_type": "code",
      "source": [
        "# Latihan 11 Dictionaries\n",
        "\n",
        "# Mencetak dictionaries\n",
        "print(data_orang_03)\n",
        "\n",
        "# Outputnya akan menghasilkan seluruh key-value pada dictionaries\n",
        "# Dapat dilihat pada output bahwa elemen dictionariesnya bertambah, yaitu ada \"email_03\" : \"naftaliasophiana@gmail.com\"\n",
        "# Ini berarti Python akan selalu menyimpan output terakhir dan mengingatnya"
      ],
      "metadata": {
        "colab": {
          "base_uri": "https://localhost:8080/"
        },
        "id": "Mcwjf5AB5z8Q",
        "outputId": "0b7684ae-50e4-43ee-a0d3-cba17132f9a4"
      },
      "execution_count": 37,
      "outputs": [
        {
          "output_type": "stream",
          "name": "stdout",
          "text": [
            "{'nama_03': 'Naftalia', 'nim_03': '2208541003', 'kelas_03': 'A', 'mata_kuliah_03': 'Algoritma dan Struktur Data', 'apakah_mahasiswa': True, 'email_03': 'naftaliasophiana@gmail.com'}\n"
          ]
        }
      ]
    },
    {
      "cell_type": "markdown",
      "source": [
        "# **5.19 Fungsi dalam Python**\n",
        "\n",
        "---"
      ],
      "metadata": {
        "id": "DrnXGTUx7eBN"
      }
    },
    {
      "cell_type": "markdown",
      "source": [
        "Fungsi dalam Python adalah blok kode yang dirancang untuk menjalankan tugas tertentu. Kita sudah mempelajari beberapa fungsi dalam Python, antaralain input, print, len, range. "
      ],
      "metadata": {
        "id": "8GiXZ_Gx78T-"
      }
    },
    {
      "cell_type": "code",
      "source": [
        "# Latihan 1 Fungsi dalam Python\n",
        "\n",
        "# Inisialiasi fungsi \"waktu_tempuh_03\" yang membutuhkan jarak_03 dan kecepatan_03\n",
        "def waktu_tempuh_03(jarak_03, kecepatan_03):\n",
        "  # Di bawah ini adalah rumus waktu jika diketahui jarak dan kecepatannya\n",
        "  waktu_03 = jarak_03/kecepatan_03\n",
        "  return waktu_03\n",
        "  # Digunakan operator \"return\" untuk memanggil kembali variabel operasi fungsinya\n",
        "\n",
        "# Kita masukkan nilai jarak dan kecepatan\n",
        "# dengan variabel y untuk mendefinisikan waktu_tempuh_03 \n",
        "y = waktu_tempuh_03(75,80)\n",
        "\n",
        "print(\"Jarak dari A ke B sebesar 75 km ditempuh menggunakan mobil dengan kecepatan 80 km/jam\")\n",
        "print(\"Maka, mobil tersebut menempuh perjalanan dari A ke B selama\", y , \"jam\")\n"
      ],
      "metadata": {
        "id": "WNVlKjDBEfI6",
        "colab": {
          "base_uri": "https://localhost:8080/"
        },
        "outputId": "9fd7458b-823b-4474-81b3-fc7224482f09"
      },
      "execution_count": 38,
      "outputs": [
        {
          "output_type": "stream",
          "name": "stdout",
          "text": [
            "Jarak dari A ke B sebesar 75 km ditempuh menggunakan mobil dengan kecepatan 80 km/jam\n",
            "Maka, mobil tersebut menempuh perjalanan dari A ke B selama 0.9375 jam\n"
          ]
        }
      ]
    },
    {
      "cell_type": "code",
      "source": [
        "# Latihan 2 Fungsi dalam Python\n",
        "\n",
        "# Inisialisasi fungsi luas_persegi_03 yang membutuhkan sisi\n",
        "def luas_persegi_03(sisi):\n",
        "  # Di bawah ini adalah rumus luas persegi\n",
        "  luas_03 = sisi**2\n",
        "  return luas_03\n",
        "  # Digunakan operator \"return\" untuk memanggil kembali variabel operasi fungsinya\n",
        "\n",
        "# Kita masukkan nilai sisi\n",
        "# dengan variabel a untuk mendefinisikan luas_persegi_03\n",
        "a = luas_persegi_03(3)\n",
        "\n",
        "print(\"Jika suatu persegi memiliki sisi sepanjang 3 cm, maka luas persegi tersebut adalah\", a , \"cm\")\n",
        "\n",
        "# Inisialisasi fungsi luas_trapesium_03 yang membutuhkan sisi sejajar atas, sisi sejajar bawah, dan tinggi\n",
        "def luas_trapesium_03(sisi_sejajar_atas,sisi_sejajar_bawah,tinggi):\n",
        "  # Di bawah ini adalah rumus luas trapesium\n",
        "  luas_03 = (1/2)*(sisi_sejajar_atas + sisi_sejajar_bawah)*tinggi\n",
        "  return luas_03\n",
        "  # Digunakan operator \"return\" untuk memanggil kembali variabel operasi fungsinya\n",
        "\n",
        "# Kita masukkan nilai sisi_sejajar_atas, sisi_sejajar_bawah, dan tinggi\n",
        "# dengan variabel b untuk mendefinisikan luas_trapesium_03\n",
        "b = luas_trapesium_03(4,7,3)\n",
        "\n",
        "print(\"\\nJika suatu trapesium memiliki sisi sejajar atas 4 cm, sisi sejajar bawah 7 cm, dan tinggi 3 cm, maka luas trapesium tersebut adalah\", b , \"cm\")"
      ],
      "metadata": {
        "colab": {
          "base_uri": "https://localhost:8080/"
        },
        "id": "j1WoaU-5GkhG",
        "outputId": "44cdb18a-d5c3-4759-8444-00fce6d99056"
      },
      "execution_count": 39,
      "outputs": [
        {
          "output_type": "stream",
          "name": "stdout",
          "text": [
            "Jika suatu persegi memiliki sisi sepanjang 3 cm, maka luas persegi tersebut adalah 9 cm\n",
            "\n",
            "Jika suatu trapesium memiliki sisi sejajar atas 4 cm, sisi sejajar bawah 7 cm, dan tinggi 3 cm, maka luas trapesium tersebut adalah 16.5 cm\n"
          ]
        }
      ]
    },
    {
      "cell_type": "markdown",
      "source": [
        "# **5.20 Numpy**\n",
        "\n",
        "\n",
        "---"
      ],
      "metadata": {
        "id": "R_hoDnpmTJpi"
      }
    },
    {
      "cell_type": "markdown",
      "source": [
        "Numpy adalah library pada Python yang unggul dalam perhitungan menggunakan vektor dan matriks dalam berbagai dimensi."
      ],
      "metadata": {
        "id": "ltZamR-WTPUX"
      }
    },
    {
      "cell_type": "markdown",
      "source": [
        "**5.20.1 Perintah dasar pada Numpy**"
      ],
      "metadata": {
        "id": "HnswdC9eYtxX"
      }
    },
    {
      "cell_type": "code",
      "source": [
        "# Latihan 1 Perintah dasar Numpy\n",
        "\n",
        "# Inisialisasi numpy sebagai np\n",
        "import numpy as np\n",
        "\n",
        "# Mendefinisikan variabel dengan fungsi array pada numpy\n",
        "A = np.array([2,3,4,5,6])\n",
        "# Hasil variabel A\n",
        "print(A)\n",
        "\n",
        "print(\"\\n\")\n",
        "\n",
        "# Mendefinisikan variabel dengan fungsi array pada numpy\n",
        "B = np.array([[1,2,3,4],[1,2,3,4]])\n",
        "# Hasil dari variabel B\n",
        "print(B)"
      ],
      "metadata": {
        "colab": {
          "base_uri": "https://localhost:8080/"
        },
        "id": "TQpTNKt1Z8_a",
        "outputId": "bb263f27-4f5d-4956-8b0a-ae1d0520628e"
      },
      "execution_count": 40,
      "outputs": [
        {
          "output_type": "stream",
          "name": "stdout",
          "text": [
            "[2 3 4 5 6]\n",
            "\n",
            "\n",
            "[[1 2 3 4]\n",
            " [1 2 3 4]]\n"
          ]
        }
      ]
    },
    {
      "cell_type": "code",
      "source": [
        "A.ndim\n",
        "# Disini dilihat jumlah dimensi dari A\n",
        "# Dari output bisa kita ketahui jika jumlah dimensi dihitung dari jumlah pasangan kurung siku"
      ],
      "metadata": {
        "colab": {
          "base_uri": "https://localhost:8080/"
        },
        "id": "7Bd8jdKHVXO9",
        "outputId": "41149ab9-5d16-4562-dd2c-b0d4da94e5eb"
      },
      "execution_count": 41,
      "outputs": [
        {
          "output_type": "execute_result",
          "data": {
            "text/plain": [
              "1"
            ]
          },
          "metadata": {},
          "execution_count": 41
        }
      ]
    },
    {
      "cell_type": "code",
      "source": [
        "B.ndim\n",
        "# Disini dilihat jumlah dimensi dari B\n",
        "# Dari output bisa kita ketahui jika jumlah dimensi dihitung dari jumlah pasangan kurung siku"
      ],
      "metadata": {
        "colab": {
          "base_uri": "https://localhost:8080/"
        },
        "id": "mwispR_3UBrC",
        "outputId": "3c95a15d-d748-4708-ecba-3d87a7c91d2a"
      },
      "execution_count": 42,
      "outputs": [
        {
          "output_type": "execute_result",
          "data": {
            "text/plain": [
              "2"
            ]
          },
          "metadata": {},
          "execution_count": 42
        }
      ]
    },
    {
      "cell_type": "code",
      "source": [
        "# x.shape digunakan untuk mengembalikan tuple yang menunjukkan ukuran atau dimensi dari suatu array\n",
        "# x disini adalah variabel yang telah didefinisikan\n",
        "# Jika \"x\" adalah array satu dimensi dengan \"n\" elemen, maka x.shape akan mengembalikan nilai \"(n,)\"\n",
        "# Jika \"x\" adalah array dua dimensi dengan \"m\" baris dan \"n\" kolom, maka x.shape akan mengembalikan nilai \"(m,n)\" dan seterusnya\n",
        "\n",
        "A.shape\n",
        "# A disini adalah array satu dimensi, maka outputnya akan \"(n,)\" dimana n adalah jumlah elemen A"
      ],
      "metadata": {
        "colab": {
          "base_uri": "https://localhost:8080/"
        },
        "id": "3vwoEAq1VwpY",
        "outputId": "056d9881-3a68-433b-8dd7-df6fe0b0ec1e"
      },
      "execution_count": 43,
      "outputs": [
        {
          "output_type": "execute_result",
          "data": {
            "text/plain": [
              "(5,)"
            ]
          },
          "metadata": {},
          "execution_count": 43
        }
      ]
    },
    {
      "cell_type": "code",
      "source": [
        "B.shape\n",
        "# B disini adalah array dua dimensi, maka outputnya akan \"(m,n)\" dimana \"m\" adalah jumlah baris dan \"n\" jumlah kolom"
      ],
      "metadata": {
        "colab": {
          "base_uri": "https://localhost:8080/"
        },
        "id": "0Ek0hEB2WdSZ",
        "outputId": "b62dca67-3462-4883-95f3-7b599f45ae3f"
      },
      "execution_count": 44,
      "outputs": [
        {
          "output_type": "execute_result",
          "data": {
            "text/plain": [
              "(2, 4)"
            ]
          },
          "metadata": {},
          "execution_count": 44
        }
      ]
    },
    {
      "cell_type": "markdown",
      "source": [
        "**5.20.2 Memanggil anggota, kolom dan baris dengan Numpy**"
      ],
      "metadata": {
        "id": "x3bf2PpzY2ij"
      }
    },
    {
      "cell_type": "code",
      "source": [
        "# Latihan 1 memanggil anggota, kolom, dan baris dengan numpy\n",
        "\n",
        "# Mendefinisikan variabel dengan fungsi array pada numpy\n",
        "R = np.array([[2,4,5,1],[1,3,7,6],[6,8,5,3],[12,4,5,3]])\n",
        "print(R)\n",
        "# Hasilnya akan berupa matriks"
      ],
      "metadata": {
        "colab": {
          "base_uri": "https://localhost:8080/"
        },
        "id": "yPrY-VAkY85E",
        "outputId": "280242ba-bf3a-4df4-ab5b-5164640dda82"
      },
      "execution_count": 45,
      "outputs": [
        {
          "output_type": "stream",
          "name": "stdout",
          "text": [
            "[[ 2  4  5  1]\n",
            " [ 1  3  7  6]\n",
            " [ 6  8  5  3]\n",
            " [12  4  5  3]]\n"
          ]
        }
      ]
    },
    {
      "cell_type": "code",
      "source": [
        "# Latihan 2 memanggil anggota, kolom, dan baris dengan numpy\n",
        "\n",
        "# Memilih elemen atau subarray dari array R dengan menggunakan index\n",
        "# Ingat kembali cara menghitung index! dimulai dari 0 untuk urutan pertama dari depan\n",
        "\n",
        "a = R[0,3]\n",
        "print(\"Elemen pada baris ke-1 dan kolom ke-4 di R adalah\", a)\n",
        "# Disini akan diambil elemen pada posisi baris ke-1 dan kolom ke-4 dari array R\n",
        "\n",
        "b = R[:,2]\n",
        "print(\"Semua elemen pada kolom ke-3 adalah\", b)\n",
        "# Disini akan diambil elemen pada posisi kolom ke-3\n",
        "\n",
        "c = R[1,:]\n",
        "print(\"Semua elemen pada baris ke-2 adalah\", c)\n",
        "# Disini akan diambil semua elemen pada posisi baris ke-2\n",
        "\n",
        "d = R[2,1:3]\n",
        "print(\"Elemen pada baris ke-3 dan kolom ke-2 dan kolom ke-4 adalah\", d)\n",
        "# Disini akan diambil elemen pada baris ke-3 dan kolom ke-2 dan kolom ke-4\n",
        "\n",
        "e = R[1,0:3:2]\n",
        "# Ini artinya kita mengambil elemen di baris ke-2 dan kolom dari 1 sampai 4 dengan jarak sebesar 2\n",
        "# Karena elemen di baris ke-2 adalah [1 3 7 6] dan kolom 1 sampai 4 pada baris ke-1 adalah [1 3 7 6] namun diambil 2 jarak dari kolom 1 sampai 4, maka\n",
        "# Outputnya adalah [1 7]\n",
        "print(\"Elemen pada baris ke-2 kolom ke-1 sampai kolom ke-4 dengan jarak 2 adalah\", e)\n",
        "\n",
        "print(\"\\n\")\n",
        "\n",
        "# Akan mengubah elemen di baris dan kolom di index tertentu\n",
        "R[0,3] = 205\n",
        "# Ini berarti kita akan mengubah elemen di baris pertama dan kolom ke-4 menjadi 205\n",
        "print(\"Hasil dari pengubahan elemen di baris pertama dan kolom ke-4 adalah\")\n",
        "print(R)"
      ],
      "metadata": {
        "colab": {
          "base_uri": "https://localhost:8080/"
        },
        "id": "tJiM6jUPanBL",
        "outputId": "cd15c4f2-1f4d-4cac-d66c-181368e1d3a9"
      },
      "execution_count": 46,
      "outputs": [
        {
          "output_type": "stream",
          "name": "stdout",
          "text": [
            "Elemen pada baris ke-1 dan kolom ke-4 di R adalah 1\n",
            "Semua elemen pada kolom ke-3 adalah [5 7 5 5]\n",
            "Semua elemen pada baris ke-2 adalah [1 3 7 6]\n",
            "Elemen pada baris ke-3 dan kolom ke-2 dan kolom ke-4 adalah [8 5]\n",
            "Elemen pada baris ke-2 kolom ke-1 sampai kolom ke-4 dengan jarak 2 adalah [1 7]\n",
            "\n",
            "\n",
            "Hasil dari pengubahan elemen di baris pertama dan kolom ke-4 adalah\n",
            "[[  2   4   5 205]\n",
            " [  1   3   7   6]\n",
            " [  6   8   5   3]\n",
            " [ 12   4   5   3]]\n"
          ]
        }
      ]
    },
    {
      "cell_type": "markdown",
      "source": [
        "**5.20.3 Matrix pada Numpy**"
      ],
      "metadata": {
        "id": "Gn9WFv5NgVYr"
      }
    },
    {
      "cell_type": "code",
      "source": [
        "# Membuat matriks menggunakan numpy\n",
        "\n",
        "a = np.ones((2,3))\n",
        "print(a)                # Disini dicetak matriks dengan jumlah baris 2 dan jumlah kolom 3 dimana seluruh elemennya 1\n",
        "\n",
        "print(\"\\n\")\n",
        "b = np.zeros((3,2))\n",
        "print(b)              # Disini cetak matriks dengan jumlah baris 3 dan jumlah kolom 2 dimana seluruh elemennya 0\n",
        "\n",
        "print(\"\\n\")\n",
        "c = np.identity(2)    # Disini dicetak matriks identitas berordo 2x2 (baris sebanyak 2 dan kolom sebanyak 2)\n",
        "print(c)\n",
        "\n",
        "print(\"\\n\")\n",
        "d = np.ones((2,2,3))  # Disini dicetak 2 matriks yang memiliki baris sebanyak 2 dan kolom sebanyak 3\n",
        "print(d)\n",
        "\n",
        "print(\"\\n\")\n",
        "e = np.full((2,1),4)    # Disini dicetak matriks dengan 1 baris dan 2 kolom dengan seluruh elemennya adalah 4\n",
        "print(e)\n",
        "\n",
        "print(\"\\n\")\n",
        "f = np.random.rand(4,3)\n",
        "print(f)\n",
        "\n",
        "print(\"\\n\")\n",
        "g = np.random.randint(1,5,size=(2,3))\n",
        "print(g)"
      ],
      "metadata": {
        "colab": {
          "base_uri": "https://localhost:8080/"
        },
        "id": "02DPKQl5gcS_",
        "outputId": "79f8ee6b-a61a-471a-f729-363bb7b8f60f"
      },
      "execution_count": 47,
      "outputs": [
        {
          "output_type": "stream",
          "name": "stdout",
          "text": [
            "[[1. 1. 1.]\n",
            " [1. 1. 1.]]\n",
            "\n",
            "\n",
            "[[0. 0.]\n",
            " [0. 0.]\n",
            " [0. 0.]]\n",
            "\n",
            "\n",
            "[[1. 0.]\n",
            " [0. 1.]]\n",
            "\n",
            "\n",
            "[[[1. 1. 1.]\n",
            "  [1. 1. 1.]]\n",
            "\n",
            " [[1. 1. 1.]\n",
            "  [1. 1. 1.]]]\n",
            "\n",
            "\n",
            "[[4]\n",
            " [4]]\n",
            "\n",
            "\n",
            "[[0.65011841 0.10149796 0.70922833]\n",
            " [0.58877963 0.41291252 0.31272418]\n",
            " [0.9706718  0.4279803  0.19245701]\n",
            " [0.57442855 0.94142429 0.00347858]]\n",
            "\n",
            "\n",
            "[[3 4 2]\n",
            " [1 1 4]]\n"
          ]
        }
      ]
    },
    {
      "cell_type": "markdown",
      "source": [
        "**5.20.4 Copy pada Numpy**"
      ],
      "metadata": {
        "id": "FWShtIc4ixFx"
      }
    },
    {
      "cell_type": "code",
      "source": [
        "a = np.array([2,3,5,7,9])\n",
        "print(a)\n",
        "\n",
        "b = a\n",
        "print(b)\n",
        "# Disini hasilnya akan sama dengan perintah print(a) sebab b didefinisikan sama dengan a\n",
        "\n",
        "b[0] = 10\n",
        "print(b)\n",
        "# Disini akan mengganti 1 yang terletak di posisi pertama dengan 10\n",
        "\n",
        "print(a)\n",
        "# Disini hasilnya akan sama dengan print(b) di atas karena b = a maka a = b\n",
        "\n",
        "c = np.array([1,2,3,4,5])\n",
        "print(c)\n",
        "\n",
        "d = c.copy()\n",
        "print(d)\n",
        "# Disini hasilnya akan sama dengan print(c) di atas karena d mengcopy c\n",
        "\n",
        "d[2] = 11\n",
        "print(d)\n",
        "# Disini akan mengganti 2 yang terletak diposisi ketiga dengan 11\n",
        "\n",
        "print(c)\n",
        "# Disini hasilnya tidak akan sama dengan print(d) karena d tidak didefinisikan sama dengan c, d hanya mengcopy c"
      ],
      "metadata": {
        "colab": {
          "base_uri": "https://localhost:8080/"
        },
        "id": "_LDG_GBAi1aU",
        "outputId": "2fa74824-c3d5-4b55-f29e-e4fd7da1ea16"
      },
      "execution_count": 48,
      "outputs": [
        {
          "output_type": "stream",
          "name": "stdout",
          "text": [
            "[2 3 5 7 9]\n",
            "[2 3 5 7 9]\n",
            "[10  3  5  7  9]\n",
            "[10  3  5  7  9]\n",
            "[1 2 3 4 5]\n",
            "[1 2 3 4 5]\n",
            "[ 1  2 11  4  5]\n",
            "[1 2 3 4 5]\n"
          ]
        }
      ]
    },
    {
      "cell_type": "markdown",
      "source": [
        "**5.20.5 Operasi matematika pada Numpy**"
      ],
      "metadata": {
        "id": "opo7jb0ZkVAd"
      }
    },
    {
      "cell_type": "code",
      "source": [
        "# Mendefinisikan variabel dengan array\n",
        "a = np.array([2,5,6,7])\n",
        "\n",
        "x = a+2\n",
        "print(x)\n",
        "# Akan dijumlahkan setiap elemen nya dengan 2\n",
        "\n",
        "y = a-3\n",
        "print(y)\n",
        "# Setiap elemen a akan dikurangkan dengan 3\n",
        "\n",
        "z = a*6\n",
        "print(z)\n",
        "# Setiap elemen di a dikalikan dengan 6\n",
        "\n",
        "k = a/4\n",
        "print(k)\n",
        "# Setiap elemen a akan dibagi dengan 4\n",
        "\n",
        "l = a**2\n",
        "print(l)\n",
        "# Setiap elemen a akan dipangkatkan dengan 2\n",
        "\n",
        "print(\"\\n\")\n",
        "\n",
        "# Inisialisasi suatu variabel dengan array\n",
        "b = np.array([0,1,2,3])\n",
        "print(b)\n",
        "\n",
        "m = a+b \n",
        "print(m)\n",
        "# Disini akan dicetak matriks dengan elemennya adalah hasil penjumlahan dari a dengan b\n",
        "\n",
        "n = a-b\n",
        "print(n)\n",
        "# Disini akan dicetak matriks dengan elemennya adalah hasil pengurangan dari a dengan b\n",
        "\n",
        "o = a*b\n",
        "print(o)\n",
        "# Disini akan dicetak matriks dengan elemennya adalah hasil dari a kali b\n",
        "\n",
        "print(\"\\n\")\n",
        "p = np.cos(a)\n",
        "print(p)\n",
        "\n",
        "q = np.tan(a)\n",
        "print(q)\n",
        "\n",
        "r = np.sinh(a)\n",
        "print(r)\n",
        "\n",
        "s = np.cosh(b)\n",
        "print(s)\n"
      ],
      "metadata": {
        "colab": {
          "base_uri": "https://localhost:8080/"
        },
        "id": "L4i6jT6ykdcm",
        "outputId": "706f3403-6978-4a24-9a7d-7e630b9ee395"
      },
      "execution_count": 49,
      "outputs": [
        {
          "output_type": "stream",
          "name": "stdout",
          "text": [
            "[4 7 8 9]\n",
            "[-1  2  3  4]\n",
            "[12 30 36 42]\n",
            "[0.5  1.25 1.5  1.75]\n",
            "[ 4 25 36 49]\n",
            "\n",
            "\n",
            "[0 1 2 3]\n",
            "[ 2  6  8 10]\n",
            "[2 4 4 4]\n",
            "[ 0  5 12 21]\n",
            "\n",
            "\n",
            "[-0.41614684  0.28366219  0.96017029  0.75390225]\n",
            "[-2.18503986 -3.38051501 -0.29100619  0.87144798]\n",
            "[  3.62686041  74.20321058 201.71315737 548.31612327]\n",
            "[ 1.          1.54308063  3.76219569 10.067662  ]\n"
          ]
        }
      ]
    },
    {
      "cell_type": "markdown",
      "source": [
        "**5.20.6 Perkalian Matrik pada Numpy**"
      ],
      "metadata": {
        "id": "B9bhFB-CoNlS"
      }
    },
    {
      "cell_type": "code",
      "source": [
        "# Mencetak matriks dengan numpy\n",
        "a = np.array([[2,4,6,8],[1,2,3,4]])\n",
        "print(a)"
      ],
      "metadata": {
        "colab": {
          "base_uri": "https://localhost:8080/"
        },
        "id": "I7gbPEnOoT3r",
        "outputId": "d92e8126-f30b-4218-bc0d-3806ed239ddf"
      },
      "execution_count": 50,
      "outputs": [
        {
          "output_type": "stream",
          "name": "stdout",
          "text": [
            "[[2 4 6 8]\n",
            " [1 2 3 4]]\n"
          ]
        }
      ]
    },
    {
      "cell_type": "code",
      "source": [
        "# Mencetak matriks dengan numpy\n",
        "s = np.array([[2,4,8],[1,2,3,4]])\n",
        "print(s)\n",
        "# Outputnya akan seperti dibawah ini karena jumlah ordo kedua matriks tidak sama"
      ],
      "metadata": {
        "colab": {
          "base_uri": "https://localhost:8080/"
        },
        "id": "eFy-1KTkobg2",
        "outputId": "858576ac-64e3-4811-9cfb-a387076e6921"
      },
      "execution_count": 51,
      "outputs": [
        {
          "output_type": "stream",
          "name": "stdout",
          "text": [
            "[list([2, 4, 8]) list([1, 2, 3, 4])]\n"
          ]
        },
        {
          "output_type": "stream",
          "name": "stderr",
          "text": [
            "<ipython-input-51-9a1ff2a6da4f>:2: VisibleDeprecationWarning: Creating an ndarray from ragged nested sequences (which is a list-or-tuple of lists-or-tuples-or ndarrays with different lengths or shapes) is deprecated. If you meant to do this, you must specify 'dtype=object' when creating the ndarray.\n",
            "  s = np.array([[2,4,8],[1,2,3,4]])\n"
          ]
        }
      ]
    },
    {
      "cell_type": "code",
      "source": [
        "# Mencetak matriks dengan numpy\n",
        "b = np.array([[1,2,3,4],[2,4,6,8]])\n",
        "print(b)"
      ],
      "metadata": {
        "colab": {
          "base_uri": "https://localhost:8080/"
        },
        "id": "GphFrEACogky",
        "outputId": "59100d0d-a5c3-4f5b-fed4-384133500132"
      },
      "execution_count": 52,
      "outputs": [
        {
          "output_type": "stream",
          "name": "stdout",
          "text": [
            "[[1 2 3 4]\n",
            " [2 4 6 8]]\n"
          ]
        }
      ]
    },
    {
      "cell_type": "code",
      "source": [
        "# Mengalikan matriks dengan numpy\n",
        "c = a*b\n",
        "print(c)"
      ],
      "metadata": {
        "colab": {
          "base_uri": "https://localhost:8080/"
        },
        "id": "l6QGN8f8o1SH",
        "outputId": "dd6a3047-ad0b-48e7-a15d-f8a28edad034"
      },
      "execution_count": 53,
      "outputs": [
        {
          "output_type": "stream",
          "name": "stdout",
          "text": [
            "[[ 2  8 18 32]\n",
            " [ 2  8 18 32]]\n"
          ]
        }
      ]
    },
    {
      "cell_type": "code",
      "source": [
        "d = np.matmul(a,b)\n",
        "print(d)"
      ],
      "metadata": {
        "colab": {
          "base_uri": "https://localhost:8080/",
          "height": 190
        },
        "id": "gyCcaoZYp42x",
        "outputId": "bce4e40c-31da-436a-de3f-8c7b6e99f221"
      },
      "execution_count": 54,
      "outputs": [
        {
          "output_type": "error",
          "ename": "ValueError",
          "evalue": "ignored",
          "traceback": [
            "\u001b[0;31m---------------------------------------------------------------------------\u001b[0m",
            "\u001b[0;31mValueError\u001b[0m                                Traceback (most recent call last)",
            "\u001b[0;32m<ipython-input-54-6d9b5721aede>\u001b[0m in \u001b[0;36m<cell line: 1>\u001b[0;34m()\u001b[0m\n\u001b[0;32m----> 1\u001b[0;31m \u001b[0md\u001b[0m \u001b[0;34m=\u001b[0m \u001b[0mnp\u001b[0m\u001b[0;34m.\u001b[0m\u001b[0mmatmul\u001b[0m\u001b[0;34m(\u001b[0m\u001b[0ma\u001b[0m\u001b[0;34m,\u001b[0m\u001b[0mb\u001b[0m\u001b[0;34m)\u001b[0m\u001b[0;34m\u001b[0m\u001b[0;34m\u001b[0m\u001b[0m\n\u001b[0m\u001b[1;32m      2\u001b[0m \u001b[0mprint\u001b[0m\u001b[0;34m(\u001b[0m\u001b[0md\u001b[0m\u001b[0;34m)\u001b[0m\u001b[0;34m\u001b[0m\u001b[0;34m\u001b[0m\u001b[0m\n",
            "\u001b[0;31mValueError\u001b[0m: matmul: Input operand 1 has a mismatch in its core dimension 0, with gufunc signature (n?,k),(k,m?)->(n?,m?) (size 2 is different from 4)"
          ]
        }
      ]
    },
    {
      "cell_type": "code",
      "source": [
        "# Membagi matriks agar setiap matriks memiliki 2 elemen\n",
        "e = np.array([[1,2],[3,4],[2,4],[6,8]])\n",
        "print(e)"
      ],
      "metadata": {
        "colab": {
          "base_uri": "https://localhost:8080/"
        },
        "id": "3l2Fn8njpPdu",
        "outputId": "09207b5e-6b25-45d8-b2f1-4877de8be2ea"
      },
      "execution_count": 55,
      "outputs": [
        {
          "output_type": "stream",
          "name": "stdout",
          "text": [
            "[[1 2]\n",
            " [3 4]\n",
            " [2 4]\n",
            " [6 8]]\n"
          ]
        }
      ]
    },
    {
      "cell_type": "code",
      "source": [
        "f = np.matmul(a,e)\n",
        "print(f)\n",
        "# Hasilnya error karena ordo matriks a dan e berbeda"
      ],
      "metadata": {
        "colab": {
          "base_uri": "https://localhost:8080/"
        },
        "id": "xuXetsU5qYht",
        "outputId": "8f879db7-1e25-415b-aa3a-477af6c66c66"
      },
      "execution_count": 56,
      "outputs": [
        {
          "output_type": "stream",
          "name": "stdout",
          "text": [
            "[[ 74 108]\n",
            " [ 37  54]]\n"
          ]
        }
      ]
    },
    {
      "cell_type": "code",
      "source": [
        "g = a*e\n",
        "print(g)"
      ],
      "metadata": {
        "colab": {
          "base_uri": "https://localhost:8080/",
          "height": 190
        },
        "id": "i6-f3aD4qygR",
        "outputId": "efaf8703-82b6-4969-c859-660e3feae63e"
      },
      "execution_count": 57,
      "outputs": [
        {
          "output_type": "error",
          "ename": "ValueError",
          "evalue": "ignored",
          "traceback": [
            "\u001b[0;31m---------------------------------------------------------------------------\u001b[0m",
            "\u001b[0;31mValueError\u001b[0m                                Traceback (most recent call last)",
            "\u001b[0;32m<ipython-input-57-a9d17da2d0c4>\u001b[0m in \u001b[0;36m<cell line: 1>\u001b[0;34m()\u001b[0m\n\u001b[0;32m----> 1\u001b[0;31m \u001b[0mg\u001b[0m \u001b[0;34m=\u001b[0m \u001b[0ma\u001b[0m\u001b[0;34m*\u001b[0m\u001b[0me\u001b[0m\u001b[0;34m\u001b[0m\u001b[0;34m\u001b[0m\u001b[0m\n\u001b[0m\u001b[1;32m      2\u001b[0m \u001b[0mprint\u001b[0m\u001b[0;34m(\u001b[0m\u001b[0mg\u001b[0m\u001b[0;34m)\u001b[0m\u001b[0;34m\u001b[0m\u001b[0;34m\u001b[0m\u001b[0m\n",
            "\u001b[0;31mValueError\u001b[0m: operands could not be broadcast together with shapes (2,4) (4,2) "
          ]
        }
      ]
    },
    {
      "cell_type": "markdown",
      "source": [
        "**5.20.7 Min, max, dan sum pada Numpy**"
      ],
      "metadata": {
        "id": "SaibpRvOrCAM"
      }
    },
    {
      "cell_type": "code",
      "source": [
        "# Mendefinisikan sebuah variabel dengan array\n",
        "a = np.array([[1,2,3,4],\n",
        "             [5,6,7,8],\n",
        "             [9,10,11,12]])\n",
        "print(a)\n",
        "# Mencetak matriks a dengan numpy"
      ],
      "metadata": {
        "colab": {
          "base_uri": "https://localhost:8080/"
        },
        "id": "aIN28NcVrJFw",
        "outputId": "2595d8aa-9c65-4558-96c4-3c52232235ef"
      },
      "execution_count": 58,
      "outputs": [
        {
          "output_type": "stream",
          "name": "stdout",
          "text": [
            "[[ 1  2  3  4]\n",
            " [ 5  6  7  8]\n",
            " [ 9 10 11 12]]\n"
          ]
        }
      ]
    },
    {
      "cell_type": "code",
      "source": [
        "# Mencari nilai minimum dari matriks\n",
        "b = np.min(a)\n",
        "print(b)"
      ],
      "metadata": {
        "colab": {
          "base_uri": "https://localhost:8080/"
        },
        "id": "h4LvCgJJrS-W",
        "outputId": "8d640375-b9bc-4332-f0ae-1d8c27306bc0"
      },
      "execution_count": 59,
      "outputs": [
        {
          "output_type": "stream",
          "name": "stdout",
          "text": [
            "1\n"
          ]
        }
      ]
    },
    {
      "cell_type": "code",
      "source": [
        "c = np.min(a,axis=0)\n",
        "print(c)\n",
        "\n",
        "print(\"\\n\")\n",
        "\n",
        "d = np.min(a,axis=1)\n",
        "print(d)"
      ],
      "metadata": {
        "colab": {
          "base_uri": "https://localhost:8080/"
        },
        "id": "wAMf5nlCre6x",
        "outputId": "20a7b6db-baab-4e2b-dc72-8d529e16e624"
      },
      "execution_count": 60,
      "outputs": [
        {
          "output_type": "stream",
          "name": "stdout",
          "text": [
            "[1 2 3 4]\n",
            "\n",
            "\n",
            "[1 5 9]\n"
          ]
        }
      ]
    },
    {
      "cell_type": "code",
      "source": [
        "# Mencari nilai max dari matriks\n",
        "e = np.max(a)\n",
        "print(e)"
      ],
      "metadata": {
        "colab": {
          "base_uri": "https://localhost:8080/"
        },
        "id": "cPMI08PosGdw",
        "outputId": "efb35d2d-445d-4dfc-9d75-3277a526fb81"
      },
      "execution_count": 61,
      "outputs": [
        {
          "output_type": "stream",
          "name": "stdout",
          "text": [
            "12\n"
          ]
        }
      ]
    },
    {
      "cell_type": "code",
      "source": [
        "f = np.max(a,axis=0)\n",
        "print(f)\n",
        "\n",
        "print(\"\\n\")\n",
        "\n",
        "g = np.max(a,axis=1)\n",
        "print(g)\n",
        "\n",
        "print(\"\\n\")\n",
        "\n",
        "h = np.max(a,axis=3)\n",
        "print(h)\n",
        "# Output akan errror karena 3 diluar batas untuk dimensi 2"
      ],
      "metadata": {
        "colab": {
          "base_uri": "https://localhost:8080/",
          "height": 510
        },
        "id": "-7vGVkcrsK9k",
        "outputId": "b1e79495-b385-4deb-aeb5-f65d035080ba"
      },
      "execution_count": 62,
      "outputs": [
        {
          "output_type": "stream",
          "name": "stdout",
          "text": [
            "[ 9 10 11 12]\n",
            "\n",
            "\n",
            "[ 4  8 12]\n",
            "\n",
            "\n"
          ]
        },
        {
          "output_type": "error",
          "ename": "AxisError",
          "evalue": "ignored",
          "traceback": [
            "\u001b[0;31m---------------------------------------------------------------------------\u001b[0m",
            "\u001b[0;31mAxisError\u001b[0m                                 Traceback (most recent call last)",
            "\u001b[0;32m<ipython-input-62-573ce66de323>\u001b[0m in \u001b[0;36m<cell line: 11>\u001b[0;34m()\u001b[0m\n\u001b[1;32m      9\u001b[0m \u001b[0mprint\u001b[0m\u001b[0;34m(\u001b[0m\u001b[0;34m\"\\n\"\u001b[0m\u001b[0;34m)\u001b[0m\u001b[0;34m\u001b[0m\u001b[0;34m\u001b[0m\u001b[0m\n\u001b[1;32m     10\u001b[0m \u001b[0;34m\u001b[0m\u001b[0m\n\u001b[0;32m---> 11\u001b[0;31m \u001b[0mh\u001b[0m \u001b[0;34m=\u001b[0m \u001b[0mnp\u001b[0m\u001b[0;34m.\u001b[0m\u001b[0mmax\u001b[0m\u001b[0;34m(\u001b[0m\u001b[0ma\u001b[0m\u001b[0;34m,\u001b[0m\u001b[0maxis\u001b[0m\u001b[0;34m=\u001b[0m\u001b[0;36m3\u001b[0m\u001b[0;34m)\u001b[0m\u001b[0;34m\u001b[0m\u001b[0;34m\u001b[0m\u001b[0m\n\u001b[0m\u001b[1;32m     12\u001b[0m \u001b[0mprint\u001b[0m\u001b[0;34m(\u001b[0m\u001b[0mh\u001b[0m\u001b[0;34m)\u001b[0m\u001b[0;34m\u001b[0m\u001b[0;34m\u001b[0m\u001b[0m\n\u001b[1;32m     13\u001b[0m \u001b[0;31m# Output akan errror karena 3 diluar batas untuk dimensi 2\u001b[0m\u001b[0;34m\u001b[0m\u001b[0;34m\u001b[0m\u001b[0m\n",
            "\u001b[0;32m/usr/local/lib/python3.9/dist-packages/numpy/core/overrides.py\u001b[0m in \u001b[0;36mamax\u001b[0;34m(*args, **kwargs)\u001b[0m\n",
            "\u001b[0;32m/usr/local/lib/python3.9/dist-packages/numpy/core/fromnumeric.py\u001b[0m in \u001b[0;36mamax\u001b[0;34m(a, axis, out, keepdims, initial, where)\u001b[0m\n\u001b[1;32m   2789\u001b[0m     \u001b[0;36m5\u001b[0m\u001b[0;34m\u001b[0m\u001b[0;34m\u001b[0m\u001b[0m\n\u001b[1;32m   2790\u001b[0m     \"\"\"\n\u001b[0;32m-> 2791\u001b[0;31m     return _wrapreduction(a, np.maximum, 'max', axis, None, out,\n\u001b[0m\u001b[1;32m   2792\u001b[0m                           keepdims=keepdims, initial=initial, where=where)\n\u001b[1;32m   2793\u001b[0m \u001b[0;34m\u001b[0m\u001b[0m\n",
            "\u001b[0;32m/usr/local/lib/python3.9/dist-packages/numpy/core/fromnumeric.py\u001b[0m in \u001b[0;36m_wrapreduction\u001b[0;34m(obj, ufunc, method, axis, dtype, out, **kwargs)\u001b[0m\n\u001b[1;32m     84\u001b[0m                 \u001b[0;32mreturn\u001b[0m \u001b[0mreduction\u001b[0m\u001b[0;34m(\u001b[0m\u001b[0maxis\u001b[0m\u001b[0;34m=\u001b[0m\u001b[0maxis\u001b[0m\u001b[0;34m,\u001b[0m \u001b[0mout\u001b[0m\u001b[0;34m=\u001b[0m\u001b[0mout\u001b[0m\u001b[0;34m,\u001b[0m \u001b[0;34m**\u001b[0m\u001b[0mpasskwargs\u001b[0m\u001b[0;34m)\u001b[0m\u001b[0;34m\u001b[0m\u001b[0;34m\u001b[0m\u001b[0m\n\u001b[1;32m     85\u001b[0m \u001b[0;34m\u001b[0m\u001b[0m\n\u001b[0;32m---> 86\u001b[0;31m     \u001b[0;32mreturn\u001b[0m \u001b[0mufunc\u001b[0m\u001b[0;34m.\u001b[0m\u001b[0mreduce\u001b[0m\u001b[0;34m(\u001b[0m\u001b[0mobj\u001b[0m\u001b[0;34m,\u001b[0m \u001b[0maxis\u001b[0m\u001b[0;34m,\u001b[0m \u001b[0mdtype\u001b[0m\u001b[0;34m,\u001b[0m \u001b[0mout\u001b[0m\u001b[0;34m,\u001b[0m \u001b[0;34m**\u001b[0m\u001b[0mpasskwargs\u001b[0m\u001b[0;34m)\u001b[0m\u001b[0;34m\u001b[0m\u001b[0;34m\u001b[0m\u001b[0m\n\u001b[0m\u001b[1;32m     87\u001b[0m \u001b[0;34m\u001b[0m\u001b[0m\n\u001b[1;32m     88\u001b[0m \u001b[0;34m\u001b[0m\u001b[0m\n",
            "\u001b[0;31mAxisError\u001b[0m: axis 3 is out of bounds for array of dimension 2"
          ]
        }
      ]
    },
    {
      "cell_type": "code",
      "source": [
        "# Menghitung jumlah dari matriks dengan numpy\n",
        "i = np.sum(a)\n",
        "print(i)"
      ],
      "metadata": {
        "colab": {
          "base_uri": "https://localhost:8080/"
        },
        "id": "tMh5OT06s4-_",
        "outputId": "9c29fc6b-0d8c-4d35-c061-e105a7cdb1c8"
      },
      "execution_count": 63,
      "outputs": [
        {
          "output_type": "stream",
          "name": "stdout",
          "text": [
            "78\n"
          ]
        }
      ]
    },
    {
      "cell_type": "code",
      "source": [
        "j = np.sum(a,axis=0)\n",
        "print(j)\n",
        "\n",
        "print(\"\\n\")\n",
        "\n",
        "k = np.sum(a,axis=1)\n",
        "print(k)"
      ],
      "metadata": {
        "colab": {
          "base_uri": "https://localhost:8080/"
        },
        "id": "ijjHoTFctbdB",
        "outputId": "e65eb1fb-d391-483c-df8d-bc4d35e67c1c"
      },
      "execution_count": 64,
      "outputs": [
        {
          "output_type": "stream",
          "name": "stdout",
          "text": [
            "[15 18 21 24]\n",
            "\n",
            "\n",
            "[10 26 42]\n"
          ]
        }
      ]
    }
  ]
}
