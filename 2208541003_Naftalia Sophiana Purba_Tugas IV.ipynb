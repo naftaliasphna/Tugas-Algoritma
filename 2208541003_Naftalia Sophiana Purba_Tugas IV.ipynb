{
  "cells": [
    {
      "cell_type": "markdown",
      "metadata": {
        "id": "ikpyqdv-vd5X"
      },
      "source": [
        "# **Tugas Minggu Ke-4**"
      ]
    },
    {
      "cell_type": "markdown",
      "source": [
        "# **5.11 While Loop**\n",
        "\n",
        "\n",
        "---"
      ],
      "metadata": {
        "id": "wkto_YIxlqlo"
      }
    },
    {
      "cell_type": "markdown",
      "metadata": {
        "id": "JBrEa8Ebv7Gd"
      },
      "source": [
        "While loop adalah struktur pengulangan yang akan menjalankan serangkaian perintah terus-menerus atau berulang-ulang selama kondisi yang diberikan masih bernilai *True* dan berhenti saat nilainya menjadi *False*."
      ]
    },
    {
      "cell_type": "code",
      "execution_count": 1,
      "metadata": {
        "colab": {
          "base_uri": "https://localhost:8080/",
          "height": 130
        },
        "id": "VYV18creLuTq",
        "outputId": "e7afea79-0388-41ed-fe5e-c82f4494924d"
      },
      "outputs": [
        {
          "output_type": "error",
          "ename": "SyntaxError",
          "evalue": "ignored",
          "traceback": [
            "\u001b[0;36m  File \u001b[0;32m\"<ipython-input-1-3151d77fd4a5>\"\u001b[0;36m, line \u001b[0;32m5\u001b[0m\n\u001b[0;31m    while i_30 < 5\u001b[0m\n\u001b[0m                  ^\u001b[0m\n\u001b[0;31mSyntaxError\u001b[0m\u001b[0;31m:\u001b[0m invalid syntax\n"
          ]
        }
      ],
      "source": [
        "# Latihan While Loop 1\n",
        "\n",
        "# Mendefinisikan variabel\n",
        "i_30 = 0\n",
        "while i_30 < 5\n",
        "  print(i_30)\n",
        "  i += 2\n",
        "\n",
        "# Perintah i_30 += 2 digunakan untuk menambahkan nilai i_03 dengan 2 pada setiap loop dijalankan\n",
        "# Perintah ini akan menghasilkan error karena kurang tanda titik dua (:) pada bagian kondisi while\n",
        "# Tanda titik dua (:) diperlukan untuk menandakan awal dari blok kode yang dijalankan dalam while Loop\n",
        "# Jadi ingat! jangan lupa untuk menambahkan tanda titik dua (:) pada bagian kondisi while"
      ]
    },
    {
      "cell_type": "code",
      "execution_count": 2,
      "metadata": {
        "colab": {
          "base_uri": "https://localhost:8080/"
        },
        "id": "riAbNNNqL8P6",
        "outputId": "b0f533d2-e3a0-4bbf-94c1-b942c6e5a24d"
      },
      "outputs": [
        {
          "output_type": "stream",
          "name": "stdout",
          "text": [
            "0\n",
            "2\n",
            "4\n",
            "6\n",
            "8\n",
            "10\n",
            "12\n",
            "14\n",
            "16\n",
            "18\n"
          ]
        }
      ],
      "source": [
        "# Latihan While Loop 2\n",
        "\n",
        "# Mendefinisikan variabel\n",
        "i_30 = 0\n",
        "\n",
        "# Melakukan perintah while loop untuk menampilkan bilangan kelipatan 2 yang kebih kecil dari 20\n",
        "while i_30 < 20:\n",
        "  print(i_30)\n",
        "  i_30 += 2\n",
        "\n",
        "# Perintah ini tidak akan menghasilkan error seperti kode di atas\n",
        "# Karena sudah ada tanda titik dua pada bagian kondisi while\n",
        "# Outputnya adalah bilangan dengan urutan awal nya ialah i_30, yaitu 0\n",
        "# Dan perintah i_30 += 2 digunakan untuk menambahkan nilai i_03 dengan 2 pada setiap loop dijalankan\n",
        "# sehingga urutan selanjutnya ialah i_30 ditambahkan dengan 2, yaitu 0 + 2 = 2 dan seterusnya sampai pada kondisi while yang diminta"
      ]
    },
    {
      "cell_type": "code",
      "execution_count": 4,
      "metadata": {
        "colab": {
          "base_uri": "https://localhost:8080/"
        },
        "id": "-MVxyBe7xQ4E",
        "outputId": "c89942a6-934b-429f-ab49-0c867b058585"
      },
      "outputs": [
        {
          "output_type": "stream",
          "name": "stdout",
          "text": [
            "0\n",
            "1\n",
            "1\n",
            "2\n",
            "3\n",
            "5\n",
            "8\n",
            "13\n",
            "21\n",
            "34\n",
            "55\n"
          ]
        }
      ],
      "source": [
        "# Latihan While Loop 3\n",
        "\n",
        "# Mendefinisikan variabel\n",
        "a_03, b_03 = 0, 1\n",
        "\n",
        "# Melakukan perintah while loop untuk mencetak bilangan fibonacci\n",
        "while a_03 <= 60:\n",
        "  print(a_03)\n",
        "  a_03, b_03 = b_03, a_03 + b_03\n",
        "\n",
        "# Bilangan fibonacci adalah barisan bilangan dari hasil penjumlahan 2 bilangan sebelumnya\n",
        "# Karena kita meminta while a_03 <= 60, maka outputnya akan menampilkan angka berulang dan berhenti sampai kondisi while yang diminta\n",
        "# yaitu bilangan yang lebih kecil sama dengan 60\n",
        "# Bilangan itu ialah 55, karena 55 lah batas akhir dimana kondisi bernilai \"True\""
      ]
    },
    {
      "cell_type": "code",
      "execution_count": 5,
      "metadata": {
        "colab": {
          "base_uri": "https://localhost:8080/"
        },
        "id": "v6VagG0Cyrzb",
        "outputId": "5a0ead2c-df6e-4fdd-9424-30dd445ebfdd"
      },
      "outputs": [
        {
          "output_type": "stream",
          "name": "stdout",
          "text": [
            "Angka 0.5 lebih kecil dari 13\n",
            "Angka 1.5 lebih kecil dari 13\n",
            "Angka 2.5 lebih kecil dari 13\n",
            "Angka 3.5 lebih kecil dari 13\n",
            "Angka 4.5 lebih kecil dari 13\n",
            "Angka 5.5 lebih kecil dari 13\n",
            "Angka 6.5 lebih kecil dari 13\n",
            "Angka 7.5 lebih kecil dari 13\n",
            "Angka 8.5 lebih kecil dari 13\n",
            "Angka 9.5 lebih kecil dari 13\n",
            "Angka 10.5 lebih kecil dari 13\n",
            "Angka 11.5 lebih kecil dari 13\n",
            "Angka 12.5 lebih kecil dari 13\n"
          ]
        }
      ],
      "source": [
        "# Latihan While Loop 4\n",
        "\n",
        "# Mendefinisikan sebuah variabel\n",
        "N_03 = 0.5\n",
        "\n",
        "# Melakukan perintah while loop\n",
        "while 0 < N_03 < 13:\n",
        "# Interval angka pada perintah while harus sesuai dengan variabel\n",
        "# Karena variabel bernilai 0.5 yang artinya lebih dari 0\n",
        "  print(\"Angka \" + str(N_03) + \" lebih kecil dari 13\")\n",
        "  N_03 += 1\n",
        "\n",
        "# Tipe data str pada perintah print agar membaca seluruh bilangan baik desimal maupun bilangan bulat\n",
        "# Perintah N_03 += 1 digunakan untuk menambahkan nilai N_03 dengan 1 pada setiap loop dijalankan\n",
        "# Karena variabel N_03 = 0.5 maka jika ditambah 1 hasilnya adalah 1.5 kemudian ditambah 1 hasilnya 2.5 dan seterusnya\n",
        "# Dapat dilihat pengulangan terus terjadi dan akhirnya berhenti di nilai terakhir yang lebih kecil dari 13, yaitu 12.5 \n",
        "# karena pada 12.5 lah batas akhir yang akan bernilai \"True\""
      ]
    },
    {
      "cell_type": "code",
      "execution_count": 6,
      "metadata": {
        "id": "eqCzqi82HHKQ"
      },
      "outputs": [],
      "source": [
        "# Latihan While Loop 5\n",
        "\n",
        "# Mendefinisikan sebuah variabel\n",
        "N_03 = 0.5\n",
        "\n",
        "# Melakukan perintah while loop\n",
        "while 1 < N_03 < 13:\n",
        "  print(\"Angka \" + str(N_03) + \" lebih kecil dari 13\")\n",
        "  N_03 += 1\n",
        "\n",
        "# Kode ini sudah benar namun tidak akan menghasilkan output\n",
        "# Karena interval angka pada perintah while harus sesuai dengan variabel\n",
        "# Karena variabel bernilai 0.5 yang artinya lebih dari 0 \n",
        "# sedangkan perintah while adalah 1 < N_03 < 13.    ### 0.5 tidak lebih besar dari 1"
      ]
    },
    {
      "cell_type": "code",
      "execution_count": 7,
      "metadata": {
        "colab": {
          "base_uri": "https://localhost:8080/"
        },
        "id": "IpcgMkbs0wmJ",
        "outputId": "e15104a1-cbc8-4bfe-e32b-e181c86a0d35"
      },
      "outputs": [
        {
          "output_type": "stream",
          "name": "stdout",
          "text": [
            "Masukkan bilangan bulat : 81\n",
            "Bilangan dapat dibagi 3 sebanyak  4  kali\n"
          ]
        }
      ],
      "source": [
        "# Latihan While Loop 6\n",
        "\n",
        "# Mendefinisikan variabel\n",
        "bilangan_03 = int(input(\"Masukkan bilangan bulat : \"))\n",
        "pengali_03 = 0\n",
        "\n",
        "# Melakukan perintah while loop\n",
        "while bilangan_03 % 3 == 0:\n",
        "  pengali_03 += 1\n",
        "  bilangan_03 //= 3\n",
        "# Karena kita meminta untuk bilangan yang dapat dibagi 3 maka artinya setiap bilangan yang dibagi 3 akan memiliki sisa bagi = 0\n",
        "print (\"Bilangan dapat dibagi 3 sebanyak \", pengali_03, \" kali\")\n",
        "# Kita memasukkan bilangan 81. Dimana 81 dibagi 3 adalah 27. \n",
        "# Lalu 27 dapat dibagi 3 lagi menjadi 9. 9 dibagi 3 lagi menghasilkan 3. 3 dibagi 3 lagi menjadi 1\n",
        "# Maka ada sebanyak 4 kali dimana bilangan 81 dapat dibagi 3"
      ]
    },
    {
      "cell_type": "code",
      "execution_count": 8,
      "metadata": {
        "colab": {
          "base_uri": "https://localhost:8080/"
        },
        "id": "eqFl3PwX5jX6",
        "outputId": "bab938c6-d092-4e80-f5b3-831a0ff4d549"
      },
      "outputs": [
        {
          "output_type": "stream",
          "name": "stdout",
          "text": [
            "\n",
            ".\n",
            "..\n",
            "...\n",
            "....\n",
            ".....\n",
            "......\n",
            ".......\n"
          ]
        }
      ],
      "source": [
        "# Latihan While Loop 7\n",
        "\n",
        "# Mendefinisikan sebuah variabel\n",
        "a_03 = 0\n",
        "\n",
        "# Melakukan perintah while loop\n",
        "while a_03 < 8:\n",
        "  print(a_03 * \".\")\n",
        "  a_03 += 1\n",
        "\n",
        "# Perintah a_03 += 1 digunakan untuk menambahkan nilai a_03 dengan 1 pada setiap loop dijalankan\n",
        "# Urutan awal ialah a_03 = 0 sehingga urutan awal akan ada 0 titik\n",
        "# Kemudian 0 + 1 = 1 diurutan kedua. 1 + 1 = 2 di urutan ketiga dan seterusnya\n",
        "# Perulangan akan berhenti disaat jumlah \".\" kurang dari 8 (seuai kondisi while yang diminta)"
      ]
    },
    {
      "cell_type": "code",
      "execution_count": 9,
      "metadata": {
        "colab": {
          "base_uri": "https://localhost:8080/"
        },
        "id": "5hCxMONP-3aD",
        "outputId": "d2406a2f-c8e6-4a0c-ebcf-1cc765310c42"
      },
      "outputs": [
        {
          "output_type": "stream",
          "name": "stdout",
          "text": [
            "................\n",
            "...............\n",
            "..............\n",
            ".............\n",
            "............\n",
            "...........\n",
            "..........\n",
            ".........\n",
            "........\n",
            ".......\n",
            "......\n",
            ".....\n",
            "....\n",
            "...\n",
            "..\n"
          ]
        }
      ],
      "source": [
        "# Latihan While Loop 8\n",
        "\n",
        "# Mendefinisikan sebuah variabel\n",
        "a_03 = 16\n",
        "\n",
        "# Melakukan perintah while loop\n",
        "while a_03 > 1:\n",
        "  print(a_03 * \".\")\n",
        "  a_03 -= 1\n",
        "\n",
        "# Perintah a_03 -= 1 digunakan untuk mengurangkan nilai a_03 dengan 1 pada setiap loop dijalankan\n",
        "# Urutan awal ialah a_03 = 16 sehingga urutan awal akan ada 16 titik\n",
        "# Kemudian 16 - 1 = 15 diurutan kedua, 15 - 1 = 14 diurutan ketiga dan seterusnya\n",
        "# Perulangan akan berhenti disaat jumlah \".\" lebih dari 1 (sesuai kondisi while yang diminta)"
      ]
    },
    {
      "cell_type": "code",
      "execution_count": 10,
      "metadata": {
        "colab": {
          "base_uri": "https://localhost:8080/"
        },
        "id": "YQ2kbn2uAr5o",
        "outputId": "b3db7889-5797-4fdc-a7c8-3af83ed1b2c4"
      },
      "outputs": [
        {
          "output_type": "stream",
          "name": "stdout",
          "text": [
            "Hello!\n",
            "Hello!\n",
            "Hello!\n",
            "Hello!\n",
            "Hello!\n",
            "Hello!\n",
            "Hello!\n"
          ]
        }
      ],
      "source": [
        "# Latihan While Loop 9\n",
        "\n",
        "# Mendefinisikan sebuah variabel\n",
        "x_03 = 0\n",
        "\n",
        "# Melakukan perintah while loop\n",
        "while x_03 < 7:\n",
        "  print(\"Hello!\")\n",
        "  x_03 += 1\n",
        "\n",
        "# Disini akan menampilkan output berupa perulangan kata \"Hello!\" sebanyak kurang dari 7 (seusai kondisi yang diminta)\n",
        "# Harap diperhatikan, bahwa urutan pertama adalah x_03 = 0 sehingga kata \"Hello!\" di urutan awal dihitung dari 0\n",
        "# Sehingga meskipun kita lihat pada output banyak kata \"Hello!\" ada 7, tetapi karena dihitung dari 0, maka banyak kata \"Hello!\" sebenarnya adalah 6"
      ]
    },
    {
      "cell_type": "code",
      "source": [
        "# Latihan While Loop 10\n",
        "\n",
        "# Mendefinisikan sebuah variabel\n",
        "x_03 = 0\n",
        "\n",
        "# Melakukan perintah while loop\n",
        "while x_03 < 7:\n",
        "  print(\"Hello!\")\n",
        "  x_03 -= 1\n",
        "\n",
        "# Perintah di atas akan terus berjalan tanpa henti dan menghasilkan error\n",
        "# Karena kondisi while yang diminta x_03 < 7 dan  operasi x_03 -= 1 akan selalu berkurang hingga menjadi nilai negatif \n",
        "# sehingga akan selalu \"True\" dan tidak pernah mencapai kondisi berhenti\n",
        "# Ini disebut sebagai infinite loop atau loop tak terbatas\n",
        "\n",
        "# Disini sengaja tidak saya jalankan karena outputnya akan sangat panjang dan nantinya akan memperlama waktu bapak dalam menscroll tugas saya"
      ],
      "metadata": {
        "id": "-ZcDTAOLHZbK"
      },
      "execution_count": null,
      "outputs": []
    },
    {
      "cell_type": "markdown",
      "source": [
        "#**5.11 List**\n",
        "\n",
        "\n",
        "---"
      ],
      "metadata": {
        "id": "S2skgoYJEful"
      }
    },
    {
      "cell_type": "markdown",
      "source": [
        "List adalah jenis tipe data yang digunakan untuk menyimpan koleksi data berupa angka ataupun string yang terurut dan dapat diubah-ubah. List bersifat dinamis yang artinya elemen pada list dapat ditambahkan, diubah, dan dihapus. List pada Python didefinisikan dengan kurung siku \"[  ]\" dan elemennya dipisahkan dengan tanda koma."
      ],
      "metadata": {
        "id": "x_nhNlbIEm2O"
      }
    },
    {
      "cell_type": "code",
      "execution_count": 11,
      "metadata": {
        "id": "7W2dA-tnPGMv",
        "colab": {
          "base_uri": "https://localhost:8080/",
          "height": 235
        },
        "outputId": "6235dc54-63d7-4fd8-b9b2-63e061e22260"
      },
      "outputs": [
        {
          "output_type": "error",
          "ename": "NameError",
          "evalue": "ignored",
          "traceback": [
            "\u001b[0;31m---------------------------------------------------------------------------\u001b[0m",
            "\u001b[0;31mNameError\u001b[0m                                 Traceback (most recent call last)",
            "\u001b[0;32m<ipython-input-11-e4d05c75d680>\u001b[0m in \u001b[0;36m<cell line: 5>\u001b[0;34m()\u001b[0m\n\u001b[1;32m      3\u001b[0m \u001b[0;31m# Menyimpan daftar huruf dalam sebuah list dan menampilkan elemen-elemennya\u001b[0m\u001b[0;34m\u001b[0m\u001b[0;34m\u001b[0m\u001b[0m\n\u001b[1;32m      4\u001b[0m \u001b[0;31m# Mendefinisikan suatu variabel\u001b[0m\u001b[0;34m\u001b[0m\u001b[0;34m\u001b[0m\u001b[0m\n\u001b[0;32m----> 5\u001b[0;31m \u001b[0mhuruf_03\u001b[0m \u001b[0;34m=\u001b[0m \u001b[0;34m[\u001b[0m\u001b[0maa\u001b[0m\u001b[0;34m,\u001b[0m \u001b[0mii\u001b[0m\u001b[0;34m,\u001b[0m \u001b[0muu\u001b[0m\u001b[0;34m,\u001b[0m \u001b[0mee\u001b[0m\u001b[0;34m,\u001b[0m \u001b[0moo\u001b[0m\u001b[0;34m]\u001b[0m\u001b[0;34m\u001b[0m\u001b[0;34m\u001b[0m\u001b[0m\n\u001b[0m\u001b[1;32m      6\u001b[0m \u001b[0mprint\u001b[0m\u001b[0;34m(\u001b[0m\u001b[0mhuruf_03\u001b[0m\u001b[0;34m)\u001b[0m\u001b[0;34m\u001b[0m\u001b[0;34m\u001b[0m\u001b[0m\n\u001b[1;32m      7\u001b[0m \u001b[0;34m\u001b[0m\u001b[0m\n",
            "\u001b[0;31mNameError\u001b[0m: name 'aa' is not defined"
          ]
        }
      ],
      "source": [
        "# Latihan List 1\n",
        "\n",
        "# Menyimpan daftar huruf dalam sebuah list dan menampilkan elemen-elemennya\n",
        "# Mendefinisikan suatu variabel\n",
        "huruf_03 = [aa, ii, uu, ee, oo]\n",
        "print(huruf_03)\n",
        "\n",
        "# Disini akan terjadi error karena elemen-elemen pada variabelnya tidak terdefinisi/tidak dikenali\n",
        "# Ini karena elemen-elemennya tidak menggunakan tanda petik, baik petik satu ataupun petik dua"
      ]
    },
    {
      "cell_type": "code",
      "source": [
        "# Latihan List 2\n",
        "\n",
        "# Menyimpan daftar huruf dalam sebuah list dan menampilkan elemen-elemennya\n",
        "# Mendefinisikan suatu variabel\n",
        "huruf_03 = [\"aa\", \"ii\", \"uu\", \"ee\", \"oo\"]\n",
        "print(huruf_03)\n",
        "\n",
        "# Tidak lagi terjadi error karena elemen-elemen pada variabel sudah didefinisikan dengan meggunakan tanda petik\n",
        "# Tanda petik pada Python berguna untuk menandai suatu karakter maupun string\n",
        "# Jadi harus diingat untuk menggunakan tanda petik baik tanda petik dua ataupun tanda petik satu"
      ],
      "metadata": {
        "colab": {
          "base_uri": "https://localhost:8080/"
        },
        "id": "HZz2qYE-FnoJ",
        "outputId": "a7a8d219-7559-467d-e8bc-3890316f2822"
      },
      "execution_count": 12,
      "outputs": [
        {
          "output_type": "stream",
          "name": "stdout",
          "text": [
            "['aa', 'ii', 'uu', 'ee', 'oo']\n"
          ]
        }
      ]
    },
    {
      "cell_type": "code",
      "source": [
        "# Latihan List 3\n",
        "\n",
        "# Menampilkan elemen pada list dengan index\n",
        "# Mendefinisikan variabel\n",
        "negara_03 = [\"Australia\", \"Jepang\", \"Indonesia\", \"Belgia\", \"Filipina\"]\n",
        "print(negara_03[3])\n",
        "print(negara_03[-4])\n",
        "\n",
        "# Karena list berisikan elemen maka index pada list akan mencari posisi elemen\n",
        "# Ingat kembali string index\n",
        "# Pada string index jika index bilangan positif maka dihitung dari depan dan dimulai dari 0\n",
        "# Jika index bilangan negatif maka dihitung dari belakang dan dimulai dari -1\n",
        "# Maka outputnya pasti \"Belgia\" dan \"Jepang\""
      ],
      "metadata": {
        "colab": {
          "base_uri": "https://localhost:8080/"
        },
        "id": "eJ8lPDuDFS9j",
        "outputId": "035ee1f5-e685-4d7d-d699-bf79da2c08bb"
      },
      "execution_count": 13,
      "outputs": [
        {
          "output_type": "stream",
          "name": "stdout",
          "text": [
            "Belgia\n",
            "Jepang\n"
          ]
        }
      ]
    },
    {
      "cell_type": "code",
      "source": [
        "# Latihan List 4\n",
        "\n",
        "# Menampilkan elemen-elemen pada list dengan index\n",
        "print(negara_03[1:3])\n",
        "\n",
        "# Ingat kembali string index\n",
        "# Jika kita menginginkan print dengan interval index tertentu, maka outputnya berupa elemen sesuai interval index \n",
        "# namun akan dikurangi 1 elemen dari belakang\n",
        "# Sehingga jika kita hitung 1 sampai 3 seharusnya Jepang, Indonesia, Belgia\n",
        "# Namun karena dikurangi 1 dari belakang, maka outpunya akan menjadi Jepang, Indonesia"
      ],
      "metadata": {
        "colab": {
          "base_uri": "https://localhost:8080/"
        },
        "id": "EAPGdkNRIHIX",
        "outputId": "a89b7f45-d661-43de-bb29-96c4f1c68902"
      },
      "execution_count": 14,
      "outputs": [
        {
          "output_type": "stream",
          "name": "stdout",
          "text": [
            "['Jepang', 'Indonesia']\n"
          ]
        }
      ]
    },
    {
      "cell_type": "code",
      "source": [
        "# Latihan List 5\n",
        "\n",
        "# Mengubah suatu elemen pada list\n",
        "negara_03[0] = \"Vietnam\"\n",
        "print(negara_03)\n",
        "# Disini kita akan mengubah elemen pertama pada list yaitu \"Australia\" menjadi \"Vietnam\"\n",
        "# Ingat kembali pada string index, index 0 merupakan urutan pertama\n",
        "\n",
        "negara_03[3] = \"Laos\"\n",
        "print(negara_03)\n",
        "# Disini kita akan mengubah elemen keempat pada list yaitu \"Belgia\" menjadi \"Laos\"\n",
        "# Dimana list yang akan diubah adalah list yang elemen sebelumnya telah diubah\n",
        "# Mengapa begitu? karena perintah mengubah index 0 yang terlbih dahulu dijalankan dan Python merekam data terbaru"
      ],
      "metadata": {
        "colab": {
          "base_uri": "https://localhost:8080/"
        },
        "id": "TwcEPPLKJm5J",
        "outputId": "b2d2ae79-e581-4ec7-e3a8-1e97f668f05d"
      },
      "execution_count": 15,
      "outputs": [
        {
          "output_type": "stream",
          "name": "stdout",
          "text": [
            "['Vietnam', 'Jepang', 'Indonesia', 'Belgia', 'Filipina']\n",
            "['Vietnam', 'Jepang', 'Indonesia', 'Laos', 'Filipina']\n"
          ]
        }
      ]
    },
    {
      "cell_type": "code",
      "source": [
        "# Latihan List 6\n",
        "\n",
        "print(negara_03)\n",
        "\n",
        "# Tidak akan mengubah apapun\n",
        "# Perintah ini sama dengan perintah pada latihan list 2 yang hanya menampilkan elemen-elemen list"
      ],
      "metadata": {
        "colab": {
          "base_uri": "https://localhost:8080/"
        },
        "id": "rqwKcfhHJgDj",
        "outputId": "427dbf07-0189-4817-dee4-c4af11a76a80"
      },
      "execution_count": 16,
      "outputs": [
        {
          "output_type": "stream",
          "name": "stdout",
          "text": [
            "['Vietnam', 'Jepang', 'Indonesia', 'Laos', 'Filipina']\n"
          ]
        }
      ]
    },
    {
      "cell_type": "markdown",
      "source": [
        "# **5.13 Metoda List**\n",
        "\n",
        "\n",
        "---"
      ],
      "metadata": {
        "id": "8vEWbPbgNJi5"
      }
    },
    {
      "cell_type": "markdown",
      "source": [
        "Methoda list pada Python merupakan kumpulan dari fungsi-fungsi yang dapat digunakan untuk memanipulasi list"
      ],
      "metadata": {
        "id": "tfDM67EkPOOa"
      }
    },
    {
      "cell_type": "code",
      "source": [
        "# Latihan Metoda List 1\n",
        "\n",
        "# Mendefinisikan variabel\n",
        "warna_03 = [\"hitam\", \"biru\", \"merah\", \"cokelat\"]\n",
        "\n",
        "warna_03.append(\"hijau\")      # append digunakan untuk menambahkan elemen baru pada akhir list\n",
        "print(warna_03)\n",
        "# Output disini nanti akan bertambah satu di belakang, yaitu \"hijau\"\n",
        "\n",
        "warna_03.insert(2, \"ungu\")    # insert digunakan untuk menambahkan elemen baru pada index tertentu didalam list\n",
        "print(warna_03)\n",
        "# Output disini akan bertambah satu elemen, yaitu \"ungu\" pada index 2 atau elemen ke 3\n",
        "# Ingat! index dimulai dari 0 jika dari depan, dan 0 dihitung sebagai urutan pertama\n",
        "\n",
        "warna_03.remove(\"cokelat\")    # remove digunakan untuk menghapus elemen tertentu\n",
        "print(warna_03)\n",
        "# Disini kita akan menghilangkan/menghapus \"cokelat\" dari list"
      ],
      "metadata": {
        "colab": {
          "base_uri": "https://localhost:8080/"
        },
        "id": "bk0oXGA7NaKU",
        "outputId": "1d98f096-5e71-434d-edd8-55698b84fd3c"
      },
      "execution_count": 17,
      "outputs": [
        {
          "output_type": "stream",
          "name": "stdout",
          "text": [
            "['hitam', 'biru', 'merah', 'cokelat', 'hijau']\n",
            "['hitam', 'biru', 'ungu', 'merah', 'cokelat', 'hijau']\n",
            "['hitam', 'biru', 'ungu', 'merah', 'hijau']\n"
          ]
        }
      ]
    },
    {
      "cell_type": "code",
      "source": [
        "# Latihan Metoda List 2\n",
        "\n",
        "# Mencari keberadaan elemen pada suatu list\n",
        "# Nilai akan \"True\" jika merupakan elemen dalam list dan \"False jika bukan elemen dari list\n",
        "print(\"kuning\" in warna_03)\n",
        "# Ini akan bernilai \"False\" karena kuning tidak ada atau bukan elemen dari list\n",
        "\n",
        "print(\"\\nKita bandingkan dengan hasil di bawah ini \\n\")\n",
        "\n",
        "print(\"hitam\" in warna_03)\n",
        "print(\"Hitam\" in warna_03)     # Bernilai false karena perbedaan penggunaan huruf sehingga tidak terbaca ada di dalam list\n",
        "\n",
        "# Ingat! Python sensitif terhadap penggunaan huruf kapital dan huruf kecil"
      ],
      "metadata": {
        "colab": {
          "base_uri": "https://localhost:8080/"
        },
        "id": "-KU823F8PMTW",
        "outputId": "464d83b3-7ab8-4530-ad99-5d22a1728ec1"
      },
      "execution_count": 18,
      "outputs": [
        {
          "output_type": "stream",
          "name": "stdout",
          "text": [
            "False\n",
            "\n",
            "Kita bandingkan dengan hasil di bawah ini \n",
            "\n",
            "True\n",
            "False\n"
          ]
        }
      ]
    },
    {
      "cell_type": "code",
      "source": [
        "# Latihan Metoda List 3\n",
        "\n",
        "# Mencari jumlah/panjang elemen suatu list menggunakan fungsi len()\n",
        "print(len(warna_03))\n",
        "# Outputnya akan bernilai 5 karena jumlah elemen dalam list warna_03 ada 5, yaitu [\"hitam, \"biru\", \"ungu\", merah\", \"hijau\"]"
      ],
      "metadata": {
        "colab": {
          "base_uri": "https://localhost:8080/"
        },
        "id": "BnW2Pd0IRH6B",
        "outputId": "dedb845d-79df-4384-8085-e2a0a01b5e4a"
      },
      "execution_count": 19,
      "outputs": [
        {
          "output_type": "stream",
          "name": "stdout",
          "text": [
            "5\n"
          ]
        }
      ]
    },
    {
      "cell_type": "markdown",
      "source": [
        "# **5.14 For Loop**\n",
        "\n",
        "\n",
        "---"
      ],
      "metadata": {
        "id": "KQEJrYrRVnma"
      }
    },
    {
      "cell_type": "markdown",
      "source": [
        "For loop pada Python digunakan untuk mengulangi sebuah blok kode atau serangkaian pernyataan sejumlah kali. Blok kode ini akan dieksekusi satu kali untuk setiap item dalam urutan"
      ],
      "metadata": {
        "id": "e7fsd93bVsFk"
      }
    },
    {
      "cell_type": "code",
      "source": [
        "# Iterasi/loop melalui sebuah list\n",
        "# Mendefinisikan variabel\n",
        "musik_03 = [\"jazz\", \"rnb\", \"pop\", \"classic\", \"country\", \"rock\"]\n",
        "for genre_03 in musik_03:\n",
        "  print(genre_03)"
      ],
      "metadata": {
        "colab": {
          "base_uri": "https://localhost:8080/"
        },
        "id": "ZPkfGzlzWl6_",
        "outputId": "66aa7304-bd54-4c2c-bf9d-3b47e2ab633d"
      },
      "execution_count": 20,
      "outputs": [
        {
          "output_type": "stream",
          "name": "stdout",
          "text": [
            "jazz\n",
            "rnb\n",
            "pop\n",
            "classic\n",
            "country\n",
            "rock\n"
          ]
        }
      ]
    },
    {
      "cell_type": "code",
      "source": [
        "# Latihan For Loop 3\n",
        "\n",
        "x_03 = 2    # Akan diambil index 1 dari list atau elemen kedua\n",
        "musik_03 = [\"jazz\", \"rnb\", \"pop\", \"classic\", \"country\", \"rock\"]\n",
        "while x_03 < len(musik_03):\n",
        "  print(musik_03[x_03])\n",
        "  x_03 += 2   # perintah x_03 += 2 digunakan untuk menambahkan nilai x_03 dengan 2 pada setiap loop dijalankan\n",
        "# Sehingga outputnya adalah index 2 yaitu \"pop\" dan mengambil elemen lain yang saling berjarak 2, yaitu \"country\"\n",
        "# Loop akan berhenti di \"country\" karena itu adalah elemen akhir list yang memenuhi kondisi while"
      ],
      "metadata": {
        "colab": {
          "base_uri": "https://localhost:8080/"
        },
        "id": "kJY1eI3NXYiG",
        "outputId": "88f39b1e-8054-491e-afa7-d33b8608013c"
      },
      "execution_count": 21,
      "outputs": [
        {
          "output_type": "stream",
          "name": "stdout",
          "text": [
            "pop\n",
            "country\n"
          ]
        }
      ]
    },
    {
      "cell_type": "code",
      "source": [
        "# Latihan For Loop 4\n",
        "\n",
        "# Kita juga bisa mengurutkan string secara vertikal atau satu-satu ke bawah\n",
        "# Iterasi/loop melalui sebuah string\n",
        "band_03 = \"The 1975\"      # Ini berbentuk string\n",
        "for favo in band_03:\n",
        "  print(favo)\n",
        "\n",
        "print(\"\\n hasilnya akan sama seperti bentuk dibawah ini \\n\")\n",
        "\n",
        "band_03 = [\"T\", \"h\", \"e\", \" \", \"1\", \"9\", \"7\", \"5\"]      # Ini berbentuk list dengan 8 elemen\n",
        "for favo in band_03:\n",
        "  print(favo)\n",
        "\n",
        "print(\"\\n Kita bandingkan dengan bentuk di bawah ini \\n\")\n",
        "\n",
        "band_03 = [\"The 1975\"]       # Ini berbentuk list dengan 1 elemen\n",
        "for favo in band_03:\n",
        "  print(favo)\n",
        "\n",
        "print (\"\\n\")\n",
        "\n",
        "band_03 = [\"The\", \"1975\"]       # Ini berbentuk list dengan 2 elemen\n",
        "for favo in band_03:\n",
        "  print(favo)\n",
        "\n",
        "# Dapat kita simpulkan pada \"The 1975\" setiap huruf penyusun kata itu dihitung sebagai index karena berbentuk string, \n",
        "# berbeda dengan list yang indexnya dihitung dari setiap elemen (kata) penyusun list"
      ],
      "metadata": {
        "colab": {
          "base_uri": "https://localhost:8080/"
        },
        "id": "zA5QJrxbZ2X4",
        "outputId": "93780d94-3016-4d8c-e900-8a2e2cd36626"
      },
      "execution_count": 22,
      "outputs": [
        {
          "output_type": "stream",
          "name": "stdout",
          "text": [
            "T\n",
            "h\n",
            "e\n",
            " \n",
            "1\n",
            "9\n",
            "7\n",
            "5\n",
            "\n",
            " hasilnya akan sama seperti bentuk dibawah ini \n",
            "\n",
            "T\n",
            "h\n",
            "e\n",
            " \n",
            "1\n",
            "9\n",
            "7\n",
            "5\n",
            "\n",
            " Kita bandingkan dengan bentuk di bawah ini \n",
            "\n",
            "The 1975\n",
            "\n",
            "\n",
            "The\n",
            "1975\n"
          ]
        }
      ]
    },
    {
      "cell_type": "code",
      "source": [
        "# Latihan For Loop 5\n",
        "\n",
        "# Iterasi/loop melalui sebuah dictionary\n",
        "data_03 = {\"nama\": \"Naftalia Sophiana Purba\", \"jenis kelamin\": \"Perempuan\", \"hobi\": \"berenang,bernyanyi\"}   \n",
        "# Elemen list dipisahkan dengan tanda koma (,)\n",
        "# Sehingga dari list ini diketahui ada 3 elemen\n",
        "for saya_03, value in data_03.items():\n",
        "  print(saya_03 + \" : \" + str(value))"
      ],
      "metadata": {
        "colab": {
          "base_uri": "https://localhost:8080/"
        },
        "id": "GxvMT2MSbEVR",
        "outputId": "4370e3e1-909c-435e-a0be-e22e21c0936a"
      },
      "execution_count": 23,
      "outputs": [
        {
          "output_type": "stream",
          "name": "stdout",
          "text": [
            "nama : Naftalia Sophiana Purba\n",
            "jenis kelamin : Perempuan\n",
            "hobi : berenang,bernyanyi\n"
          ]
        }
      ]
    },
    {
      "cell_type": "markdown",
      "source": [
        "# **5.15 Fungsi Range**\n",
        "\n",
        "\n",
        "---"
      ],
      "metadata": {
        "id": "I1onG2rUZFCu"
      }
    },
    {
      "cell_type": "markdown",
      "source": [
        "Fungsi range berguna untuk membangkitkan bilangan berurutan atau berpola yang kita inginkan. Untuk menuliskannnya dikombinasikan dengan for loop."
      ],
      "metadata": {
        "id": "2_dC2PFWfwxM"
      }
    },
    {
      "cell_type": "code",
      "source": [
        "# Latihan Fungsi Range 1\n",
        "\n",
        "angka_03 = range(4)\n",
        "print(angka_03)\n",
        "\n",
        "angka_03 = range(2, 6)\n",
        "print(angka_03)\n",
        "\n",
        "# Dapat disimpulkan bahwa range(a,b) jika a tidak diberitahu maka a akan dibuat 0"
      ],
      "metadata": {
        "colab": {
          "base_uri": "https://localhost:8080/"
        },
        "id": "n3PhEh37gSS3",
        "outputId": "d86ba3f9-8765-4d88-f34c-2e39b3115d56"
      },
      "execution_count": 24,
      "outputs": [
        {
          "output_type": "stream",
          "name": "stdout",
          "text": [
            "range(0, 4)\n",
            "range(2, 6)\n"
          ]
        }
      ]
    },
    {
      "cell_type": "code",
      "source": [
        "# Latihan Fungsi Range 2\n",
        "\n",
        "# Menghasilkan urutan bilangan bulat dari 2 sampai 5\n",
        "for isi_03 in range(2, 6):     # 6 disini adalah nilai akhir. tetapi range 6 tidak menjadi output melainkan hanya sampai 5\n",
        "  print(isi_03)\n",
        "\n",
        "print(\"\\n\")\n",
        "\n",
        "# Menghasilkan urutan bilangan bulat dari 0 sampai 5\n",
        "for isi_03 in range(6):\n",
        "  print(isi_03)\n",
        "\n",
        "# Berdasarkan output dari perintah diatas dapat disimpulkan bahwa\n",
        "# range(a,b) jika a tidak diketahui maka dianggap 0, dan b adalah nilai akhir yang dikurangi 1"
      ],
      "metadata": {
        "colab": {
          "base_uri": "https://localhost:8080/"
        },
        "id": "_swEdZEMgcCj",
        "outputId": "2e68762a-af63-46d6-dafa-8da02ad234ea"
      },
      "execution_count": 25,
      "outputs": [
        {
          "output_type": "stream",
          "name": "stdout",
          "text": [
            "2\n",
            "3\n",
            "4\n",
            "5\n",
            "\n",
            "\n",
            "0\n",
            "1\n",
            "2\n",
            "3\n",
            "4\n",
            "5\n"
          ]
        }
      ]
    },
    {
      "cell_type": "code",
      "source": [
        "# Latihan Fungsi Range 3\n",
        "\n",
        "# Menghasilkan urutan bilangan bulat dari 1 sampai 15 dengan increment 1\n",
        "for isi_03 in range(1, 16, 3):    # 3 disini adalah nilai increment antara setiap nilai dalam urutan\n",
        "  print(isi_03)\n",
        "\n",
        "# Outputnya akan berupa kelipatan 3 dari 1 sampai 15 karena nilai increment memiliki arti nilai kenaikan/kelipatan"
      ],
      "metadata": {
        "colab": {
          "base_uri": "https://localhost:8080/"
        },
        "id": "vzuouz5vhSoL",
        "outputId": "cd1ae6fb-b528-4a50-977a-5749d1cda378"
      },
      "execution_count": 26,
      "outputs": [
        {
          "output_type": "stream",
          "name": "stdout",
          "text": [
            "1\n",
            "4\n",
            "7\n",
            "10\n",
            "13\n"
          ]
        }
      ]
    },
    {
      "cell_type": "code",
      "source": [
        "# Latihan Fungsi Range 3\n",
        "\n",
        "# Menghasilkan urutan bilangan bulat dari 1 sampai 15 dengan increment 1\n",
        "for isi_03 in range(1, 3, -2):    # -2 disini adalah nilai increment antara setiap nilai dalam urutan\n",
        "  print(isi_03)\n",
        "# Bisa dilihat Python tidak memungkinkan increment untuk memiliki nilai negatif\n",
        "# Karena increment menentukan seberapa banyak nilai yang ditambahkan pada setiap iterasi\n",
        "# Sehingga jika increment negatif maka iterasi/loop akan mundur ke belakang"
      ],
      "metadata": {
        "id": "1X8CE_pNM2ES"
      },
      "execution_count": 43,
      "outputs": []
    },
    {
      "cell_type": "code",
      "source": [
        "# Namun jika ingin mengggunakan fungsi range dengan nilai increment negatif, kita bisa menggabungkannya dengan fungsi reversed()\n",
        "for isi_03 in reversed(range(2,20,4)):      # Increment disini tidak perlu memakai tanda min (-) sudah otomatis menghitung mundur\n",
        "  print(isi_03)\n",
        "\n",
        "# Outputnya akan berupa penurunan dengan kelipatan 4 dari 14 sampai 2\n",
        "# Dengan nilai awalnya adalah 20-2 yaitu 18\n",
        "print(\"Bandingkan dengan output dibawah ini\")\n",
        "\n",
        "for isi_03 in reversed(range(4,20,4)):      # Increment disini tidak perlu memakai tanda min (-) sudah otomatis menghitung mundur\n",
        "  print(isi_03)\n",
        "\n",
        "# Sehingga ditarik kesimpulan bahwa range(a,b,c) dengan reversed() akan menghasilkan bilangan dengan urutan awal b-a lalu di increment oleh c"
      ],
      "metadata": {
        "colab": {
          "base_uri": "https://localhost:8080/"
        },
        "id": "vFisvAJKN72D",
        "outputId": "58a76de5-9311-42a1-a8d9-5cbb5b428b36"
      },
      "execution_count": 63,
      "outputs": [
        {
          "output_type": "stream",
          "name": "stdout",
          "text": [
            "18\n",
            "14\n",
            "10\n",
            "6\n",
            "2\n",
            "Bandingkan dengan output dibawah ini\n",
            "16\n",
            "12\n",
            "8\n",
            "4\n"
          ]
        }
      ]
    },
    {
      "cell_type": "code",
      "source": [
        "# Latihan Fungsi Range 4\n",
        "\n",
        "# Mendefinisikan variabel\n",
        "angka_03 = [1,1,2,2,3,4,5,3,4,6,7,4,5]\n",
        "terkecil = angka_03[0]\n",
        "for ANGKA_03 in angka_03:\n",
        "  if ANGKA_03 < terkecil:\n",
        "    terkecil = ANGKA_03\n",
        "print(terkecil)\n",
        "\n",
        "# Akan mencari bilangan terkecil dalam suatu list"
      ],
      "metadata": {
        "colab": {
          "base_uri": "https://localhost:8080/"
        },
        "id": "KxzfV_9IKASc",
        "outputId": "b1dfdb77-32b8-40ca-8b13-4311ba6efbd8"
      },
      "execution_count": 35,
      "outputs": [
        {
          "output_type": "stream",
          "name": "stdout",
          "text": [
            "1\n"
          ]
        }
      ]
    },
    {
      "cell_type": "code",
      "source": [
        "# Latihan Fungsi Range 5\n",
        "# Membuat anggota list menjadi tidak ada yang kembar\n",
        "unik_03 = []      # Disini dibuat list yang kosong untuk menyimpan elemen yang unik\n",
        "for anggota in angka_03:\n",
        "  if anggota not in unik_03:\n",
        "    unik_03.append(anggota)       # Append disini akan menambahkan anggot yang menjadi elemen pada list unik_03\n",
        "print(unik_03)"
      ],
      "metadata": {
        "colab": {
          "base_uri": "https://localhost:8080/"
        },
        "id": "lcpGJ-lUKzwW",
        "outputId": "8361e470-2d24-4ed1-e6e0-c42826ac89b0"
      },
      "execution_count": 36,
      "outputs": [
        {
          "output_type": "stream",
          "name": "stdout",
          "text": [
            "[1, 2, 3, 4, 5, 6, 7]\n"
          ]
        }
      ]
    }
  ],
  "metadata": {
    "colab": {
      "provenance": [],
      "collapsed_sections": [
        "ikpyqdv-vd5X"
      ]
    },
    "kernelspec": {
      "display_name": "Python 3",
      "name": "python3"
    },
    "language_info": {
      "name": "python"
    }
  },
  "nbformat": 4,
  "nbformat_minor": 0
}