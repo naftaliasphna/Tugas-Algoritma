{
  "nbformat": 4,
  "nbformat_minor": 0,
  "metadata": {
    "colab": {
      "provenance": [],
      "authorship_tag": "ABX9TyOD+WKurb3WNtFm8+FU0CrP",
      "include_colab_link": true
    },
    "kernelspec": {
      "name": "python3",
      "display_name": "Python 3"
    },
    "language_info": {
      "name": "python"
    }
  },
  "cells": [
    {
      "cell_type": "markdown",
      "metadata": {
        "id": "view-in-github",
        "colab_type": "text"
      },
      "source": [
        "<a href=\"https://colab.research.google.com/github/naftaliasphna/Tugas-Algoritma/blob/main/2208541003_Naftalia%20Sophiana%20Purba.ipynb\" target=\"_parent\"><img src=\"https://colab.research.google.com/assets/colab-badge.svg\" alt=\"Open In Colab\"/></a>"
      ]
    },
    {
      "cell_type": "code",
      "source": [
        "# Menginput harga beli sebuah tas\n",
        "harga_beli_tas = 1299000\n",
        "\n",
        "# Menginput harga jual sebuah tas\n",
        "harga_jual_tas = 899000\n",
        "\n",
        "print(\"maka mengalami kerugian sebesar \")\n",
        "\n",
        "# Menghitung besar kerugian dalam rupiah\n",
        "kerugian = int(harga_beli_tas) - int(harga_jual_tas)\n",
        "\n",
        "# Menyatakan kerugian dalam rupiah\n",
        "print(str(kerugian))\n",
        "\n",
        "# Menyatakan konjungsi\n",
        "print(\"atau \")\n",
        "\n",
        "# Menghitung besar kerugian dalam persen\n",
        "persentase_kerugian = int(kerugian) / int(harga_beli_tas) * 100\n",
        "\n",
        "# Menyatakan kerugian dalam persen\n",
        "print(str(persentase_kerugian) + \"% \")"
      ],
      "metadata": {
        "colab": {
          "base_uri": "https://localhost:8080/"
        },
        "id": "I68Na-pJiOSV",
        "outputId": "c9560c01-cd4b-45b5-8f5e-25a2188f1784"
      },
      "execution_count": null,
      "outputs": [
        {
          "output_type": "stream",
          "name": "stdout",
          "text": [
            "maka mengalami kerugian sebesar \n",
            "400000\n",
            "atau \n",
            "30.792917628945343% \n"
          ]
        }
      ]
    },
    {
      "cell_type": "code",
      "source": [
        "# Menginput variabel dan nilainya\n",
        "subjek = \"Kami \"\n",
        "predikat = \"pergi \"\n",
        "objek = \"berlibur \"\n",
        "\n",
        "# Membentuk kalimat\n",
        "print(subjek+predikat+objek)"
      ],
      "metadata": {
        "colab": {
          "base_uri": "https://localhost:8080/"
        },
        "id": "Kn-wLXq9ldUo",
        "outputId": "f89595b2-ed23-4423-f853-493add9746f7"
      },
      "execution_count": null,
      "outputs": [
        {
          "output_type": "stream",
          "name": "stdout",
          "text": [
            "Kami pergi berlibur \n"
          ]
        }
      ]
    },
    {
      "cell_type": "code",
      "source": [
        "# Membuat variabel dan menginput nilainya\n",
        "Email = input(\"Email = \")\n",
        "Password = input(\"Password = \")\n",
        "\n",
        "\n",
        "print(\"Sorry \" + Email + \" your password is wrong! \")\n",
        "# Menggunakan spasi setelah tanda (\") pada kalimat (\"your paswword is wrong!\") agar ada jarak antar email dan kalimat tersebut"
      ],
      "metadata": {
        "colab": {
          "base_uri": "https://localhost:8080/"
        },
        "id": "-554IMR3xkJ_",
        "outputId": "43c4865a-53bf-426b-813b-01d5e217972e"
      },
      "execution_count": null,
      "outputs": [
        {
          "output_type": "stream",
          "name": "stdout",
          "text": [
            "Email = naftaliasophiana@gmail.com\n",
            "Password = ********\n",
            "Sorry naftaliasophiana@gmail.com your password is wrong! \n"
          ]
        }
      ]
    },
    {
      "cell_type": "code",
      "source": [
        "# Cara hitung diameter dan jari-jari\n",
        "diameter = input(\"Diameter suatu lingkaran adalah \")\n",
        "jari_jari = int(diameter) / 2\n",
        "print(\"maka jari-jarinya adalah \" + str(jari_jari))\n",
        "\n",
        "# Menginput nilai phi\n",
        "phi = input(\"phi = \")\n",
        "\n",
        "# Menghitung luas lingkaran\n",
        "luas_lingkaran  = float(phi) * int(jari_jari) * int(jari_jari)\n",
        "# phi menggunakan tipe data float karena berbentuk bilangan desimal\n",
        "\n",
        "# Menyatakan luas lingkaran\n",
        "print(\"Luas lingkaran adalah \" + str(luas_lingkaran))"
      ],
      "metadata": {
        "colab": {
          "base_uri": "https://localhost:8080/"
        },
        "id": "FYLDNPWkx3NA",
        "outputId": "cfb55323-5bf7-48d1-9cda-94d31b958593"
      },
      "execution_count": null,
      "outputs": [
        {
          "output_type": "stream",
          "name": "stdout",
          "text": [
            "Diameter suatu lingkaran adalah 6\n",
            "maka jari-jarinya adalah 3.0\n",
            "phi = 3.14\n",
            "Luas lingkaran adalah 28.259999999999998\n"
          ]
        }
      ]
    },
    {
      "cell_type": "code",
      "source": [
        "# Menginput panjang sebuah garis\n",
        "cm = input(\"Sebuah garis memiliki panjang dalam satuan cm yaitu \")\n",
        "\n",
        "# Mengkonversikan cm ke mm\n",
        "print(\"Jika panjang garis tersebut diubah ke dalam mm maka panjang garis tersebut menjadi \")\n",
        "\n",
        "# Menginput rumus konversi cm ke mm\n",
        "mm = int(cm) / 10\n",
        "\n",
        "# Menyatakan hasil\n",
        "print(str(mm))\n",
        "\n",
        "# Terjadi error karena panjang garis yang dimasukkan berupa bilangan desimal yang tidak sesuai dengan type data int\n"
      ],
      "metadata": {
        "colab": {
          "base_uri": "https://localhost:8080/",
          "height": 269
        },
        "id": "Y-k08YhKabor",
        "outputId": "d8e536a3-8eb2-4065-e662-fbe05a4c4220"
      },
      "execution_count": null,
      "outputs": [
        {
          "output_type": "stream",
          "name": "stdout",
          "text": [
            "Sebuah garis memiliki panjang dalam satuan cm yaitu 3.5\n",
            "Jika panjang garis tersebut diubah ke dalam mm maka panjang garis tersebut menjadi \n"
          ]
        },
        {
          "output_type": "error",
          "ename": "ValueError",
          "evalue": "ignored",
          "traceback": [
            "\u001b[0;31m---------------------------------------------------------------------------\u001b[0m",
            "\u001b[0;31mValueError\u001b[0m                                Traceback (most recent call last)",
            "\u001b[0;32m<ipython-input-39-9f17e89d27e0>\u001b[0m in \u001b[0;36m<module>\u001b[0;34m\u001b[0m\n\u001b[1;32m      6\u001b[0m \u001b[0;34m\u001b[0m\u001b[0m\n\u001b[1;32m      7\u001b[0m \u001b[0;31m# Menginput rumus konversi cm ke mm\u001b[0m\u001b[0;34m\u001b[0m\u001b[0;34m\u001b[0m\u001b[0m\n\u001b[0;32m----> 8\u001b[0;31m \u001b[0mmm\u001b[0m \u001b[0;34m=\u001b[0m \u001b[0mint\u001b[0m\u001b[0;34m(\u001b[0m\u001b[0mcm\u001b[0m\u001b[0;34m)\u001b[0m \u001b[0;34m/\u001b[0m \u001b[0;36m10\u001b[0m\u001b[0;34m\u001b[0m\u001b[0;34m\u001b[0m\u001b[0m\n\u001b[0m\u001b[1;32m      9\u001b[0m \u001b[0;34m\u001b[0m\u001b[0m\n\u001b[1;32m     10\u001b[0m \u001b[0;31m# Menyatakan hasil\u001b[0m\u001b[0;34m\u001b[0m\u001b[0;34m\u001b[0m\u001b[0m\n",
            "\u001b[0;31mValueError\u001b[0m: invalid literal for int() with base 10: '3.5'"
          ]
        }
      ]
    }
  ]
}